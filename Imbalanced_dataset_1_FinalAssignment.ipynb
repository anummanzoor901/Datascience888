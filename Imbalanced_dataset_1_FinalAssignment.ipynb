{
  "cells": [
    {
      "cell_type": "markdown",
      "id": "fbc40dfe",
      "metadata": {
        "id": "fbc40dfe"
      },
      "source": [
        "# Data Science Analyzation on Used Car Sales "
      ]
    },
    {
      "cell_type": "markdown",
      "id": "010d81dd",
      "metadata": {
        "id": "010d81dd"
      },
      "source": [
        "This jupitor notebook contains all work done on 1st dataset of imbalanced datasets. \n",
        "\n",
        "The github repository link is: \n",
        "\n",
        "https://github.com/anummanzoor901/Datascience888.git\n",
        "\n",
        "To perform this assignment following steps are followed:\n",
        "\n",
        "1.   Import dataset and insight \n",
        "2.   Making data imbalanced and visualization\n",
        "3.   Preprocessing on the dataset\n",
        "4.   Prediction,training, for this decision tree, xgboost and random forest are used.\n",
        "\n",
        "\n"
      ]
    },
    {
      "cell_type": "markdown",
      "source": [
        "# 1) Import dataset and insight"
      ],
      "metadata": {
        "id": "npy7oETFEbXn"
      },
      "id": "npy7oETFEbXn"
    },
    {
      "cell_type": "markdown",
      "id": "0c3a12bc",
      "metadata": {
        "id": "0c3a12bc"
      },
      "source": [
        "### 1.1) Importing Libraries\n",
        "\n",
        "##### We will start with importing all important libraries and function required for this assignment. "
      ]
    },
    {
      "cell_type": "code",
      "execution_count": 1,
      "id": "0377f7fa",
      "metadata": {
        "id": "0377f7fa",
        "colab": {
          "base_uri": "https://localhost:8080/"
        },
        "outputId": "3cf7a2e2-c948-44c8-97d7-c2b3b0734651"
      },
      "outputs": [
        {
          "output_type": "stream",
          "name": "stderr",
          "text": [
            "/usr/local/lib/python3.7/dist-packages/statsmodels/tools/_testing.py:19: FutureWarning: pandas.util.testing is deprecated. Use the functions in the public API at pandas.testing instead.\n",
            "  import pandas.util.testing as tm\n"
          ]
        }
      ],
      "source": [
        "import pandas as pd\n",
        "import numpy as np\n",
        "import matplotlib.pyplot as plt\n",
        "import seaborn as sns\n",
        "from numpy import median\n",
        "\n",
        "import lightgbm as lgb\n",
        "import xgboost as xgb\n",
        "\n",
        "\n",
        "from sklearn.metrics import mean_squared_error\n",
        "import category_encoders as ce\n",
        "from sklearn.ensemble import RandomForestClassifier"
      ]
    },
    {
      "cell_type": "markdown",
      "id": "04a44fed",
      "metadata": {
        "id": "04a44fed"
      },
      "source": [
        "### 1.2) Analysing Dataset\n",
        "\n",
        "##### First we import dataset and check the insight of it. How many columns, rows, null values etc this dataset contains. "
      ]
    },
    {
      "cell_type": "code",
      "execution_count": 44,
      "id": "f01d120f",
      "metadata": {
        "id": "f01d120f"
      },
      "outputs": [],
      "source": [
        "df=pd.read_csv('/content/usedCarData.csv')"
      ]
    },
    {
      "cell_type": "code",
      "execution_count": 45,
      "id": "94195ebe",
      "metadata": {
        "id": "94195ebe",
        "colab": {
          "base_uri": "https://localhost:8080/",
          "height": 206
        },
        "outputId": "9a52d1ec-1d44-41de-baca-3ebacdf9cd17"
      },
      "outputs": [
        {
          "output_type": "execute_result",
          "data": {
            "text/plain": [
              "     make   model        badge fuel_type    body_type  year  km_driven  price  \\\n",
              "0  Toyota  Kluger  LIMITED-4x4    Petrol        Wagon  2017      48788  35990   \n",
              "1  Toyota   Hilux           LS    Petrol        Other  2015      57764  38900   \n",
              "2    Fiat     NaN          NEO    Diesel        Sedan  2009     151668  16900   \n",
              "3  Nissan  Navara          25i    Petrol          Ute  2010     133383  11999   \n",
              "4  Toyota   Hiace          SV6    Petrol  Van/Minivan  2008     281692  13999   \n",
              "\n",
              "               state  \n",
              "0  Western Australia  \n",
              "1    New South Wales  \n",
              "2    South Australia  \n",
              "3    New South Wales  \n",
              "4    New South Wales  "
            ],
            "text/html": [
              "\n",
              "  <div id=\"df-f56ece7c-e07e-4c62-a795-282adad0e606\">\n",
              "    <div class=\"colab-df-container\">\n",
              "      <div>\n",
              "<style scoped>\n",
              "    .dataframe tbody tr th:only-of-type {\n",
              "        vertical-align: middle;\n",
              "    }\n",
              "\n",
              "    .dataframe tbody tr th {\n",
              "        vertical-align: top;\n",
              "    }\n",
              "\n",
              "    .dataframe thead th {\n",
              "        text-align: right;\n",
              "    }\n",
              "</style>\n",
              "<table border=\"1\" class=\"dataframe\">\n",
              "  <thead>\n",
              "    <tr style=\"text-align: right;\">\n",
              "      <th></th>\n",
              "      <th>make</th>\n",
              "      <th>model</th>\n",
              "      <th>badge</th>\n",
              "      <th>fuel_type</th>\n",
              "      <th>body_type</th>\n",
              "      <th>year</th>\n",
              "      <th>km_driven</th>\n",
              "      <th>price</th>\n",
              "      <th>state</th>\n",
              "    </tr>\n",
              "  </thead>\n",
              "  <tbody>\n",
              "    <tr>\n",
              "      <th>0</th>\n",
              "      <td>Toyota</td>\n",
              "      <td>Kluger</td>\n",
              "      <td>LIMITED-4x4</td>\n",
              "      <td>Petrol</td>\n",
              "      <td>Wagon</td>\n",
              "      <td>2017</td>\n",
              "      <td>48788</td>\n",
              "      <td>35990</td>\n",
              "      <td>Western Australia</td>\n",
              "    </tr>\n",
              "    <tr>\n",
              "      <th>1</th>\n",
              "      <td>Toyota</td>\n",
              "      <td>Hilux</td>\n",
              "      <td>LS</td>\n",
              "      <td>Petrol</td>\n",
              "      <td>Other</td>\n",
              "      <td>2015</td>\n",
              "      <td>57764</td>\n",
              "      <td>38900</td>\n",
              "      <td>New South Wales</td>\n",
              "    </tr>\n",
              "    <tr>\n",
              "      <th>2</th>\n",
              "      <td>Fiat</td>\n",
              "      <td>NaN</td>\n",
              "      <td>NEO</td>\n",
              "      <td>Diesel</td>\n",
              "      <td>Sedan</td>\n",
              "      <td>2009</td>\n",
              "      <td>151668</td>\n",
              "      <td>16900</td>\n",
              "      <td>South Australia</td>\n",
              "    </tr>\n",
              "    <tr>\n",
              "      <th>3</th>\n",
              "      <td>Nissan</td>\n",
              "      <td>Navara</td>\n",
              "      <td>25i</td>\n",
              "      <td>Petrol</td>\n",
              "      <td>Ute</td>\n",
              "      <td>2010</td>\n",
              "      <td>133383</td>\n",
              "      <td>11999</td>\n",
              "      <td>New South Wales</td>\n",
              "    </tr>\n",
              "    <tr>\n",
              "      <th>4</th>\n",
              "      <td>Toyota</td>\n",
              "      <td>Hiace</td>\n",
              "      <td>SV6</td>\n",
              "      <td>Petrol</td>\n",
              "      <td>Van/Minivan</td>\n",
              "      <td>2008</td>\n",
              "      <td>281692</td>\n",
              "      <td>13999</td>\n",
              "      <td>New South Wales</td>\n",
              "    </tr>\n",
              "  </tbody>\n",
              "</table>\n",
              "</div>\n",
              "      <button class=\"colab-df-convert\" onclick=\"convertToInteractive('df-f56ece7c-e07e-4c62-a795-282adad0e606')\"\n",
              "              title=\"Convert this dataframe to an interactive table.\"\n",
              "              style=\"display:none;\">\n",
              "        \n",
              "  <svg xmlns=\"http://www.w3.org/2000/svg\" height=\"24px\"viewBox=\"0 0 24 24\"\n",
              "       width=\"24px\">\n",
              "    <path d=\"M0 0h24v24H0V0z\" fill=\"none\"/>\n",
              "    <path d=\"M18.56 5.44l.94 2.06.94-2.06 2.06-.94-2.06-.94-.94-2.06-.94 2.06-2.06.94zm-11 1L8.5 8.5l.94-2.06 2.06-.94-2.06-.94L8.5 2.5l-.94 2.06-2.06.94zm10 10l.94 2.06.94-2.06 2.06-.94-2.06-.94-.94-2.06-.94 2.06-2.06.94z\"/><path d=\"M17.41 7.96l-1.37-1.37c-.4-.4-.92-.59-1.43-.59-.52 0-1.04.2-1.43.59L10.3 9.45l-7.72 7.72c-.78.78-.78 2.05 0 2.83L4 21.41c.39.39.9.59 1.41.59.51 0 1.02-.2 1.41-.59l7.78-7.78 2.81-2.81c.8-.78.8-2.07 0-2.86zM5.41 20L4 18.59l7.72-7.72 1.47 1.35L5.41 20z\"/>\n",
              "  </svg>\n",
              "      </button>\n",
              "      \n",
              "  <style>\n",
              "    .colab-df-container {\n",
              "      display:flex;\n",
              "      flex-wrap:wrap;\n",
              "      gap: 12px;\n",
              "    }\n",
              "\n",
              "    .colab-df-convert {\n",
              "      background-color: #E8F0FE;\n",
              "      border: none;\n",
              "      border-radius: 50%;\n",
              "      cursor: pointer;\n",
              "      display: none;\n",
              "      fill: #1967D2;\n",
              "      height: 32px;\n",
              "      padding: 0 0 0 0;\n",
              "      width: 32px;\n",
              "    }\n",
              "\n",
              "    .colab-df-convert:hover {\n",
              "      background-color: #E2EBFA;\n",
              "      box-shadow: 0px 1px 2px rgba(60, 64, 67, 0.3), 0px 1px 3px 1px rgba(60, 64, 67, 0.15);\n",
              "      fill: #174EA6;\n",
              "    }\n",
              "\n",
              "    [theme=dark] .colab-df-convert {\n",
              "      background-color: #3B4455;\n",
              "      fill: #D2E3FC;\n",
              "    }\n",
              "\n",
              "    [theme=dark] .colab-df-convert:hover {\n",
              "      background-color: #434B5C;\n",
              "      box-shadow: 0px 1px 3px 1px rgba(0, 0, 0, 0.15);\n",
              "      filter: drop-shadow(0px 1px 2px rgba(0, 0, 0, 0.3));\n",
              "      fill: #FFFFFF;\n",
              "    }\n",
              "  </style>\n",
              "\n",
              "      <script>\n",
              "        const buttonEl =\n",
              "          document.querySelector('#df-f56ece7c-e07e-4c62-a795-282adad0e606 button.colab-df-convert');\n",
              "        buttonEl.style.display =\n",
              "          google.colab.kernel.accessAllowed ? 'block' : 'none';\n",
              "\n",
              "        async function convertToInteractive(key) {\n",
              "          const element = document.querySelector('#df-f56ece7c-e07e-4c62-a795-282adad0e606');\n",
              "          const dataTable =\n",
              "            await google.colab.kernel.invokeFunction('convertToInteractive',\n",
              "                                                     [key], {});\n",
              "          if (!dataTable) return;\n",
              "\n",
              "          const docLinkHtml = 'Like what you see? Visit the ' +\n",
              "            '<a target=\"_blank\" href=https://colab.research.google.com/notebooks/data_table.ipynb>data table notebook</a>'\n",
              "            + ' to learn more about interactive tables.';\n",
              "          element.innerHTML = '';\n",
              "          dataTable['output_type'] = 'display_data';\n",
              "          await google.colab.output.renderOutput(dataTable, element);\n",
              "          const docLink = document.createElement('div');\n",
              "          docLink.innerHTML = docLinkHtml;\n",
              "          element.appendChild(docLink);\n",
              "        }\n",
              "      </script>\n",
              "    </div>\n",
              "  </div>\n",
              "  "
            ]
          },
          "metadata": {},
          "execution_count": 45
        }
      ],
      "source": [
        "df.head()"
      ]
    },
    {
      "cell_type": "code",
      "execution_count": 4,
      "id": "7457593e",
      "metadata": {
        "id": "7457593e",
        "colab": {
          "base_uri": "https://localhost:8080/"
        },
        "outputId": "d3b4d666-0b64-4ba8-9c62-00135657c48c"
      },
      "outputs": [
        {
          "output_type": "execute_result",
          "data": {
            "text/plain": [
              "(25423, 9)"
            ]
          },
          "metadata": {},
          "execution_count": 4
        }
      ],
      "source": [
        "df.shape"
      ]
    },
    {
      "cell_type": "code",
      "execution_count": 5,
      "id": "d4620e26",
      "metadata": {
        "id": "d4620e26",
        "colab": {
          "base_uri": "https://localhost:8080/"
        },
        "outputId": "99d0aa52-d635-4aae-9ee6-0ca5710fddbe"
      },
      "outputs": [
        {
          "output_type": "stream",
          "name": "stdout",
          "text": [
            "<class 'pandas.core.frame.DataFrame'>\n",
            "RangeIndex: 25423 entries, 0 to 25422\n",
            "Data columns (total 9 columns):\n",
            " #   Column     Non-Null Count  Dtype \n",
            "---  ------     --------------  ----- \n",
            " 0   make       25422 non-null  object\n",
            " 1   model      21228 non-null  object\n",
            " 2   badge      25423 non-null  object\n",
            " 3   fuel_type  24707 non-null  object\n",
            " 4   body_type  25404 non-null  object\n",
            " 5   year       25423 non-null  int64 \n",
            " 6   km_driven  25423 non-null  int64 \n",
            " 7   price      25423 non-null  int64 \n",
            " 8   state      25423 non-null  object\n",
            "dtypes: int64(3), object(6)\n",
            "memory usage: 1.7+ MB\n"
          ]
        }
      ],
      "source": [
        "df.info()"
      ]
    },
    {
      "cell_type": "code",
      "execution_count": 59,
      "id": "757c6979",
      "metadata": {
        "id": "757c6979",
        "colab": {
          "base_uri": "https://localhost:8080/",
          "height": 300
        },
        "outputId": "9e481d19-0665-46a2-e4c4-e60c2dd2db50"
      },
      "outputs": [
        {
          "output_type": "execute_result",
          "data": {
            "text/plain": [
              "               year     km_driven         price\n",
              "count  25423.000000  2.542300e+04  2.542300e+04\n",
              "mean    2011.326515  1.517250e+06  2.923241e+04\n",
              "std        6.183466  2.733096e+07  4.894423e+04\n",
              "min     1900.000000  0.000000e+00  0.000000e+00\n",
              "25%     2008.000000  4.500000e+04  8.990000e+03\n",
              "50%     2012.000000  9.700000e+04  1.799000e+04\n",
              "75%     2015.000000  1.560000e+05  3.399000e+04\n",
              "max     2020.000000  8.845652e+08  1.800000e+06"
            ],
            "text/html": [
              "\n",
              "  <div id=\"df-ec949484-0753-4de9-8517-3f6b5a9ab09a\">\n",
              "    <div class=\"colab-df-container\">\n",
              "      <div>\n",
              "<style scoped>\n",
              "    .dataframe tbody tr th:only-of-type {\n",
              "        vertical-align: middle;\n",
              "    }\n",
              "\n",
              "    .dataframe tbody tr th {\n",
              "        vertical-align: top;\n",
              "    }\n",
              "\n",
              "    .dataframe thead th {\n",
              "        text-align: right;\n",
              "    }\n",
              "</style>\n",
              "<table border=\"1\" class=\"dataframe\">\n",
              "  <thead>\n",
              "    <tr style=\"text-align: right;\">\n",
              "      <th></th>\n",
              "      <th>year</th>\n",
              "      <th>km_driven</th>\n",
              "      <th>price</th>\n",
              "    </tr>\n",
              "  </thead>\n",
              "  <tbody>\n",
              "    <tr>\n",
              "      <th>count</th>\n",
              "      <td>25423.000000</td>\n",
              "      <td>2.542300e+04</td>\n",
              "      <td>2.542300e+04</td>\n",
              "    </tr>\n",
              "    <tr>\n",
              "      <th>mean</th>\n",
              "      <td>2011.326515</td>\n",
              "      <td>1.517250e+06</td>\n",
              "      <td>2.923241e+04</td>\n",
              "    </tr>\n",
              "    <tr>\n",
              "      <th>std</th>\n",
              "      <td>6.183466</td>\n",
              "      <td>2.733096e+07</td>\n",
              "      <td>4.894423e+04</td>\n",
              "    </tr>\n",
              "    <tr>\n",
              "      <th>min</th>\n",
              "      <td>1900.000000</td>\n",
              "      <td>0.000000e+00</td>\n",
              "      <td>0.000000e+00</td>\n",
              "    </tr>\n",
              "    <tr>\n",
              "      <th>25%</th>\n",
              "      <td>2008.000000</td>\n",
              "      <td>4.500000e+04</td>\n",
              "      <td>8.990000e+03</td>\n",
              "    </tr>\n",
              "    <tr>\n",
              "      <th>50%</th>\n",
              "      <td>2012.000000</td>\n",
              "      <td>9.700000e+04</td>\n",
              "      <td>1.799000e+04</td>\n",
              "    </tr>\n",
              "    <tr>\n",
              "      <th>75%</th>\n",
              "      <td>2015.000000</td>\n",
              "      <td>1.560000e+05</td>\n",
              "      <td>3.399000e+04</td>\n",
              "    </tr>\n",
              "    <tr>\n",
              "      <th>max</th>\n",
              "      <td>2020.000000</td>\n",
              "      <td>8.845652e+08</td>\n",
              "      <td>1.800000e+06</td>\n",
              "    </tr>\n",
              "  </tbody>\n",
              "</table>\n",
              "</div>\n",
              "      <button class=\"colab-df-convert\" onclick=\"convertToInteractive('df-ec949484-0753-4de9-8517-3f6b5a9ab09a')\"\n",
              "              title=\"Convert this dataframe to an interactive table.\"\n",
              "              style=\"display:none;\">\n",
              "        \n",
              "  <svg xmlns=\"http://www.w3.org/2000/svg\" height=\"24px\"viewBox=\"0 0 24 24\"\n",
              "       width=\"24px\">\n",
              "    <path d=\"M0 0h24v24H0V0z\" fill=\"none\"/>\n",
              "    <path d=\"M18.56 5.44l.94 2.06.94-2.06 2.06-.94-2.06-.94-.94-2.06-.94 2.06-2.06.94zm-11 1L8.5 8.5l.94-2.06 2.06-.94-2.06-.94L8.5 2.5l-.94 2.06-2.06.94zm10 10l.94 2.06.94-2.06 2.06-.94-2.06-.94-.94-2.06-.94 2.06-2.06.94z\"/><path d=\"M17.41 7.96l-1.37-1.37c-.4-.4-.92-.59-1.43-.59-.52 0-1.04.2-1.43.59L10.3 9.45l-7.72 7.72c-.78.78-.78 2.05 0 2.83L4 21.41c.39.39.9.59 1.41.59.51 0 1.02-.2 1.41-.59l7.78-7.78 2.81-2.81c.8-.78.8-2.07 0-2.86zM5.41 20L4 18.59l7.72-7.72 1.47 1.35L5.41 20z\"/>\n",
              "  </svg>\n",
              "      </button>\n",
              "      \n",
              "  <style>\n",
              "    .colab-df-container {\n",
              "      display:flex;\n",
              "      flex-wrap:wrap;\n",
              "      gap: 12px;\n",
              "    }\n",
              "\n",
              "    .colab-df-convert {\n",
              "      background-color: #E8F0FE;\n",
              "      border: none;\n",
              "      border-radius: 50%;\n",
              "      cursor: pointer;\n",
              "      display: none;\n",
              "      fill: #1967D2;\n",
              "      height: 32px;\n",
              "      padding: 0 0 0 0;\n",
              "      width: 32px;\n",
              "    }\n",
              "\n",
              "    .colab-df-convert:hover {\n",
              "      background-color: #E2EBFA;\n",
              "      box-shadow: 0px 1px 2px rgba(60, 64, 67, 0.3), 0px 1px 3px 1px rgba(60, 64, 67, 0.15);\n",
              "      fill: #174EA6;\n",
              "    }\n",
              "\n",
              "    [theme=dark] .colab-df-convert {\n",
              "      background-color: #3B4455;\n",
              "      fill: #D2E3FC;\n",
              "    }\n",
              "\n",
              "    [theme=dark] .colab-df-convert:hover {\n",
              "      background-color: #434B5C;\n",
              "      box-shadow: 0px 1px 3px 1px rgba(0, 0, 0, 0.15);\n",
              "      filter: drop-shadow(0px 1px 2px rgba(0, 0, 0, 0.3));\n",
              "      fill: #FFFFFF;\n",
              "    }\n",
              "  </style>\n",
              "\n",
              "      <script>\n",
              "        const buttonEl =\n",
              "          document.querySelector('#df-ec949484-0753-4de9-8517-3f6b5a9ab09a button.colab-df-convert');\n",
              "        buttonEl.style.display =\n",
              "          google.colab.kernel.accessAllowed ? 'block' : 'none';\n",
              "\n",
              "        async function convertToInteractive(key) {\n",
              "          const element = document.querySelector('#df-ec949484-0753-4de9-8517-3f6b5a9ab09a');\n",
              "          const dataTable =\n",
              "            await google.colab.kernel.invokeFunction('convertToInteractive',\n",
              "                                                     [key], {});\n",
              "          if (!dataTable) return;\n",
              "\n",
              "          const docLinkHtml = 'Like what you see? Visit the ' +\n",
              "            '<a target=\"_blank\" href=https://colab.research.google.com/notebooks/data_table.ipynb>data table notebook</a>'\n",
              "            + ' to learn more about interactive tables.';\n",
              "          element.innerHTML = '';\n",
              "          dataTable['output_type'] = 'display_data';\n",
              "          await google.colab.output.renderOutput(dataTable, element);\n",
              "          const docLink = document.createElement('div');\n",
              "          docLink.innerHTML = docLinkHtml;\n",
              "          element.appendChild(docLink);\n",
              "        }\n",
              "      </script>\n",
              "    </div>\n",
              "  </div>\n",
              "  "
            ]
          },
          "metadata": {},
          "execution_count": 59
        }
      ],
      "source": [
        "df.describe()"
      ]
    },
    {
      "cell_type": "markdown",
      "id": "bb3214aa",
      "metadata": {
        "id": "bb3214aa"
      },
      "source": [
        "### 1.3) Extract the requird data\n",
        "\n",
        "##### I will extract data of \"price, year, manufacturer, model, condition, transmission, type, paint_color, state, lat, long\"\n",
        "from this dataset. As only these columns are important to make a useful prediction. Other columns will be removed. "
      ]
    },
    {
      "cell_type": "code",
      "execution_count": 6,
      "id": "3e694acd",
      "metadata": {
        "id": "3e694acd"
      },
      "outputs": [],
      "source": [
        "\n",
        "\n",
        "#columns=[ \"price\", \"year\", \"manufacturer\", \"model\", \"condition\", \"transmission\", \"type\", \"paint_color\", \"state\", \"lat\", \"long\"]"
      ]
    },
    {
      "cell_type": "code",
      "execution_count": 7,
      "id": "ec71187e",
      "metadata": {
        "id": "ec71187e"
      },
      "outputs": [],
      "source": [
        "#df = df[columns]"
      ]
    },
    {
      "cell_type": "markdown",
      "id": "be0e9de2",
      "metadata": {
        "id": "be0e9de2"
      },
      "source": [
        "\n",
        "\n",
        "\n",
        "\n",
        "\n",
        "Checking if dataset contains null values"
      ]
    },
    {
      "cell_type": "code",
      "execution_count": 8,
      "id": "0e5225a7",
      "metadata": {
        "id": "0e5225a7",
        "colab": {
          "base_uri": "https://localhost:8080/"
        },
        "outputId": "7cfe4089-9c1e-404d-b073-8672f4f4f29d"
      },
      "outputs": [
        {
          "output_type": "execute_result",
          "data": {
            "text/plain": [
              "make            1\n",
              "model        4195\n",
              "badge           0\n",
              "fuel_type     716\n",
              "body_type      19\n",
              "year            0\n",
              "km_driven       0\n",
              "price           0\n",
              "state           0\n",
              "dtype: int64"
            ]
          },
          "metadata": {},
          "execution_count": 8
        }
      ],
      "source": [
        "df.isnull().sum()"
      ]
    },
    {
      "cell_type": "markdown",
      "source": [
        ""
      ],
      "metadata": {
        "id": "V-jT7rfpEkEX"
      },
      "id": "V-jT7rfpEkEX"
    },
    {
      "cell_type": "code",
      "source": [
        ""
      ],
      "metadata": {
        "id": "qUQhhGICi6Pj"
      },
      "id": "qUQhhGICi6Pj",
      "execution_count": 8,
      "outputs": []
    },
    {
      "cell_type": "markdown",
      "source": [
        "# 2) Imbalancing dataset 65%, 75%, 95%"
      ],
      "metadata": {
        "id": "Hq3GhHbJD8WU"
      },
      "id": "Hq3GhHbJD8WU"
    },
    {
      "cell_type": "markdown",
      "id": "72f9a05a",
      "metadata": {
        "id": "72f9a05a"
      },
      "source": [
        "To make my data imbalance I used random data creation method. It will create a random data to imbalanced the classes.\n",
        "\n",
        "website which I used to study about random sampling: https://pandas.pydata.org/docs/reference/api/pandas.DataFrame.sample.html\n",
        "\n"
      ]
    },
    {
      "cell_type": "markdown",
      "id": "4f1597bf",
      "metadata": {
        "id": "4f1597bf"
      },
      "source": [
        "### 2.1) imbalance (65%)"
      ]
    },
    {
      "cell_type": "markdown",
      "id": "5d6da77e",
      "metadata": {
        "id": "5d6da77e"
      },
      "source": [
        "first I will generate 65% imbalanced data and visualize it. "
      ]
    },
    {
      "cell_type": "code",
      "execution_count": 9,
      "id": "e0b71226",
      "metadata": {
        "id": "e0b71226",
        "outputId": "16065e02-19a6-458a-80bf-f0a969577ef2",
        "colab": {
          "base_uri": "https://localhost:8080/",
          "height": 423
        }
      },
      "outputs": [
        {
          "output_type": "execute_result",
          "data": {
            "text/plain": [
              "          make      model                  badge fuel_type       body_type  \\\n",
              "12065   Holden      Cruze                   CITY    Petrol           Sedan   \n",
              "8917    Holden  Commodore                 ACTIVE    Petrol       Hatchback   \n",
              "13130   Nissan    Elgrand                     SS    Petrol           Other   \n",
              "1068    Nissan        NaN  KOMPRESSOR-AVANTGARDE    Diesel  Coupe (2 door)   \n",
              "682       Audi         A3                     LX    Petrol       Hatchback   \n",
              "...        ...        ...                    ...       ...             ...   \n",
              "10309   Holden    Captiva                  OMEGA    Petrol           Wagon   \n",
              "10678   Toyota         FJ               WORKMATE    Petrol             SUV   \n",
              "16731    Honda       Jazz             +SPORT-2WD    Petrol       Hatchback   \n",
              "10433  Hyundai     Tucson              1000KG-2M    Petrol           Wagon   \n",
              "366        HSV  clubsport                     GL    Petrol           Sedan   \n",
              "\n",
              "       year  km_driven  price      state  \n",
              "12065  2010     161194   3999  No Record  \n",
              "8917   2018     111717  12500  No Record  \n",
              "13130  2011      71943  27990  No Record  \n",
              "1068   2011     121000   8500  No Record  \n",
              "682    2008     109896   7690  No Record  \n",
              "...     ...        ...    ...        ...  \n",
              "10309  2013      63559  10882  No Record  \n",
              "10678  2012     165693  32888  No Record  \n",
              "16731  2018       7626  21888  No Record  \n",
              "10433  2017      20546  23490  No Record  \n",
              "366    2006     182281  18990  No Record  \n",
              "\n",
              "[16525 rows x 9 columns]"
            ],
            "text/html": [
              "\n",
              "  <div id=\"df-c94f7e21-c603-4bff-9bea-91f64e7af62e\">\n",
              "    <div class=\"colab-df-container\">\n",
              "      <div>\n",
              "<style scoped>\n",
              "    .dataframe tbody tr th:only-of-type {\n",
              "        vertical-align: middle;\n",
              "    }\n",
              "\n",
              "    .dataframe tbody tr th {\n",
              "        vertical-align: top;\n",
              "    }\n",
              "\n",
              "    .dataframe thead th {\n",
              "        text-align: right;\n",
              "    }\n",
              "</style>\n",
              "<table border=\"1\" class=\"dataframe\">\n",
              "  <thead>\n",
              "    <tr style=\"text-align: right;\">\n",
              "      <th></th>\n",
              "      <th>make</th>\n",
              "      <th>model</th>\n",
              "      <th>badge</th>\n",
              "      <th>fuel_type</th>\n",
              "      <th>body_type</th>\n",
              "      <th>year</th>\n",
              "      <th>km_driven</th>\n",
              "      <th>price</th>\n",
              "      <th>state</th>\n",
              "    </tr>\n",
              "  </thead>\n",
              "  <tbody>\n",
              "    <tr>\n",
              "      <th>12065</th>\n",
              "      <td>Holden</td>\n",
              "      <td>Cruze</td>\n",
              "      <td>CITY</td>\n",
              "      <td>Petrol</td>\n",
              "      <td>Sedan</td>\n",
              "      <td>2010</td>\n",
              "      <td>161194</td>\n",
              "      <td>3999</td>\n",
              "      <td>No Record</td>\n",
              "    </tr>\n",
              "    <tr>\n",
              "      <th>8917</th>\n",
              "      <td>Holden</td>\n",
              "      <td>Commodore</td>\n",
              "      <td>ACTIVE</td>\n",
              "      <td>Petrol</td>\n",
              "      <td>Hatchback</td>\n",
              "      <td>2018</td>\n",
              "      <td>111717</td>\n",
              "      <td>12500</td>\n",
              "      <td>No Record</td>\n",
              "    </tr>\n",
              "    <tr>\n",
              "      <th>13130</th>\n",
              "      <td>Nissan</td>\n",
              "      <td>Elgrand</td>\n",
              "      <td>SS</td>\n",
              "      <td>Petrol</td>\n",
              "      <td>Other</td>\n",
              "      <td>2011</td>\n",
              "      <td>71943</td>\n",
              "      <td>27990</td>\n",
              "      <td>No Record</td>\n",
              "    </tr>\n",
              "    <tr>\n",
              "      <th>1068</th>\n",
              "      <td>Nissan</td>\n",
              "      <td>NaN</td>\n",
              "      <td>KOMPRESSOR-AVANTGARDE</td>\n",
              "      <td>Diesel</td>\n",
              "      <td>Coupe (2 door)</td>\n",
              "      <td>2011</td>\n",
              "      <td>121000</td>\n",
              "      <td>8500</td>\n",
              "      <td>No Record</td>\n",
              "    </tr>\n",
              "    <tr>\n",
              "      <th>682</th>\n",
              "      <td>Audi</td>\n",
              "      <td>A3</td>\n",
              "      <td>LX</td>\n",
              "      <td>Petrol</td>\n",
              "      <td>Hatchback</td>\n",
              "      <td>2008</td>\n",
              "      <td>109896</td>\n",
              "      <td>7690</td>\n",
              "      <td>No Record</td>\n",
              "    </tr>\n",
              "    <tr>\n",
              "      <th>...</th>\n",
              "      <td>...</td>\n",
              "      <td>...</td>\n",
              "      <td>...</td>\n",
              "      <td>...</td>\n",
              "      <td>...</td>\n",
              "      <td>...</td>\n",
              "      <td>...</td>\n",
              "      <td>...</td>\n",
              "      <td>...</td>\n",
              "    </tr>\n",
              "    <tr>\n",
              "      <th>10309</th>\n",
              "      <td>Holden</td>\n",
              "      <td>Captiva</td>\n",
              "      <td>OMEGA</td>\n",
              "      <td>Petrol</td>\n",
              "      <td>Wagon</td>\n",
              "      <td>2013</td>\n",
              "      <td>63559</td>\n",
              "      <td>10882</td>\n",
              "      <td>No Record</td>\n",
              "    </tr>\n",
              "    <tr>\n",
              "      <th>10678</th>\n",
              "      <td>Toyota</td>\n",
              "      <td>FJ</td>\n",
              "      <td>WORKMATE</td>\n",
              "      <td>Petrol</td>\n",
              "      <td>SUV</td>\n",
              "      <td>2012</td>\n",
              "      <td>165693</td>\n",
              "      <td>32888</td>\n",
              "      <td>No Record</td>\n",
              "    </tr>\n",
              "    <tr>\n",
              "      <th>16731</th>\n",
              "      <td>Honda</td>\n",
              "      <td>Jazz</td>\n",
              "      <td>+SPORT-2WD</td>\n",
              "      <td>Petrol</td>\n",
              "      <td>Hatchback</td>\n",
              "      <td>2018</td>\n",
              "      <td>7626</td>\n",
              "      <td>21888</td>\n",
              "      <td>No Record</td>\n",
              "    </tr>\n",
              "    <tr>\n",
              "      <th>10433</th>\n",
              "      <td>Hyundai</td>\n",
              "      <td>Tucson</td>\n",
              "      <td>1000KG-2M</td>\n",
              "      <td>Petrol</td>\n",
              "      <td>Wagon</td>\n",
              "      <td>2017</td>\n",
              "      <td>20546</td>\n",
              "      <td>23490</td>\n",
              "      <td>No Record</td>\n",
              "    </tr>\n",
              "    <tr>\n",
              "      <th>366</th>\n",
              "      <td>HSV</td>\n",
              "      <td>clubsport</td>\n",
              "      <td>GL</td>\n",
              "      <td>Petrol</td>\n",
              "      <td>Sedan</td>\n",
              "      <td>2006</td>\n",
              "      <td>182281</td>\n",
              "      <td>18990</td>\n",
              "      <td>No Record</td>\n",
              "    </tr>\n",
              "  </tbody>\n",
              "</table>\n",
              "<p>16525 rows × 9 columns</p>\n",
              "</div>\n",
              "      <button class=\"colab-df-convert\" onclick=\"convertToInteractive('df-c94f7e21-c603-4bff-9bea-91f64e7af62e')\"\n",
              "              title=\"Convert this dataframe to an interactive table.\"\n",
              "              style=\"display:none;\">\n",
              "        \n",
              "  <svg xmlns=\"http://www.w3.org/2000/svg\" height=\"24px\"viewBox=\"0 0 24 24\"\n",
              "       width=\"24px\">\n",
              "    <path d=\"M0 0h24v24H0V0z\" fill=\"none\"/>\n",
              "    <path d=\"M18.56 5.44l.94 2.06.94-2.06 2.06-.94-2.06-.94-.94-2.06-.94 2.06-2.06.94zm-11 1L8.5 8.5l.94-2.06 2.06-.94-2.06-.94L8.5 2.5l-.94 2.06-2.06.94zm10 10l.94 2.06.94-2.06 2.06-.94-2.06-.94-.94-2.06-.94 2.06-2.06.94z\"/><path d=\"M17.41 7.96l-1.37-1.37c-.4-.4-.92-.59-1.43-.59-.52 0-1.04.2-1.43.59L10.3 9.45l-7.72 7.72c-.78.78-.78 2.05 0 2.83L4 21.41c.39.39.9.59 1.41.59.51 0 1.02-.2 1.41-.59l7.78-7.78 2.81-2.81c.8-.78.8-2.07 0-2.86zM5.41 20L4 18.59l7.72-7.72 1.47 1.35L5.41 20z\"/>\n",
              "  </svg>\n",
              "      </button>\n",
              "      \n",
              "  <style>\n",
              "    .colab-df-container {\n",
              "      display:flex;\n",
              "      flex-wrap:wrap;\n",
              "      gap: 12px;\n",
              "    }\n",
              "\n",
              "    .colab-df-convert {\n",
              "      background-color: #E8F0FE;\n",
              "      border: none;\n",
              "      border-radius: 50%;\n",
              "      cursor: pointer;\n",
              "      display: none;\n",
              "      fill: #1967D2;\n",
              "      height: 32px;\n",
              "      padding: 0 0 0 0;\n",
              "      width: 32px;\n",
              "    }\n",
              "\n",
              "    .colab-df-convert:hover {\n",
              "      background-color: #E2EBFA;\n",
              "      box-shadow: 0px 1px 2px rgba(60, 64, 67, 0.3), 0px 1px 3px 1px rgba(60, 64, 67, 0.15);\n",
              "      fill: #174EA6;\n",
              "    }\n",
              "\n",
              "    [theme=dark] .colab-df-convert {\n",
              "      background-color: #3B4455;\n",
              "      fill: #D2E3FC;\n",
              "    }\n",
              "\n",
              "    [theme=dark] .colab-df-convert:hover {\n",
              "      background-color: #434B5C;\n",
              "      box-shadow: 0px 1px 3px 1px rgba(0, 0, 0, 0.15);\n",
              "      filter: drop-shadow(0px 1px 2px rgba(0, 0, 0, 0.3));\n",
              "      fill: #FFFFFF;\n",
              "    }\n",
              "  </style>\n",
              "\n",
              "      <script>\n",
              "        const buttonEl =\n",
              "          document.querySelector('#df-c94f7e21-c603-4bff-9bea-91f64e7af62e button.colab-df-convert');\n",
              "        buttonEl.style.display =\n",
              "          google.colab.kernel.accessAllowed ? 'block' : 'none';\n",
              "\n",
              "        async function convertToInteractive(key) {\n",
              "          const element = document.querySelector('#df-c94f7e21-c603-4bff-9bea-91f64e7af62e');\n",
              "          const dataTable =\n",
              "            await google.colab.kernel.invokeFunction('convertToInteractive',\n",
              "                                                     [key], {});\n",
              "          if (!dataTable) return;\n",
              "\n",
              "          const docLinkHtml = 'Like what you see? Visit the ' +\n",
              "            '<a target=\"_blank\" href=https://colab.research.google.com/notebooks/data_table.ipynb>data table notebook</a>'\n",
              "            + ' to learn more about interactive tables.';\n",
              "          element.innerHTML = '';\n",
              "          dataTable['output_type'] = 'display_data';\n",
              "          await google.colab.output.renderOutput(dataTable, element);\n",
              "          const docLink = document.createElement('div');\n",
              "          docLink.innerHTML = docLinkHtml;\n",
              "          element.appendChild(docLink);\n",
              "        }\n",
              "      </script>\n",
              "    </div>\n",
              "  </div>\n",
              "  "
            ]
          },
          "metadata": {},
          "execution_count": 9
        }
      ],
      "source": [
        "rows = df.sample(frac =.65)\n",
        "rows"
      ]
    },
    {
      "cell_type": "markdown",
      "id": "b813a23e",
      "metadata": {
        "id": "b813a23e"
      },
      "source": [
        "277472 rows are created randomly, and from the above display we can see that Nulls are randomly generated too. It created 65% random data. \n",
        "\n",
        "Next, I will combine and shuffle these randomly created rows with original dataset. "
      ]
    },
    {
      "cell_type": "code",
      "execution_count": 10,
      "id": "7886d662",
      "metadata": {
        "id": "7886d662",
        "outputId": "22872e81-eb57-45d7-f2c9-7658f4a38cfb",
        "colab": {
          "base_uri": "https://localhost:8080/",
          "height": 423
        }
      },
      "outputs": [
        {
          "output_type": "execute_result",
          "data": {
            "text/plain": [
              "          make      model        badge fuel_type    body_type  year  \\\n",
              "0       Toyota     Kluger  LIMITED-4x4    Petrol        Wagon  2017   \n",
              "1       Toyota      Hilux           LS    Petrol        Other  2015   \n",
              "2         Fiat        NaN          NEO    Diesel        Sedan  2009   \n",
              "3       Nissan     Navara          25i    Petrol          Ute  2010   \n",
              "4       Toyota      Hiace          SV6    Petrol  Van/Minivan  2008   \n",
              "...        ...        ...          ...       ...          ...   ...   \n",
              "10309   Holden    Captiva        OMEGA    Petrol        Wagon  2013   \n",
              "10678   Toyota         FJ     WORKMATE    Petrol          SUV  2012   \n",
              "16731    Honda       Jazz   +SPORT-2WD    Petrol    Hatchback  2018   \n",
              "10433  Hyundai     Tucson    1000KG-2M    Petrol        Wagon  2017   \n",
              "366        HSV  clubsport           GL    Petrol        Sedan  2006   \n",
              "\n",
              "       km_driven  price              state  \n",
              "0          48788  35990  Western Australia  \n",
              "1          57764  38900    New South Wales  \n",
              "2         151668  16900    South Australia  \n",
              "3         133383  11999    New South Wales  \n",
              "4         281692  13999    New South Wales  \n",
              "...          ...    ...                ...  \n",
              "10309      63559  10882          No Record  \n",
              "10678     165693  32888          No Record  \n",
              "16731       7626  21888          No Record  \n",
              "10433      20546  23490          No Record  \n",
              "366       182281  18990          No Record  \n",
              "\n",
              "[41948 rows x 9 columns]"
            ],
            "text/html": [
              "\n",
              "  <div id=\"df-c747e05b-54bb-4119-8eb8-03af0fb5f0a2\">\n",
              "    <div class=\"colab-df-container\">\n",
              "      <div>\n",
              "<style scoped>\n",
              "    .dataframe tbody tr th:only-of-type {\n",
              "        vertical-align: middle;\n",
              "    }\n",
              "\n",
              "    .dataframe tbody tr th {\n",
              "        vertical-align: top;\n",
              "    }\n",
              "\n",
              "    .dataframe thead th {\n",
              "        text-align: right;\n",
              "    }\n",
              "</style>\n",
              "<table border=\"1\" class=\"dataframe\">\n",
              "  <thead>\n",
              "    <tr style=\"text-align: right;\">\n",
              "      <th></th>\n",
              "      <th>make</th>\n",
              "      <th>model</th>\n",
              "      <th>badge</th>\n",
              "      <th>fuel_type</th>\n",
              "      <th>body_type</th>\n",
              "      <th>year</th>\n",
              "      <th>km_driven</th>\n",
              "      <th>price</th>\n",
              "      <th>state</th>\n",
              "    </tr>\n",
              "  </thead>\n",
              "  <tbody>\n",
              "    <tr>\n",
              "      <th>0</th>\n",
              "      <td>Toyota</td>\n",
              "      <td>Kluger</td>\n",
              "      <td>LIMITED-4x4</td>\n",
              "      <td>Petrol</td>\n",
              "      <td>Wagon</td>\n",
              "      <td>2017</td>\n",
              "      <td>48788</td>\n",
              "      <td>35990</td>\n",
              "      <td>Western Australia</td>\n",
              "    </tr>\n",
              "    <tr>\n",
              "      <th>1</th>\n",
              "      <td>Toyota</td>\n",
              "      <td>Hilux</td>\n",
              "      <td>LS</td>\n",
              "      <td>Petrol</td>\n",
              "      <td>Other</td>\n",
              "      <td>2015</td>\n",
              "      <td>57764</td>\n",
              "      <td>38900</td>\n",
              "      <td>New South Wales</td>\n",
              "    </tr>\n",
              "    <tr>\n",
              "      <th>2</th>\n",
              "      <td>Fiat</td>\n",
              "      <td>NaN</td>\n",
              "      <td>NEO</td>\n",
              "      <td>Diesel</td>\n",
              "      <td>Sedan</td>\n",
              "      <td>2009</td>\n",
              "      <td>151668</td>\n",
              "      <td>16900</td>\n",
              "      <td>South Australia</td>\n",
              "    </tr>\n",
              "    <tr>\n",
              "      <th>3</th>\n",
              "      <td>Nissan</td>\n",
              "      <td>Navara</td>\n",
              "      <td>25i</td>\n",
              "      <td>Petrol</td>\n",
              "      <td>Ute</td>\n",
              "      <td>2010</td>\n",
              "      <td>133383</td>\n",
              "      <td>11999</td>\n",
              "      <td>New South Wales</td>\n",
              "    </tr>\n",
              "    <tr>\n",
              "      <th>4</th>\n",
              "      <td>Toyota</td>\n",
              "      <td>Hiace</td>\n",
              "      <td>SV6</td>\n",
              "      <td>Petrol</td>\n",
              "      <td>Van/Minivan</td>\n",
              "      <td>2008</td>\n",
              "      <td>281692</td>\n",
              "      <td>13999</td>\n",
              "      <td>New South Wales</td>\n",
              "    </tr>\n",
              "    <tr>\n",
              "      <th>...</th>\n",
              "      <td>...</td>\n",
              "      <td>...</td>\n",
              "      <td>...</td>\n",
              "      <td>...</td>\n",
              "      <td>...</td>\n",
              "      <td>...</td>\n",
              "      <td>...</td>\n",
              "      <td>...</td>\n",
              "      <td>...</td>\n",
              "    </tr>\n",
              "    <tr>\n",
              "      <th>10309</th>\n",
              "      <td>Holden</td>\n",
              "      <td>Captiva</td>\n",
              "      <td>OMEGA</td>\n",
              "      <td>Petrol</td>\n",
              "      <td>Wagon</td>\n",
              "      <td>2013</td>\n",
              "      <td>63559</td>\n",
              "      <td>10882</td>\n",
              "      <td>No Record</td>\n",
              "    </tr>\n",
              "    <tr>\n",
              "      <th>10678</th>\n",
              "      <td>Toyota</td>\n",
              "      <td>FJ</td>\n",
              "      <td>WORKMATE</td>\n",
              "      <td>Petrol</td>\n",
              "      <td>SUV</td>\n",
              "      <td>2012</td>\n",
              "      <td>165693</td>\n",
              "      <td>32888</td>\n",
              "      <td>No Record</td>\n",
              "    </tr>\n",
              "    <tr>\n",
              "      <th>16731</th>\n",
              "      <td>Honda</td>\n",
              "      <td>Jazz</td>\n",
              "      <td>+SPORT-2WD</td>\n",
              "      <td>Petrol</td>\n",
              "      <td>Hatchback</td>\n",
              "      <td>2018</td>\n",
              "      <td>7626</td>\n",
              "      <td>21888</td>\n",
              "      <td>No Record</td>\n",
              "    </tr>\n",
              "    <tr>\n",
              "      <th>10433</th>\n",
              "      <td>Hyundai</td>\n",
              "      <td>Tucson</td>\n",
              "      <td>1000KG-2M</td>\n",
              "      <td>Petrol</td>\n",
              "      <td>Wagon</td>\n",
              "      <td>2017</td>\n",
              "      <td>20546</td>\n",
              "      <td>23490</td>\n",
              "      <td>No Record</td>\n",
              "    </tr>\n",
              "    <tr>\n",
              "      <th>366</th>\n",
              "      <td>HSV</td>\n",
              "      <td>clubsport</td>\n",
              "      <td>GL</td>\n",
              "      <td>Petrol</td>\n",
              "      <td>Sedan</td>\n",
              "      <td>2006</td>\n",
              "      <td>182281</td>\n",
              "      <td>18990</td>\n",
              "      <td>No Record</td>\n",
              "    </tr>\n",
              "  </tbody>\n",
              "</table>\n",
              "<p>41948 rows × 9 columns</p>\n",
              "</div>\n",
              "      <button class=\"colab-df-convert\" onclick=\"convertToInteractive('df-c747e05b-54bb-4119-8eb8-03af0fb5f0a2')\"\n",
              "              title=\"Convert this dataframe to an interactive table.\"\n",
              "              style=\"display:none;\">\n",
              "        \n",
              "  <svg xmlns=\"http://www.w3.org/2000/svg\" height=\"24px\"viewBox=\"0 0 24 24\"\n",
              "       width=\"24px\">\n",
              "    <path d=\"M0 0h24v24H0V0z\" fill=\"none\"/>\n",
              "    <path d=\"M18.56 5.44l.94 2.06.94-2.06 2.06-.94-2.06-.94-.94-2.06-.94 2.06-2.06.94zm-11 1L8.5 8.5l.94-2.06 2.06-.94-2.06-.94L8.5 2.5l-.94 2.06-2.06.94zm10 10l.94 2.06.94-2.06 2.06-.94-2.06-.94-.94-2.06-.94 2.06-2.06.94z\"/><path d=\"M17.41 7.96l-1.37-1.37c-.4-.4-.92-.59-1.43-.59-.52 0-1.04.2-1.43.59L10.3 9.45l-7.72 7.72c-.78.78-.78 2.05 0 2.83L4 21.41c.39.39.9.59 1.41.59.51 0 1.02-.2 1.41-.59l7.78-7.78 2.81-2.81c.8-.78.8-2.07 0-2.86zM5.41 20L4 18.59l7.72-7.72 1.47 1.35L5.41 20z\"/>\n",
              "  </svg>\n",
              "      </button>\n",
              "      \n",
              "  <style>\n",
              "    .colab-df-container {\n",
              "      display:flex;\n",
              "      flex-wrap:wrap;\n",
              "      gap: 12px;\n",
              "    }\n",
              "\n",
              "    .colab-df-convert {\n",
              "      background-color: #E8F0FE;\n",
              "      border: none;\n",
              "      border-radius: 50%;\n",
              "      cursor: pointer;\n",
              "      display: none;\n",
              "      fill: #1967D2;\n",
              "      height: 32px;\n",
              "      padding: 0 0 0 0;\n",
              "      width: 32px;\n",
              "    }\n",
              "\n",
              "    .colab-df-convert:hover {\n",
              "      background-color: #E2EBFA;\n",
              "      box-shadow: 0px 1px 2px rgba(60, 64, 67, 0.3), 0px 1px 3px 1px rgba(60, 64, 67, 0.15);\n",
              "      fill: #174EA6;\n",
              "    }\n",
              "\n",
              "    [theme=dark] .colab-df-convert {\n",
              "      background-color: #3B4455;\n",
              "      fill: #D2E3FC;\n",
              "    }\n",
              "\n",
              "    [theme=dark] .colab-df-convert:hover {\n",
              "      background-color: #434B5C;\n",
              "      box-shadow: 0px 1px 3px 1px rgba(0, 0, 0, 0.15);\n",
              "      filter: drop-shadow(0px 1px 2px rgba(0, 0, 0, 0.3));\n",
              "      fill: #FFFFFF;\n",
              "    }\n",
              "  </style>\n",
              "\n",
              "      <script>\n",
              "        const buttonEl =\n",
              "          document.querySelector('#df-c747e05b-54bb-4119-8eb8-03af0fb5f0a2 button.colab-df-convert');\n",
              "        buttonEl.style.display =\n",
              "          google.colab.kernel.accessAllowed ? 'block' : 'none';\n",
              "\n",
              "        async function convertToInteractive(key) {\n",
              "          const element = document.querySelector('#df-c747e05b-54bb-4119-8eb8-03af0fb5f0a2');\n",
              "          const dataTable =\n",
              "            await google.colab.kernel.invokeFunction('convertToInteractive',\n",
              "                                                     [key], {});\n",
              "          if (!dataTable) return;\n",
              "\n",
              "          const docLinkHtml = 'Like what you see? Visit the ' +\n",
              "            '<a target=\"_blank\" href=https://colab.research.google.com/notebooks/data_table.ipynb>data table notebook</a>'\n",
              "            + ' to learn more about interactive tables.';\n",
              "          element.innerHTML = '';\n",
              "          dataTable['output_type'] = 'display_data';\n",
              "          await google.colab.output.renderOutput(dataTable, element);\n",
              "          const docLink = document.createElement('div');\n",
              "          docLink.innerHTML = docLinkHtml;\n",
              "          element.appendChild(docLink);\n",
              "        }\n",
              "      </script>\n",
              "    </div>\n",
              "  </div>\n",
              "  "
            ]
          },
          "metadata": {},
          "execution_count": 10
        }
      ],
      "source": [
        "df = pd.concat([df, rows])\n",
        "df"
      ]
    },
    {
      "cell_type": "code",
      "execution_count": null,
      "id": "3cccfdd2",
      "metadata": {
        "id": "3cccfdd2"
      },
      "outputs": [],
      "source": [
        ""
      ]
    },
    {
      "cell_type": "code",
      "execution_count": null,
      "id": "d34be3ac",
      "metadata": {
        "id": "d34be3ac"
      },
      "outputs": [],
      "source": [
        ""
      ]
    },
    {
      "cell_type": "markdown",
      "id": "e41e55f3",
      "metadata": {
        "id": "e41e55f3"
      },
      "source": [
        "#### Visualizing data"
      ]
    },
    {
      "cell_type": "markdown",
      "id": "ceb0c076",
      "metadata": {
        "id": "ceb0c076"
      },
      "source": [
        "Vehicle purchase from 2000 to 2021"
      ]
    },
    {
      "cell_type": "code",
      "execution_count": 11,
      "id": "c4aae459",
      "metadata": {
        "id": "c4aae459",
        "outputId": "3a5ca51f-2d0b-42a8-8008-87d200e31e86",
        "colab": {
          "base_uri": "https://localhost:8080/",
          "height": 296
        }
      },
      "outputs": [
        {
          "output_type": "display_data",
          "data": {
            "text/plain": [
              "<Figure size 1440x360 with 1 Axes>"
            ],
            "image/png": "[encoded data removed]"
          },
          "metadata": {
            "needs_background": "light"
          }
        }
      ],
      "source": [
        "df_year = df[(df[\"year\"]>1999) & (df[\"year\"]<2022)].copy()\n",
        "df_year[\"year\"] = df_year[\"year\"].astype(int)\n",
        "plt.figure(figsize=(20,5))\n",
        "plt.xticks(rotation= -35)\n",
        "sns.countplot(data= df_year,x=\"year\")\n",
        "plt.show()"
      ]
    },
    {
      "cell_type": "code",
      "execution_count": 12,
      "id": "33ec7980",
      "metadata": {
        "id": "33ec7980",
        "outputId": "f46b1438-8863-451d-85a9-17724eb2e551",
        "colab": {
          "base_uri": "https://localhost:8080/",
          "height": 295
        }
      },
      "outputs": [
        {
          "output_type": "display_data",
          "data": {
            "text/plain": [
              "<Figure size 1440x360 with 1 Axes>"
            ],
            "image/png": "[encoded data removed]"
          },
          "metadata": {
            "needs_background": "light"
          }
        }
      ],
      "source": [
        "plt.figure(figsize=(20,5))\n",
        "plt.xticks(rotation= -35)\n",
        "sns.barplot(data= df_year,x=\"year\", y= \"price\",estimator=median)\n",
        "plt.show()"
      ]
    },
    {
      "cell_type": "markdown",
      "id": "57a8fc2f",
      "metadata": {
        "id": "57a8fc2f"
      },
      "source": [
        "We can know vehicle's price is increasing from median graph. Except for 2021, since the dataset was created in 2021, not all records are present. "
      ]
    },
    {
      "cell_type": "markdown",
      "id": "ee7e00df",
      "metadata": {
        "id": "ee7e00df"
      },
      "source": [
        "#### Manufacturer company records\n",
        "\n",
        "to see which manufacturer is smallest to largest"
      ]
    },
    {
      "cell_type": "code",
      "execution_count": 14,
      "id": "ffc073aa",
      "metadata": {
        "id": "ffc073aa",
        "colab": {
          "base_uri": "https://localhost:8080/",
          "height": 862
        },
        "outputId": "597e235b-47da-4c81-8d54-a40b4b5058ba"
      },
      "outputs": [
        {
          "output_type": "display_data",
          "data": {
            "text/plain": [
              "<Figure size 1080x1080 with 4 Axes>"
            ],
            "image/png": "[encoded data removed]"
          },
          "metadata": {}
        }
      ],
      "source": [
        "df_year[\"tmp\"] = 1\n",
        "data = pd.pivot_table(df_year, index = \"make\", columns=\"year\",values=\"tmp\",aggfunc=np.sum)\n",
        "data = data.fillna(0)\n",
        "data.loc['others'] = data[data<200].sum()\n",
        "data[data<200] = 0\n",
        "\n",
        "plt.figure(figsize=(15,15))\n",
        "tmp_data1 = data[2000].sort_values(ascending=False)\n",
        "plt.subplot(221)\n",
        "\n",
        "tmp_data1[tmp_data1>0].plot.pie(autopct=\"%.1f%%\",title=\"2007\")\n",
        "plt.axis(\"off\")\n",
        "\n",
        "tmp_data2 = data[2005].sort_values(ascending=False)\n",
        "plt.subplot(222)\n",
        "\n",
        "tmp_data2[tmp_data2>0].plot.pie(autopct=\"%.1f%%\",title=\"20010\")\n",
        "plt.axis(\"off\")\n",
        "\n",
        "tmp_data3 = data[2010].sort_values(ascending=False)\n",
        "plt.subplot(223)\n",
        "tmp_data3[tmp_data3>0].plot.pie(autopct=\"%.1f%%\",title=\"2015\")\n",
        "plt.axis(\"off\")\n",
        "\n",
        "tmp_data4 = data[2020].sort_values(ascending=False)\n",
        "plt.subplot(224)\n",
        "\n",
        "tmp_data4[tmp_data4>0].plot.pie(autopct=\"%.1f%%\",title=\"2018\")\n",
        "plt.axis(\"off\")\n",
        "\n",
        "\n",
        "plt.show()"
      ]
    },
    {
      "cell_type": "markdown",
      "id": "3a648b87",
      "metadata": {
        "id": "3a648b87"
      },
      "source": [
        "#### Top 10 models comparing"
      ]
    },
    {
      "cell_type": "code",
      "execution_count": 23,
      "id": "0ae07116",
      "metadata": {
        "id": "0ae07116",
        "outputId": "9ff95c8a-b92c-46d1-ad99-7185d7ef12d5",
        "colab": {
          "base_uri": "https://localhost:8080/",
          "height": 337
        }
      },
      "outputs": [
        {
          "output_type": "display_data",
          "data": {
            "text/plain": [
              "<Figure size 1440x432 with 1 Axes>"
            ],
            "image/png": "[encoded data removed]"
          },
          "metadata": {}
        }
      ],
      "source": [
        "df_year['state'].value_counts().head(10).plot.bar(figsize=(20,6),rot=0, title=\"Top 10 models\")\n",
        "plt.show()"
      ]
    },
    {
      "cell_type": "code",
      "execution_count": null,
      "id": "26af6a70",
      "metadata": {
        "id": "26af6a70"
      },
      "outputs": [],
      "source": [
        "#### Best and more bought color Queensland South Australia Tasmania, Northern Territory"
      ]
    },
    {
      "cell_type": "code",
      "execution_count": null,
      "id": "b88ac9be",
      "metadata": {
        "id": "b88ac9be"
      },
      "outputs": [],
      "source": [
        "# plt.figure(figsize=(15,4))\n",
        "# sns.countplot(data=df_year,x=\"paint_color\")\n",
        "# plt.show()"
      ]
    },
    {
      "cell_type": "markdown",
      "id": "ee983cf9",
      "metadata": {
        "id": "ee983cf9"
      },
      "source": [
        "The most famous color is white, black and silver"
      ]
    },
    {
      "cell_type": "markdown",
      "id": "3d508a1b",
      "metadata": {
        "id": "3d508a1b"
      },
      "source": [
        "#### Comparing color by condition\n",
        "\n",
        "for many buyers condition along with color matters alot, lets graoh it. "
      ]
    },
    {
      "cell_type": "code",
      "execution_count": 18,
      "id": "225d76f3",
      "metadata": {
        "id": "225d76f3"
      },
      "outputs": [],
      "source": [
        "# plt.figure(figsize=(15,4))\n",
        "# sns.countplot(data=df_year, x=\"paint_color\", hue=\"condition\")\n",
        "# plt.show()"
      ]
    },
    {
      "cell_type": "markdown",
      "id": "d35d493e",
      "metadata": {
        "id": "d35d493e"
      },
      "source": [
        "#### Plotng heat map\n",
        "\n",
        "Heat map to analyse data and their corelation with each other."
      ]
    },
    {
      "cell_type": "code",
      "execution_count": 21,
      "id": "b99632dd",
      "metadata": {
        "scrolled": true,
        "id": "b99632dd"
      },
      "outputs": [],
      "source": [
        "# sns.set_theme(style=\"white\")\n",
        "# rs = np.random.RandomState(33)\n",
        "# d = pd.DataFrame(data=rs.normal(size=(100, 11)),\n",
        "#                  columns=list(df))\n",
        "# corr = d.corr()\n",
        "# mask = np.triu(np.ones_like(corr, dtype=bool))\n",
        "# f, ax = plt.subplots(figsize=(11, 11))\n",
        "# cmap = sns.diverging_palette(230, 20, as_cmap=True)\n",
        "# sns.heatmap(corr, mask=mask, cmap=cmap, vmax=.3, center=0,\n",
        "#             square=True, linewidths=.5, cbar_kws={\"shrink\": .5})"
      ]
    },
    {
      "cell_type": "markdown",
      "source": [
        "### 2.2) imbalancing (75%)"
      ],
      "metadata": {
        "id": "8gNmYe0DDk_K"
      },
      "id": "8gNmYe0DDk_K"
    },
    {
      "cell_type": "code",
      "execution_count": null,
      "id": "5d9f3393",
      "metadata": {
        "id": "5d9f3393",
        "outputId": "c37d049e-57e2-4ecd-d2a4-9a9624909fb4"
      },
      "outputs": [
        {
          "data": {
            "text/html": [
              "<div>\n",
              "<style scoped>\n",
              "    .dataframe tbody tr th:only-of-type {\n",
              "        vertical-align: middle;\n",
              "    }\n",
              "\n",
              "    .dataframe tbody tr th {\n",
              "        vertical-align: top;\n",
              "    }\n",
              "\n",
              "    .dataframe thead th {\n",
              "        text-align: right;\n",
              "    }\n",
              "</style>\n",
              "<table border=\"1\" class=\"dataframe\">\n",
              "  <thead>\n",
              "    <tr style=\"text-align: right;\">\n",
              "      <th></th>\n",
              "      <th>price</th>\n",
              "      <th>year</th>\n",
              "      <th>manufacturer</th>\n",
              "      <th>model</th>\n",
              "      <th>condition</th>\n",
              "      <th>transmission</th>\n",
              "      <th>type</th>\n",
              "      <th>paint_color</th>\n",
              "      <th>state</th>\n",
              "      <th>lat</th>\n",
              "      <th>long</th>\n",
              "    </tr>\n",
              "  </thead>\n",
              "  <tbody>\n",
              "    <tr>\n",
              "      <th>170079</th>\n",
              "      <td>20988</td>\n",
              "      <td>2014.0</td>\n",
              "      <td>chevrolet</td>\n",
              "      <td>silverado 1500 4x4 z71</td>\n",
              "      <td>excellent</td>\n",
              "      <td>automatic</td>\n",
              "      <td>pickup</td>\n",
              "      <td>white</td>\n",
              "      <td>ks</td>\n",
              "      <td>NaN</td>\n",
              "      <td>NaN</td>\n",
              "    </tr>\n",
              "    <tr>\n",
              "      <th>287442</th>\n",
              "      <td>17488</td>\n",
              "      <td>2018.0</td>\n",
              "      <td>hyundai</td>\n",
              "      <td>santa fe sport</td>\n",
              "      <td>excellent</td>\n",
              "      <td>automatic</td>\n",
              "      <td>SUV</td>\n",
              "      <td>white</td>\n",
              "      <td>oh</td>\n",
              "      <td>41.246430</td>\n",
              "      <td>-81.358530</td>\n",
              "    </tr>\n",
              "    <tr>\n",
              "      <th>279396</th>\n",
              "      <td>15990</td>\n",
              "      <td>2017.0</td>\n",
              "      <td>toyota</td>\n",
              "      <td>yaris ia sedan 4d</td>\n",
              "      <td>good</td>\n",
              "      <td>other</td>\n",
              "      <td>sedan</td>\n",
              "      <td>red</td>\n",
              "      <td>ny</td>\n",
              "      <td>43.160000</td>\n",
              "      <td>-77.610000</td>\n",
              "    </tr>\n",
              "    <tr>\n",
              "      <th>33580</th>\n",
              "      <td>4900</td>\n",
              "      <td>2009.0</td>\n",
              "      <td>bmw</td>\n",
              "      <td>335i</td>\n",
              "      <td>good</td>\n",
              "      <td>automatic</td>\n",
              "      <td>other</td>\n",
              "      <td>custom</td>\n",
              "      <td>ca</td>\n",
              "      <td>33.851200</td>\n",
              "      <td>-118.145700</td>\n",
              "    </tr>\n",
              "    <tr>\n",
              "      <th>141372</th>\n",
              "      <td>39995</td>\n",
              "      <td>1996.0</td>\n",
              "      <td>porsche</td>\n",
              "      <td>911 carrera</td>\n",
              "      <td>NaN</td>\n",
              "      <td>automatic</td>\n",
              "      <td>convertible</td>\n",
              "      <td>silver</td>\n",
              "      <td>il</td>\n",
              "      <td>41.572305</td>\n",
              "      <td>-88.113993</td>\n",
              "    </tr>\n",
              "    <tr>\n",
              "      <th>...</th>\n",
              "      <td>...</td>\n",
              "      <td>...</td>\n",
              "      <td>...</td>\n",
              "      <td>...</td>\n",
              "      <td>...</td>\n",
              "      <td>...</td>\n",
              "      <td>...</td>\n",
              "      <td>...</td>\n",
              "      <td>...</td>\n",
              "      <td>...</td>\n",
              "      <td>...</td>\n",
              "    </tr>\n",
              "    <tr>\n",
              "      <th>339788</th>\n",
              "      <td>18695</td>\n",
              "      <td>2013.0</td>\n",
              "      <td>ram</td>\n",
              "      <td>1500</td>\n",
              "      <td>NaN</td>\n",
              "      <td>automatic</td>\n",
              "      <td>pickup</td>\n",
              "      <td>NaN</td>\n",
              "      <td>pa</td>\n",
              "      <td>40.894535</td>\n",
              "      <td>-74.152367</td>\n",
              "    </tr>\n",
              "    <tr>\n",
              "      <th>412741</th>\n",
              "      <td>12999</td>\n",
              "      <td>2016.0</td>\n",
              "      <td>chevrolet</td>\n",
              "      <td>malibu lt</td>\n",
              "      <td>NaN</td>\n",
              "      <td>automatic</td>\n",
              "      <td>sedan</td>\n",
              "      <td>silver</td>\n",
              "      <td>wa</td>\n",
              "      <td>46.214960</td>\n",
              "      <td>-119.122349</td>\n",
              "    </tr>\n",
              "    <tr>\n",
              "      <th>251740</th>\n",
              "      <td>5999</td>\n",
              "      <td>2011.0</td>\n",
              "      <td>volkswagen</td>\n",
              "      <td>golf</td>\n",
              "      <td>NaN</td>\n",
              "      <td>automatic</td>\n",
              "      <td>other</td>\n",
              "      <td>blue</td>\n",
              "      <td>nj</td>\n",
              "      <td>40.319200</td>\n",
              "      <td>-74.428500</td>\n",
              "    </tr>\n",
              "    <tr>\n",
              "      <th>217995</th>\n",
              "      <td>27990</td>\n",
              "      <td>2019.0</td>\n",
              "      <td>infiniti</td>\n",
              "      <td>qx50 luxe sport utility</td>\n",
              "      <td>good</td>\n",
              "      <td>automatic</td>\n",
              "      <td>hatchback</td>\n",
              "      <td>NaN</td>\n",
              "      <td>mn</td>\n",
              "      <td>45.550000</td>\n",
              "      <td>-94.220000</td>\n",
              "    </tr>\n",
              "    <tr>\n",
              "      <th>363973</th>\n",
              "      <td>13500</td>\n",
              "      <td>2001.0</td>\n",
              "      <td>ram</td>\n",
              "      <td>3500 heavy duty</td>\n",
              "      <td>excellent</td>\n",
              "      <td>automatic</td>\n",
              "      <td>NaN</td>\n",
              "      <td>NaN</td>\n",
              "      <td>tx</td>\n",
              "      <td>30.376400</td>\n",
              "      <td>-97.707800</td>\n",
              "    </tr>\n",
              "  </tbody>\n",
              "</table>\n",
              "<p>320160 rows × 11 columns</p>\n",
              "</div>"
            ],
            "text/plain": [
              "        price    year manufacturer                    model  condition  \\\n",
              "170079  20988  2014.0    chevrolet   silverado 1500 4x4 z71  excellent   \n",
              "287442  17488  2018.0      hyundai           santa fe sport  excellent   \n",
              "279396  15990  2017.0       toyota        yaris ia sedan 4d       good   \n",
              "33580    4900  2009.0          bmw                     335i       good   \n",
              "141372  39995  1996.0      porsche              911 carrera        NaN   \n",
              "...       ...     ...          ...                      ...        ...   \n",
              "339788  18695  2013.0          ram                     1500        NaN   \n",
              "412741  12999  2016.0    chevrolet                malibu lt        NaN   \n",
              "251740   5999  2011.0   volkswagen                     golf        NaN   \n",
              "217995  27990  2019.0     infiniti  qx50 luxe sport utility       good   \n",
              "363973  13500  2001.0          ram          3500 heavy duty  excellent   \n",
              "\n",
              "       transmission         type paint_color state        lat        long  \n",
              "170079    automatic       pickup       white    ks        NaN         NaN  \n",
              "287442    automatic          SUV       white    oh  41.246430  -81.358530  \n",
              "279396        other        sedan         red    ny  43.160000  -77.610000  \n",
              "33580     automatic        other      custom    ca  33.851200 -118.145700  \n",
              "141372    automatic  convertible      silver    il  41.572305  -88.113993  \n",
              "...             ...          ...         ...   ...        ...         ...  \n",
              "339788    automatic       pickup         NaN    pa  40.894535  -74.152367  \n",
              "412741    automatic        sedan      silver    wa  46.214960 -119.122349  \n",
              "251740    automatic        other        blue    nj  40.319200  -74.428500  \n",
              "217995    automatic    hatchback         NaN    mn  45.550000  -94.220000  \n",
              "363973    automatic          NaN         NaN    tx  30.376400  -97.707800  \n",
              "\n",
              "[320160 rows x 11 columns]"
            ]
          },
          "execution_count": 48,
          "metadata": {},
          "output_type": "execute_result"
        }
      ],
      "source": [
        "df1=pd.read_csv('vehicles.csv')\n",
        "columns=[ \"price\", \"year\", \"manufacturer\", \"model\", \"condition\", \"transmission\", \"type\", \"paint_color\", \"state\", \"lat\", \"long\"]\n",
        "df1 = df1[columns]\n",
        "rows1 = df1.sample(frac =.75)\n",
        "rows1"
      ]
    },
    {
      "cell_type": "code",
      "execution_count": null,
      "id": "62e67a7f",
      "metadata": {
        "id": "62e67a7f",
        "outputId": "c16bd46c-3d69-40cb-93c2-ab72781c1514"
      },
      "outputs": [
        {
          "data": {
            "text/html": [
              "<div>\n",
              "<style scoped>\n",
              "    .dataframe tbody tr th:only-of-type {\n",
              "        vertical-align: middle;\n",
              "    }\n",
              "\n",
              "    .dataframe tbody tr th {\n",
              "        vertical-align: top;\n",
              "    }\n",
              "\n",
              "    .dataframe thead th {\n",
              "        text-align: right;\n",
              "    }\n",
              "</style>\n",
              "<table border=\"1\" class=\"dataframe\">\n",
              "  <thead>\n",
              "    <tr style=\"text-align: right;\">\n",
              "      <th></th>\n",
              "      <th>price</th>\n",
              "      <th>year</th>\n",
              "      <th>manufacturer</th>\n",
              "      <th>model</th>\n",
              "      <th>condition</th>\n",
              "      <th>transmission</th>\n",
              "      <th>type</th>\n",
              "      <th>paint_color</th>\n",
              "      <th>state</th>\n",
              "      <th>lat</th>\n",
              "      <th>long</th>\n",
              "    </tr>\n",
              "  </thead>\n",
              "  <tbody>\n",
              "    <tr>\n",
              "      <th>0</th>\n",
              "      <td>6000</td>\n",
              "      <td>NaN</td>\n",
              "      <td>NaN</td>\n",
              "      <td>NaN</td>\n",
              "      <td>NaN</td>\n",
              "      <td>NaN</td>\n",
              "      <td>NaN</td>\n",
              "      <td>NaN</td>\n",
              "      <td>az</td>\n",
              "      <td>NaN</td>\n",
              "      <td>NaN</td>\n",
              "    </tr>\n",
              "    <tr>\n",
              "      <th>1</th>\n",
              "      <td>11900</td>\n",
              "      <td>NaN</td>\n",
              "      <td>NaN</td>\n",
              "      <td>NaN</td>\n",
              "      <td>NaN</td>\n",
              "      <td>NaN</td>\n",
              "      <td>NaN</td>\n",
              "      <td>NaN</td>\n",
              "      <td>ar</td>\n",
              "      <td>NaN</td>\n",
              "      <td>NaN</td>\n",
              "    </tr>\n",
              "    <tr>\n",
              "      <th>2</th>\n",
              "      <td>21000</td>\n",
              "      <td>NaN</td>\n",
              "      <td>NaN</td>\n",
              "      <td>NaN</td>\n",
              "      <td>NaN</td>\n",
              "      <td>NaN</td>\n",
              "      <td>NaN</td>\n",
              "      <td>NaN</td>\n",
              "      <td>fl</td>\n",
              "      <td>NaN</td>\n",
              "      <td>NaN</td>\n",
              "    </tr>\n",
              "    <tr>\n",
              "      <th>3</th>\n",
              "      <td>1500</td>\n",
              "      <td>NaN</td>\n",
              "      <td>NaN</td>\n",
              "      <td>NaN</td>\n",
              "      <td>NaN</td>\n",
              "      <td>NaN</td>\n",
              "      <td>NaN</td>\n",
              "      <td>NaN</td>\n",
              "      <td>ma</td>\n",
              "      <td>NaN</td>\n",
              "      <td>NaN</td>\n",
              "    </tr>\n",
              "    <tr>\n",
              "      <th>4</th>\n",
              "      <td>4900</td>\n",
              "      <td>NaN</td>\n",
              "      <td>NaN</td>\n",
              "      <td>NaN</td>\n",
              "      <td>NaN</td>\n",
              "      <td>NaN</td>\n",
              "      <td>NaN</td>\n",
              "      <td>NaN</td>\n",
              "      <td>nc</td>\n",
              "      <td>NaN</td>\n",
              "      <td>NaN</td>\n",
              "    </tr>\n",
              "    <tr>\n",
              "      <th>...</th>\n",
              "      <td>...</td>\n",
              "      <td>...</td>\n",
              "      <td>...</td>\n",
              "      <td>...</td>\n",
              "      <td>...</td>\n",
              "      <td>...</td>\n",
              "      <td>...</td>\n",
              "      <td>...</td>\n",
              "      <td>...</td>\n",
              "      <td>...</td>\n",
              "      <td>...</td>\n",
              "    </tr>\n",
              "    <tr>\n",
              "      <th>339788</th>\n",
              "      <td>18695</td>\n",
              "      <td>2013.0</td>\n",
              "      <td>ram</td>\n",
              "      <td>1500</td>\n",
              "      <td>NaN</td>\n",
              "      <td>automatic</td>\n",
              "      <td>pickup</td>\n",
              "      <td>NaN</td>\n",
              "      <td>pa</td>\n",
              "      <td>40.894535</td>\n",
              "      <td>-74.152367</td>\n",
              "    </tr>\n",
              "    <tr>\n",
              "      <th>412741</th>\n",
              "      <td>12999</td>\n",
              "      <td>2016.0</td>\n",
              "      <td>chevrolet</td>\n",
              "      <td>malibu lt</td>\n",
              "      <td>NaN</td>\n",
              "      <td>automatic</td>\n",
              "      <td>sedan</td>\n",
              "      <td>silver</td>\n",
              "      <td>wa</td>\n",
              "      <td>46.214960</td>\n",
              "      <td>-119.122349</td>\n",
              "    </tr>\n",
              "    <tr>\n",
              "      <th>251740</th>\n",
              "      <td>5999</td>\n",
              "      <td>2011.0</td>\n",
              "      <td>volkswagen</td>\n",
              "      <td>golf</td>\n",
              "      <td>NaN</td>\n",
              "      <td>automatic</td>\n",
              "      <td>other</td>\n",
              "      <td>blue</td>\n",
              "      <td>nj</td>\n",
              "      <td>40.319200</td>\n",
              "      <td>-74.428500</td>\n",
              "    </tr>\n",
              "    <tr>\n",
              "      <th>217995</th>\n",
              "      <td>27990</td>\n",
              "      <td>2019.0</td>\n",
              "      <td>infiniti</td>\n",
              "      <td>qx50 luxe sport utility</td>\n",
              "      <td>good</td>\n",
              "      <td>automatic</td>\n",
              "      <td>hatchback</td>\n",
              "      <td>NaN</td>\n",
              "      <td>mn</td>\n",
              "      <td>45.550000</td>\n",
              "      <td>-94.220000</td>\n",
              "    </tr>\n",
              "    <tr>\n",
              "      <th>363973</th>\n",
              "      <td>13500</td>\n",
              "      <td>2001.0</td>\n",
              "      <td>ram</td>\n",
              "      <td>3500 heavy duty</td>\n",
              "      <td>excellent</td>\n",
              "      <td>automatic</td>\n",
              "      <td>NaN</td>\n",
              "      <td>NaN</td>\n",
              "      <td>tx</td>\n",
              "      <td>30.376400</td>\n",
              "      <td>-97.707800</td>\n",
              "    </tr>\n",
              "  </tbody>\n",
              "</table>\n",
              "<p>747040 rows × 11 columns</p>\n",
              "</div>"
            ],
            "text/plain": [
              "        price    year manufacturer                    model  condition  \\\n",
              "0        6000     NaN          NaN                      NaN        NaN   \n",
              "1       11900     NaN          NaN                      NaN        NaN   \n",
              "2       21000     NaN          NaN                      NaN        NaN   \n",
              "3        1500     NaN          NaN                      NaN        NaN   \n",
              "4        4900     NaN          NaN                      NaN        NaN   \n",
              "...       ...     ...          ...                      ...        ...   \n",
              "339788  18695  2013.0          ram                     1500        NaN   \n",
              "412741  12999  2016.0    chevrolet                malibu lt        NaN   \n",
              "251740   5999  2011.0   volkswagen                     golf        NaN   \n",
              "217995  27990  2019.0     infiniti  qx50 luxe sport utility       good   \n",
              "363973  13500  2001.0          ram          3500 heavy duty  excellent   \n",
              "\n",
              "       transmission       type paint_color state        lat        long  \n",
              "0               NaN        NaN         NaN    az        NaN         NaN  \n",
              "1               NaN        NaN         NaN    ar        NaN         NaN  \n",
              "2               NaN        NaN         NaN    fl        NaN         NaN  \n",
              "3               NaN        NaN         NaN    ma        NaN         NaN  \n",
              "4               NaN        NaN         NaN    nc        NaN         NaN  \n",
              "...             ...        ...         ...   ...        ...         ...  \n",
              "339788    automatic     pickup         NaN    pa  40.894535  -74.152367  \n",
              "412741    automatic      sedan      silver    wa  46.214960 -119.122349  \n",
              "251740    automatic      other        blue    nj  40.319200  -74.428500  \n",
              "217995    automatic  hatchback         NaN    mn  45.550000  -94.220000  \n",
              "363973    automatic        NaN         NaN    tx  30.376400  -97.707800  \n",
              "\n",
              "[747040 rows x 11 columns]"
            ]
          },
          "execution_count": 49,
          "metadata": {},
          "output_type": "execute_result"
        }
      ],
      "source": [
        "df1 = pd.concat([df1, rows1])\n",
        "df1"
      ]
    },
    {
      "cell_type": "code",
      "execution_count": null,
      "id": "38dc90fa",
      "metadata": {
        "id": "38dc90fa",
        "outputId": "3d550c7f-42f0-453b-a039-e357d95592c7"
      },
      "outputs": [
        {
          "data": {
            "text/plain": [
              "(305380, 11)"
            ]
          },
          "execution_count": 54,
          "metadata": {},
          "output_type": "execute_result"
        }
      ],
      "source": [
        "df1 = df1.dropna()\n",
        "df1.shape"
      ]
    },
    {
      "cell_type": "markdown",
      "id": "661c052e",
      "metadata": {
        "id": "661c052e"
      },
      "source": [
        "#### Visualizing data after imbalancing\n",
        "\n",
        "Vehicle purchase from 2000 to 2021"
      ]
    },
    {
      "cell_type": "code",
      "execution_count": null,
      "id": "b0bdaffd",
      "metadata": {
        "id": "b0bdaffd",
        "outputId": "d723b8f6-29ff-4e22-e6d2-e59f66a7d26b"
      },
      "outputs": [
        {
          "data": {
            "image/png": "[encoded data removed]",
            "text/plain": [
              "<Figure size 1440x360 with 1 Axes>"
            ]
          },
          "metadata": {},
          "output_type": "display_data"
        }
      ],
      "source": [
        "df_year = df1[(df1[\"year\"]>1999) & (df1[\"year\"]<2022)].copy()\n",
        "df_year[\"year\"] = df_year[\"year\"].astype(int)\n",
        "plt.figure(figsize=(20,5))\n",
        "plt.xticks(rotation= -35)\n",
        "sns.countplot(data= df_year,x=\"year\")\n",
        "plt.show()"
      ]
    },
    {
      "cell_type": "markdown",
      "id": "908a1c63",
      "metadata": {
        "id": "908a1c63"
      },
      "source": [
        "#### Comparing color by condition adrer 75% imbalancing"
      ]
    },
    {
      "cell_type": "code",
      "execution_count": null,
      "id": "51d45a10",
      "metadata": {
        "id": "51d45a10",
        "outputId": "cea113f9-0523-4572-8f41-6de1d3abd77f"
      },
      "outputs": [
        {
          "data": {
            "image/png": "[encoded data removed]",
            "text/plain": [
              "<Figure size 1080x288 with 1 Axes>"
            ]
          },
          "metadata": {},
          "output_type": "display_data"
        }
      ],
      "source": [
        "plt.figure(figsize=(15,4))\n",
        "sns.countplot(data=df_year, x=\"paint_color\", hue=\"condition\")\n",
        "plt.show()"
      ]
    },
    {
      "cell_type": "markdown",
      "id": "8107750e",
      "metadata": {
        "id": "8107750e"
      },
      "source": [
        "### 2.3) Imbalancing (95%)"
      ]
    },
    {
      "cell_type": "code",
      "execution_count": null,
      "id": "f7a564f9",
      "metadata": {
        "id": "f7a564f9",
        "outputId": "ba12eeb2-0916-4b55-d805-8c5dcd98ebce"
      },
      "outputs": [
        {
          "data": {
            "text/html": [
              "<div>\n",
              "<style scoped>\n",
              "    .dataframe tbody tr th:only-of-type {\n",
              "        vertical-align: middle;\n",
              "    }\n",
              "\n",
              "    .dataframe tbody tr th {\n",
              "        vertical-align: top;\n",
              "    }\n",
              "\n",
              "    .dataframe thead th {\n",
              "        text-align: right;\n",
              "    }\n",
              "</style>\n",
              "<table border=\"1\" class=\"dataframe\">\n",
              "  <thead>\n",
              "    <tr style=\"text-align: right;\">\n",
              "      <th></th>\n",
              "      <th>price</th>\n",
              "      <th>year</th>\n",
              "      <th>manufacturer</th>\n",
              "      <th>model</th>\n",
              "      <th>condition</th>\n",
              "      <th>transmission</th>\n",
              "      <th>type</th>\n",
              "      <th>paint_color</th>\n",
              "      <th>state</th>\n",
              "      <th>lat</th>\n",
              "      <th>long</th>\n",
              "    </tr>\n",
              "  </thead>\n",
              "  <tbody>\n",
              "    <tr>\n",
              "      <th>144736</th>\n",
              "      <td>33990</td>\n",
              "      <td>2018.0</td>\n",
              "      <td>gmc</td>\n",
              "      <td>sierra 1500 double cab sle</td>\n",
              "      <td>good</td>\n",
              "      <td>other</td>\n",
              "      <td>pickup</td>\n",
              "      <td>white</td>\n",
              "      <td>il</td>\n",
              "      <td>42.270000</td>\n",
              "      <td>-89.060000</td>\n",
              "    </tr>\n",
              "    <tr>\n",
              "      <th>408101</th>\n",
              "      <td>4999</td>\n",
              "      <td>2011.0</td>\n",
              "      <td>kia</td>\n",
              "      <td>sorento</td>\n",
              "      <td>excellent</td>\n",
              "      <td>automatic</td>\n",
              "      <td>SUV</td>\n",
              "      <td>black</td>\n",
              "      <td>wa</td>\n",
              "      <td>47.103695</td>\n",
              "      <td>-122.435819</td>\n",
              "    </tr>\n",
              "    <tr>\n",
              "      <th>155778</th>\n",
              "      <td>7500</td>\n",
              "      <td>2008.0</td>\n",
              "      <td>chrysler</td>\n",
              "      <td>sebring touring</td>\n",
              "      <td>like new</td>\n",
              "      <td>automatic</td>\n",
              "      <td>convertible</td>\n",
              "      <td>white</td>\n",
              "      <td>ia</td>\n",
              "      <td>41.963666</td>\n",
              "      <td>-91.720216</td>\n",
              "    </tr>\n",
              "    <tr>\n",
              "      <th>300904</th>\n",
              "      <td>15975</td>\n",
              "      <td>2010.0</td>\n",
              "      <td>chevrolet</td>\n",
              "      <td>silverado 1500</td>\n",
              "      <td>excellent</td>\n",
              "      <td>automatic</td>\n",
              "      <td>pickup</td>\n",
              "      <td>red</td>\n",
              "      <td>oh</td>\n",
              "      <td>40.071628</td>\n",
              "      <td>-80.859182</td>\n",
              "    </tr>\n",
              "    <tr>\n",
              "      <th>284916</th>\n",
              "      <td>7895</td>\n",
              "      <td>2012.0</td>\n",
              "      <td>jeep</td>\n",
              "      <td>compass latitude 4x4</td>\n",
              "      <td>excellent</td>\n",
              "      <td>automatic</td>\n",
              "      <td>SUV</td>\n",
              "      <td>red</td>\n",
              "      <td>nh</td>\n",
              "      <td>42.980400</td>\n",
              "      <td>-71.457402</td>\n",
              "    </tr>\n",
              "    <tr>\n",
              "      <th>...</th>\n",
              "      <td>...</td>\n",
              "      <td>...</td>\n",
              "      <td>...</td>\n",
              "      <td>...</td>\n",
              "      <td>...</td>\n",
              "      <td>...</td>\n",
              "      <td>...</td>\n",
              "      <td>...</td>\n",
              "      <td>...</td>\n",
              "      <td>...</td>\n",
              "      <td>...</td>\n",
              "    </tr>\n",
              "    <tr>\n",
              "      <th>6835</th>\n",
              "      <td>45995</td>\n",
              "      <td>2021.0</td>\n",
              "      <td>acura</td>\n",
              "      <td>tlx a-spec awd</td>\n",
              "      <td>excellent</td>\n",
              "      <td>automatic</td>\n",
              "      <td>sedan</td>\n",
              "      <td>grey</td>\n",
              "      <td>ak</td>\n",
              "      <td>61.217811</td>\n",
              "      <td>-149.870231</td>\n",
              "    </tr>\n",
              "    <tr>\n",
              "      <th>76751</th>\n",
              "      <td>29990</td>\n",
              "      <td>2019.0</td>\n",
              "      <td>kia</td>\n",
              "      <td>niro ev ex wagon 4d</td>\n",
              "      <td>good</td>\n",
              "      <td>other</td>\n",
              "      <td>wagon</td>\n",
              "      <td>black</td>\n",
              "      <td>co</td>\n",
              "      <td>39.760000</td>\n",
              "      <td>-104.870000</td>\n",
              "    </tr>\n",
              "    <tr>\n",
              "      <th>171171</th>\n",
              "      <td>15990</td>\n",
              "      <td>2017.0</td>\n",
              "      <td>ford</td>\n",
              "      <td>c-max hybrid se wagon 4d</td>\n",
              "      <td>good</td>\n",
              "      <td>other</td>\n",
              "      <td>wagon</td>\n",
              "      <td>blue</td>\n",
              "      <td>ky</td>\n",
              "      <td>38.040000</td>\n",
              "      <td>-84.450000</td>\n",
              "    </tr>\n",
              "    <tr>\n",
              "      <th>256529</th>\n",
              "      <td>4995</td>\n",
              "      <td>2010.0</td>\n",
              "      <td>honda</td>\n",
              "      <td>odyssey</td>\n",
              "      <td>good</td>\n",
              "      <td>automatic</td>\n",
              "      <td>van</td>\n",
              "      <td>black</td>\n",
              "      <td>nj</td>\n",
              "      <td>39.937155</td>\n",
              "      <td>-75.088194</td>\n",
              "    </tr>\n",
              "    <tr>\n",
              "      <th>77298</th>\n",
              "      <td>15590</td>\n",
              "      <td>2015.0</td>\n",
              "      <td>nissan</td>\n",
              "      <td>rogue select s sport</td>\n",
              "      <td>good</td>\n",
              "      <td>other</td>\n",
              "      <td>hatchback</td>\n",
              "      <td>white</td>\n",
              "      <td>co</td>\n",
              "      <td>39.760000</td>\n",
              "      <td>-104.870000</td>\n",
              "    </tr>\n",
              "  </tbody>\n",
              "</table>\n",
              "<p>290111 rows × 11 columns</p>\n",
              "</div>"
            ],
            "text/plain": [
              "        price    year manufacturer                       model  condition  \\\n",
              "144736  33990  2018.0          gmc  sierra 1500 double cab sle       good   \n",
              "408101   4999  2011.0          kia                     sorento  excellent   \n",
              "155778   7500  2008.0     chrysler             sebring touring   like new   \n",
              "300904  15975  2010.0    chevrolet              silverado 1500  excellent   \n",
              "284916   7895  2012.0         jeep        compass latitude 4x4  excellent   \n",
              "...       ...     ...          ...                         ...        ...   \n",
              "6835    45995  2021.0        acura              tlx a-spec awd  excellent   \n",
              "76751   29990  2019.0          kia         niro ev ex wagon 4d       good   \n",
              "171171  15990  2017.0         ford    c-max hybrid se wagon 4d       good   \n",
              "256529   4995  2010.0        honda                     odyssey       good   \n",
              "77298   15590  2015.0       nissan        rogue select s sport       good   \n",
              "\n",
              "       transmission         type paint_color state        lat        long  \n",
              "144736        other       pickup       white    il  42.270000  -89.060000  \n",
              "408101    automatic          SUV       black    wa  47.103695 -122.435819  \n",
              "155778    automatic  convertible       white    ia  41.963666  -91.720216  \n",
              "300904    automatic       pickup         red    oh  40.071628  -80.859182  \n",
              "284916    automatic          SUV         red    nh  42.980400  -71.457402  \n",
              "...             ...          ...         ...   ...        ...         ...  \n",
              "6835      automatic        sedan        grey    ak  61.217811 -149.870231  \n",
              "76751         other        wagon       black    co  39.760000 -104.870000  \n",
              "171171        other        wagon        blue    ky  38.040000  -84.450000  \n",
              "256529    automatic          van       black    nj  39.937155  -75.088194  \n",
              "77298         other    hatchback       white    co  39.760000 -104.870000  \n",
              "\n",
              "[290111 rows x 11 columns]"
            ]
          },
          "execution_count": 57,
          "metadata": {},
          "output_type": "execute_result"
        }
      ],
      "source": [
        "rows2  = df1.sample(frac =.95)\n",
        "rows2"
      ]
    },
    {
      "cell_type": "code",
      "execution_count": null,
      "id": "4e1b975d",
      "metadata": {
        "id": "4e1b975d",
        "outputId": "5f0aa9a5-f1b1-45c9-bdf9-fe0366b7a762"
      },
      "outputs": [
        {
          "data": {
            "text/html": [
              "<div>\n",
              "<style scoped>\n",
              "    .dataframe tbody tr th:only-of-type {\n",
              "        vertical-align: middle;\n",
              "    }\n",
              "\n",
              "    .dataframe tbody tr th {\n",
              "        vertical-align: top;\n",
              "    }\n",
              "\n",
              "    .dataframe thead th {\n",
              "        text-align: right;\n",
              "    }\n",
              "</style>\n",
              "<table border=\"1\" class=\"dataframe\">\n",
              "  <thead>\n",
              "    <tr style=\"text-align: right;\">\n",
              "      <th></th>\n",
              "      <th>price</th>\n",
              "      <th>year</th>\n",
              "      <th>manufacturer</th>\n",
              "      <th>model</th>\n",
              "      <th>condition</th>\n",
              "      <th>transmission</th>\n",
              "      <th>type</th>\n",
              "      <th>paint_color</th>\n",
              "      <th>state</th>\n",
              "      <th>lat</th>\n",
              "      <th>long</th>\n",
              "    </tr>\n",
              "  </thead>\n",
              "  <tbody>\n",
              "    <tr>\n",
              "      <th>27</th>\n",
              "      <td>33590</td>\n",
              "      <td>2014.0</td>\n",
              "      <td>gmc</td>\n",
              "      <td>sierra 1500 crew cab slt</td>\n",
              "      <td>good</td>\n",
              "      <td>other</td>\n",
              "      <td>pickup</td>\n",
              "      <td>white</td>\n",
              "      <td>al</td>\n",
              "      <td>32.590000</td>\n",
              "      <td>-85.480000</td>\n",
              "    </tr>\n",
              "    <tr>\n",
              "      <th>28</th>\n",
              "      <td>22590</td>\n",
              "      <td>2010.0</td>\n",
              "      <td>chevrolet</td>\n",
              "      <td>silverado 1500</td>\n",
              "      <td>good</td>\n",
              "      <td>other</td>\n",
              "      <td>pickup</td>\n",
              "      <td>blue</td>\n",
              "      <td>al</td>\n",
              "      <td>32.590000</td>\n",
              "      <td>-85.480000</td>\n",
              "    </tr>\n",
              "    <tr>\n",
              "      <th>29</th>\n",
              "      <td>39590</td>\n",
              "      <td>2020.0</td>\n",
              "      <td>chevrolet</td>\n",
              "      <td>silverado 1500 crew</td>\n",
              "      <td>good</td>\n",
              "      <td>other</td>\n",
              "      <td>pickup</td>\n",
              "      <td>red</td>\n",
              "      <td>al</td>\n",
              "      <td>32.590000</td>\n",
              "      <td>-85.480000</td>\n",
              "    </tr>\n",
              "    <tr>\n",
              "      <th>30</th>\n",
              "      <td>30990</td>\n",
              "      <td>2017.0</td>\n",
              "      <td>toyota</td>\n",
              "      <td>tundra double cab sr</td>\n",
              "      <td>good</td>\n",
              "      <td>other</td>\n",
              "      <td>pickup</td>\n",
              "      <td>red</td>\n",
              "      <td>al</td>\n",
              "      <td>32.590000</td>\n",
              "      <td>-85.480000</td>\n",
              "    </tr>\n",
              "    <tr>\n",
              "      <th>31</th>\n",
              "      <td>15000</td>\n",
              "      <td>2013.0</td>\n",
              "      <td>ford</td>\n",
              "      <td>f-150 xlt</td>\n",
              "      <td>excellent</td>\n",
              "      <td>automatic</td>\n",
              "      <td>truck</td>\n",
              "      <td>black</td>\n",
              "      <td>al</td>\n",
              "      <td>32.592000</td>\n",
              "      <td>-85.518900</td>\n",
              "    </tr>\n",
              "    <tr>\n",
              "      <th>...</th>\n",
              "      <td>...</td>\n",
              "      <td>...</td>\n",
              "      <td>...</td>\n",
              "      <td>...</td>\n",
              "      <td>...</td>\n",
              "      <td>...</td>\n",
              "      <td>...</td>\n",
              "      <td>...</td>\n",
              "      <td>...</td>\n",
              "      <td>...</td>\n",
              "      <td>...</td>\n",
              "    </tr>\n",
              "    <tr>\n",
              "      <th>6835</th>\n",
              "      <td>45995</td>\n",
              "      <td>2021.0</td>\n",
              "      <td>acura</td>\n",
              "      <td>tlx a-spec awd</td>\n",
              "      <td>excellent</td>\n",
              "      <td>automatic</td>\n",
              "      <td>sedan</td>\n",
              "      <td>grey</td>\n",
              "      <td>ak</td>\n",
              "      <td>61.217811</td>\n",
              "      <td>-149.870231</td>\n",
              "    </tr>\n",
              "    <tr>\n",
              "      <th>76751</th>\n",
              "      <td>29990</td>\n",
              "      <td>2019.0</td>\n",
              "      <td>kia</td>\n",
              "      <td>niro ev ex wagon 4d</td>\n",
              "      <td>good</td>\n",
              "      <td>other</td>\n",
              "      <td>wagon</td>\n",
              "      <td>black</td>\n",
              "      <td>co</td>\n",
              "      <td>39.760000</td>\n",
              "      <td>-104.870000</td>\n",
              "    </tr>\n",
              "    <tr>\n",
              "      <th>171171</th>\n",
              "      <td>15990</td>\n",
              "      <td>2017.0</td>\n",
              "      <td>ford</td>\n",
              "      <td>c-max hybrid se wagon 4d</td>\n",
              "      <td>good</td>\n",
              "      <td>other</td>\n",
              "      <td>wagon</td>\n",
              "      <td>blue</td>\n",
              "      <td>ky</td>\n",
              "      <td>38.040000</td>\n",
              "      <td>-84.450000</td>\n",
              "    </tr>\n",
              "    <tr>\n",
              "      <th>256529</th>\n",
              "      <td>4995</td>\n",
              "      <td>2010.0</td>\n",
              "      <td>honda</td>\n",
              "      <td>odyssey</td>\n",
              "      <td>good</td>\n",
              "      <td>automatic</td>\n",
              "      <td>van</td>\n",
              "      <td>black</td>\n",
              "      <td>nj</td>\n",
              "      <td>39.937155</td>\n",
              "      <td>-75.088194</td>\n",
              "    </tr>\n",
              "    <tr>\n",
              "      <th>77298</th>\n",
              "      <td>15590</td>\n",
              "      <td>2015.0</td>\n",
              "      <td>nissan</td>\n",
              "      <td>rogue select s sport</td>\n",
              "      <td>good</td>\n",
              "      <td>other</td>\n",
              "      <td>hatchback</td>\n",
              "      <td>white</td>\n",
              "      <td>co</td>\n",
              "      <td>39.760000</td>\n",
              "      <td>-104.870000</td>\n",
              "    </tr>\n",
              "  </tbody>\n",
              "</table>\n",
              "<p>595491 rows × 11 columns</p>\n",
              "</div>"
            ],
            "text/plain": [
              "        price    year manufacturer                     model  condition  \\\n",
              "27      33590  2014.0          gmc  sierra 1500 crew cab slt       good   \n",
              "28      22590  2010.0    chevrolet            silverado 1500       good   \n",
              "29      39590  2020.0    chevrolet       silverado 1500 crew       good   \n",
              "30      30990  2017.0       toyota      tundra double cab sr       good   \n",
              "31      15000  2013.0         ford                 f-150 xlt  excellent   \n",
              "...       ...     ...          ...                       ...        ...   \n",
              "6835    45995  2021.0        acura            tlx a-spec awd  excellent   \n",
              "76751   29990  2019.0          kia       niro ev ex wagon 4d       good   \n",
              "171171  15990  2017.0         ford  c-max hybrid se wagon 4d       good   \n",
              "256529   4995  2010.0        honda                   odyssey       good   \n",
              "77298   15590  2015.0       nissan      rogue select s sport       good   \n",
              "\n",
              "       transmission       type paint_color state        lat        long  \n",
              "27            other     pickup       white    al  32.590000  -85.480000  \n",
              "28            other     pickup        blue    al  32.590000  -85.480000  \n",
              "29            other     pickup         red    al  32.590000  -85.480000  \n",
              "30            other     pickup         red    al  32.590000  -85.480000  \n",
              "31        automatic      truck       black    al  32.592000  -85.518900  \n",
              "...             ...        ...         ...   ...        ...         ...  \n",
              "6835      automatic      sedan        grey    ak  61.217811 -149.870231  \n",
              "76751         other      wagon       black    co  39.760000 -104.870000  \n",
              "171171        other      wagon        blue    ky  38.040000  -84.450000  \n",
              "256529    automatic        van       black    nj  39.937155  -75.088194  \n",
              "77298         other  hatchback       white    co  39.760000 -104.870000  \n",
              "\n",
              "[595491 rows x 11 columns]"
            ]
          },
          "execution_count": 58,
          "metadata": {},
          "output_type": "execute_result"
        }
      ],
      "source": [
        "df2 = pd.concat([df1, rows2])\n",
        "df2"
      ]
    },
    {
      "cell_type": "code",
      "execution_count": null,
      "id": "38c398d1",
      "metadata": {
        "id": "38c398d1",
        "outputId": "936b3e9c-7d9f-4af4-fc5d-b3729e4dcd1a"
      },
      "outputs": [
        {
          "data": {
            "text/plain": [
              "price           0\n",
              "year            0\n",
              "manufacturer    0\n",
              "model           0\n",
              "condition       0\n",
              "transmission    0\n",
              "type            0\n",
              "paint_color     0\n",
              "state           0\n",
              "lat             0\n",
              "long            0\n",
              "dtype: int64"
            ]
          },
          "execution_count": 59,
          "metadata": {},
          "output_type": "execute_result"
        }
      ],
      "source": [
        "df2.isnull().sum()"
      ]
    },
    {
      "cell_type": "code",
      "execution_count": null,
      "id": "28fae698",
      "metadata": {
        "id": "28fae698",
        "outputId": "94455421-1529-4e27-9737-ab13cf7f7564"
      },
      "outputs": [
        {
          "data": {
            "image/png": "[encoded data removed]",
            "text/plain": [
              "<Figure size 1440x360 with 1 Axes>"
            ]
          },
          "metadata": {},
          "output_type": "display_data"
        }
      ],
      "source": [
        "df_year = df1[(df1[\"year\"]>1999) & (df1[\"year\"]<2022)].copy()\n",
        "df_year[\"year\"] = df_year[\"year\"].astype(int)\n",
        "plt.figure(figsize=(20,5))\n",
        "plt.xticks(rotation= -35)\n",
        "sns.countplot(data= df_year,x=\"year\")\n",
        "plt.show()"
      ]
    },
    {
      "cell_type": "markdown",
      "source": [
        "# 3) Preprocessing on the dataset"
      ],
      "metadata": {
        "id": "GrwoRPuTErd0"
      },
      "id": "GrwoRPuTErd0"
    },
    {
      "cell_type": "markdown",
      "source": [
        "##### Introdcuing a new column price category which will destribute prices in to 3 categories, low, medium and high, based on prices. "
      ],
      "metadata": {
        "id": "R29kLbikmN4M"
      },
      "id": "R29kLbikmN4M"
    },
    {
      "cell_type": "code",
      "source": [
        "df['price'] = np.where(df.price <= 1000, 1, \n",
        "                                  np.where(df.price >= 80000, 3, 2))\n",
        "\n",
        "df['fuel_type'] = np.where(df.fuel_type == 'Petrol', 1,\n",
        "                      np.where(df.fuel_type == 'Diesel', 2, 3))\n",
        "\n",
        "\n",
        "# df['state'] = np.where(df.state == 'Western Australia', 1,\n",
        "#                       np.where(df.state == 'New South Wales', 2,\n",
        "#                                df.state == 'Queensland', 3,\n",
        "#                                df.state == 'South Australia', 4,\n",
        "#                                df.state == 'Tasmania', 5, 6))\n",
        "\n",
        "# df['model'] = np.where(df.state == 'Barina', 1,\n",
        "#                       np.where(df.state == 'Ute', 2,\n",
        "#                                df.state == 'Falcon', 3,\n",
        "#                                df.state ==  'Elgrand', 4,\n",
        "#                                df.state == 'Fj', 5,\n",
        "#                                df.state ==  'Commodre', 6,\n",
        "#                                df.state == 'Navara', 7,\n",
        "#                                df.state == 'Ranger', 8, 9))\n",
        "df.drop('make', axis=1, inplace=True)\n",
        "df.drop('badge', axis=1, inplace=True)\n",
        "df.drop('body_type', axis=1, inplace=True)\n",
        "df.drop('model', axis=1, inplace=True)\n",
        "df.drop('state', axis=1, inplace=True)\n",
        "df                      "
      ],
      "metadata": {
        "id": "DFS8ihcjEv36",
        "colab": {
          "base_uri": "https://localhost:8080/",
          "height": 423
        },
        "outputId": "fb12e964-bc7d-4d0d-9c45-fd88221a1aec"
      },
      "id": "DFS8ihcjEv36",
      "execution_count": 46,
      "outputs": [
        {
          "output_type": "execute_result",
          "data": {
            "text/plain": [
              "       fuel_type  year  km_driven  price\n",
              "0              1  2017      48788      2\n",
              "1              1  2015      57764      2\n",
              "2              2  2009     151668      2\n",
              "3              1  2010     133383      2\n",
              "4              1  2008     281692      2\n",
              "...          ...   ...        ...    ...\n",
              "25418          1  2016      49338      2\n",
              "25419          1  2016      29616      2\n",
              "25420          2  2018      10990      2\n",
              "25421          1  2013      50998      2\n",
              "25422          2  2018      41342      2\n",
              "\n",
              "[25423 rows x 4 columns]"
            ],
            "text/html": [
              "\n",
              "  <div id=\"df-b6375e9f-fad1-4813-87ce-723badf87067\">\n",
              "    <div class=\"colab-df-container\">\n",
              "      <div>\n",
              "<style scoped>\n",
              "    .dataframe tbody tr th:only-of-type {\n",
              "        vertical-align: middle;\n",
              "    }\n",
              "\n",
              "    .dataframe tbody tr th {\n",
              "        vertical-align: top;\n",
              "    }\n",
              "\n",
              "    .dataframe thead th {\n",
              "        text-align: right;\n",
              "    }\n",
              "</style>\n",
              "<table border=\"1\" class=\"dataframe\">\n",
              "  <thead>\n",
              "    <tr style=\"text-align: right;\">\n",
              "      <th></th>\n",
              "      <th>fuel_type</th>\n",
              "      <th>year</th>\n",
              "      <th>km_driven</th>\n",
              "      <th>price</th>\n",
              "    </tr>\n",
              "  </thead>\n",
              "  <tbody>\n",
              "    <tr>\n",
              "      <th>0</th>\n",
              "      <td>1</td>\n",
              "      <td>2017</td>\n",
              "      <td>48788</td>\n",
              "      <td>2</td>\n",
              "    </tr>\n",
              "    <tr>\n",
              "      <th>1</th>\n",
              "      <td>1</td>\n",
              "      <td>2015</td>\n",
              "      <td>57764</td>\n",
              "      <td>2</td>\n",
              "    </tr>\n",
              "    <tr>\n",
              "      <th>2</th>\n",
              "      <td>2</td>\n",
              "      <td>2009</td>\n",
              "      <td>151668</td>\n",
              "      <td>2</td>\n",
              "    </tr>\n",
              "    <tr>\n",
              "      <th>3</th>\n",
              "      <td>1</td>\n",
              "      <td>2010</td>\n",
              "      <td>133383</td>\n",
              "      <td>2</td>\n",
              "    </tr>\n",
              "    <tr>\n",
              "      <th>4</th>\n",
              "      <td>1</td>\n",
              "      <td>2008</td>\n",
              "      <td>281692</td>\n",
              "      <td>2</td>\n",
              "    </tr>\n",
              "    <tr>\n",
              "      <th>...</th>\n",
              "      <td>...</td>\n",
              "      <td>...</td>\n",
              "      <td>...</td>\n",
              "      <td>...</td>\n",
              "    </tr>\n",
              "    <tr>\n",
              "      <th>25418</th>\n",
              "      <td>1</td>\n",
              "      <td>2016</td>\n",
              "      <td>49338</td>\n",
              "      <td>2</td>\n",
              "    </tr>\n",
              "    <tr>\n",
              "      <th>25419</th>\n",
              "      <td>1</td>\n",
              "      <td>2016</td>\n",
              "      <td>29616</td>\n",
              "      <td>2</td>\n",
              "    </tr>\n",
              "    <tr>\n",
              "      <th>25420</th>\n",
              "      <td>2</td>\n",
              "      <td>2018</td>\n",
              "      <td>10990</td>\n",
              "      <td>2</td>\n",
              "    </tr>\n",
              "    <tr>\n",
              "      <th>25421</th>\n",
              "      <td>1</td>\n",
              "      <td>2013</td>\n",
              "      <td>50998</td>\n",
              "      <td>2</td>\n",
              "    </tr>\n",
              "    <tr>\n",
              "      <th>25422</th>\n",
              "      <td>2</td>\n",
              "      <td>2018</td>\n",
              "      <td>41342</td>\n",
              "      <td>2</td>\n",
              "    </tr>\n",
              "  </tbody>\n",
              "</table>\n",
              "<p>25423 rows × 4 columns</p>\n",
              "</div>\n",
              "      <button class=\"colab-df-convert\" onclick=\"convertToInteractive('df-b6375e9f-fad1-4813-87ce-723badf87067')\"\n",
              "              title=\"Convert this dataframe to an interactive table.\"\n",
              "              style=\"display:none;\">\n",
              "        \n",
              "  <svg xmlns=\"http://www.w3.org/2000/svg\" height=\"24px\"viewBox=\"0 0 24 24\"\n",
              "       width=\"24px\">\n",
              "    <path d=\"M0 0h24v24H0V0z\" fill=\"none\"/>\n",
              "    <path d=\"M18.56 5.44l.94 2.06.94-2.06 2.06-.94-2.06-.94-.94-2.06-.94 2.06-2.06.94zm-11 1L8.5 8.5l.94-2.06 2.06-.94-2.06-.94L8.5 2.5l-.94 2.06-2.06.94zm10 10l.94 2.06.94-2.06 2.06-.94-2.06-.94-.94-2.06-.94 2.06-2.06.94z\"/><path d=\"M17.41 7.96l-1.37-1.37c-.4-.4-.92-.59-1.43-.59-.52 0-1.04.2-1.43.59L10.3 9.45l-7.72 7.72c-.78.78-.78 2.05 0 2.83L4 21.41c.39.39.9.59 1.41.59.51 0 1.02-.2 1.41-.59l7.78-7.78 2.81-2.81c.8-.78.8-2.07 0-2.86zM5.41 20L4 18.59l7.72-7.72 1.47 1.35L5.41 20z\"/>\n",
              "  </svg>\n",
              "      </button>\n",
              "      \n",
              "  <style>\n",
              "    .colab-df-container {\n",
              "      display:flex;\n",
              "      flex-wrap:wrap;\n",
              "      gap: 12px;\n",
              "    }\n",
              "\n",
              "    .colab-df-convert {\n",
              "      background-color: #E8F0FE;\n",
              "      border: none;\n",
              "      border-radius: 50%;\n",
              "      cursor: pointer;\n",
              "      display: none;\n",
              "      fill: #1967D2;\n",
              "      height: 32px;\n",
              "      padding: 0 0 0 0;\n",
              "      width: 32px;\n",
              "    }\n",
              "\n",
              "    .colab-df-convert:hover {\n",
              "      background-color: #E2EBFA;\n",
              "      box-shadow: 0px 1px 2px rgba(60, 64, 67, 0.3), 0px 1px 3px 1px rgba(60, 64, 67, 0.15);\n",
              "      fill: #174EA6;\n",
              "    }\n",
              "\n",
              "    [theme=dark] .colab-df-convert {\n",
              "      background-color: #3B4455;\n",
              "      fill: #D2E3FC;\n",
              "    }\n",
              "\n",
              "    [theme=dark] .colab-df-convert:hover {\n",
              "      background-color: #434B5C;\n",
              "      box-shadow: 0px 1px 3px 1px rgba(0, 0, 0, 0.15);\n",
              "      filter: drop-shadow(0px 1px 2px rgba(0, 0, 0, 0.3));\n",
              "      fill: #FFFFFF;\n",
              "    }\n",
              "  </style>\n",
              "\n",
              "      <script>\n",
              "        const buttonEl =\n",
              "          document.querySelector('#df-b6375e9f-fad1-4813-87ce-723badf87067 button.colab-df-convert');\n",
              "        buttonEl.style.display =\n",
              "          google.colab.kernel.accessAllowed ? 'block' : 'none';\n",
              "\n",
              "        async function convertToInteractive(key) {\n",
              "          const element = document.querySelector('#df-b6375e9f-fad1-4813-87ce-723badf87067');\n",
              "          const dataTable =\n",
              "            await google.colab.kernel.invokeFunction('convertToInteractive',\n",
              "                                                     [key], {});\n",
              "          if (!dataTable) return;\n",
              "\n",
              "          const docLinkHtml = 'Like what you see? Visit the ' +\n",
              "            '<a target=\"_blank\" href=https://colab.research.google.com/notebooks/data_table.ipynb>data table notebook</a>'\n",
              "            + ' to learn more about interactive tables.';\n",
              "          element.innerHTML = '';\n",
              "          dataTable['output_type'] = 'display_data';\n",
              "          await google.colab.output.renderOutput(dataTable, element);\n",
              "          const docLink = document.createElement('div');\n",
              "          docLink.innerHTML = docLinkHtml;\n",
              "          element.appendChild(docLink);\n",
              "        }\n",
              "      </script>\n",
              "    </div>\n",
              "  </div>\n",
              "  "
            ]
          },
          "metadata": {},
          "execution_count": 46
        }
      ]
    },
    {
      "cell_type": "code",
      "source": [
        "df.to_csv (r'/content/2nd Dataset Car Dekho.csv', index = False, header=True)"
      ],
      "metadata": {
        "id": "SCWWiIdWSuJu"
      },
      "id": "SCWWiIdWSuJu",
      "execution_count": null,
      "outputs": []
    },
    {
      "cell_type": "code",
      "source": [
        "print(df)\n"
      ],
      "metadata": {
        "colab": {
          "base_uri": "https://localhost:8080/"
        },
        "id": "nEqcxNsW2oYf",
        "outputId": "09dc914d-d14c-41c5-fa7d-568c2a82cb38"
      },
      "id": "nEqcxNsW2oYf",
      "execution_count": 30,
      "outputs": [
        {
          "output_type": "stream",
          "name": "stdout",
          "text": [
            "           model  fuel_type  year  km_driven  price              state\n",
            "0         Kluger          3  2017      48788      1  Western Australia\n",
            "1          Hilux          3  2015      57764      1    New South Wales\n",
            "2            NaN          3  2009     151668      1    South Australia\n",
            "3         Navara          3  2010     133383      1    New South Wales\n",
            "4          Hiace          3  2008     281692      1    New South Wales\n",
            "...          ...        ...   ...        ...    ...                ...\n",
            "10309    Captiva          3  2013      63559      1          No Record\n",
            "10678         FJ          3  2012     165693      1          No Record\n",
            "16731       Jazz          3  2018       7626      1          No Record\n",
            "10433     Tucson          3  2017      20546      1          No Record\n",
            "366    clubsport          3  2006     182281      1          No Record\n",
            "\n",
            "[41948 rows x 6 columns]\n"
          ]
        }
      ]
    },
    {
      "cell_type": "markdown",
      "source": [
        "# 4) Prediction,training: for this decision tree, xgboost and random forest are used."
      ],
      "metadata": {
        "id": "O7fJOGVpE3ta"
      },
      "id": "O7fJOGVpE3ta"
    },
    {
      "cell_type": "markdown",
      "source": [
        "###4.1 Lightgbm\n",
        "\n",
        "I selected Lightgbm initially for this project as it provide effective and efficient implementation. But I face some errors, I tried to solve them whole day but couldn't reaeched the solution. "
      ],
      "metadata": {
        "id": "XAUjh7jW4nqL"
      },
      "id": "XAUjh7jW4nqL"
    },
    {
      "cell_type": "code",
      "source": [
        "X, y = df.iloc[:,:-1],df.iloc[:,-1]\n",
        "data_dmatrix = xgb.DMatrix(data=X,label=y)"
      ],
      "metadata": {
        "id": "hAiBZ3BeBYew"
      },
      "id": "hAiBZ3BeBYew",
      "execution_count": 47,
      "outputs": []
    },
    {
      "cell_type": "code",
      "source": [
        "from sklearn.model_selection import train_test_split\n",
        "\n",
        "X_train, X_test, y_train, y_test = train_test_split(X, y, test_size=0.2, random_state=123)"
      ],
      "metadata": {
        "id": "XAKOdhb_BK9j"
      },
      "id": "XAKOdhb_BK9j",
      "execution_count": 48,
      "outputs": []
    },
    {
      "cell_type": "code",
      "source": [
        "# y_train = training_data['Price Category']\n",
        "# X_train = training_data.drop(['Price Category'], axis=1)\n",
        "X_test"
      ],
      "metadata": {
        "colab": {
          "base_uri": "https://localhost:8080/",
          "height": 423
        },
        "id": "Vgno1U3xpAim",
        "outputId": "f72bb8a2-523e-4d2b-94c9-baf20e78d207"
      },
      "id": "Vgno1U3xpAim",
      "execution_count": 49,
      "outputs": [
        {
          "output_type": "execute_result",
          "data": {
            "text/plain": [
              "       fuel_type  year  km_driven\n",
              "914            1  2009     112812\n",
              "21373          2  2018         20\n",
              "1598           1  2012     122456\n",
              "22750          2  2015      76200\n",
              "13069          1  2012     114344\n",
              "...          ...   ...        ...\n",
              "23704          1  2012     160000\n",
              "12019          1  2015     124388\n",
              "3075           1  2017      19230\n",
              "7981           1  2007      78641\n",
              "6460           1  2010     126550\n",
              "\n",
              "[5085 rows x 3 columns]"
            ],
            "text/html": [
              "\n",
              "  <div id=\"df-d5cb4371-255e-420b-9140-6fecb681d4ca\">\n",
              "    <div class=\"colab-df-container\">\n",
              "      <div>\n",
              "<style scoped>\n",
              "    .dataframe tbody tr th:only-of-type {\n",
              "        vertical-align: middle;\n",
              "    }\n",
              "\n",
              "    .dataframe tbody tr th {\n",
              "        vertical-align: top;\n",
              "    }\n",
              "\n",
              "    .dataframe thead th {\n",
              "        text-align: right;\n",
              "    }\n",
              "</style>\n",
              "<table border=\"1\" class=\"dataframe\">\n",
              "  <thead>\n",
              "    <tr style=\"text-align: right;\">\n",
              "      <th></th>\n",
              "      <th>fuel_type</th>\n",
              "      <th>year</th>\n",
              "      <th>km_driven</th>\n",
              "    </tr>\n",
              "  </thead>\n",
              "  <tbody>\n",
              "    <tr>\n",
              "      <th>914</th>\n",
              "      <td>1</td>\n",
              "      <td>2009</td>\n",
              "      <td>112812</td>\n",
              "    </tr>\n",
              "    <tr>\n",
              "      <th>21373</th>\n",
              "      <td>2</td>\n",
              "      <td>2018</td>\n",
              "      <td>20</td>\n",
              "    </tr>\n",
              "    <tr>\n",
              "      <th>1598</th>\n",
              "      <td>1</td>\n",
              "      <td>2012</td>\n",
              "      <td>122456</td>\n",
              "    </tr>\n",
              "    <tr>\n",
              "      <th>22750</th>\n",
              "      <td>2</td>\n",
              "      <td>2015</td>\n",
              "      <td>76200</td>\n",
              "    </tr>\n",
              "    <tr>\n",
              "      <th>13069</th>\n",
              "      <td>1</td>\n",
              "      <td>2012</td>\n",
              "      <td>114344</td>\n",
              "    </tr>\n",
              "    <tr>\n",
              "      <th>...</th>\n",
              "      <td>...</td>\n",
              "      <td>...</td>\n",
              "      <td>...</td>\n",
              "    </tr>\n",
              "    <tr>\n",
              "      <th>23704</th>\n",
              "      <td>1</td>\n",
              "      <td>2012</td>\n",
              "      <td>160000</td>\n",
              "    </tr>\n",
              "    <tr>\n",
              "      <th>12019</th>\n",
              "      <td>1</td>\n",
              "      <td>2015</td>\n",
              "      <td>124388</td>\n",
              "    </tr>\n",
              "    <tr>\n",
              "      <th>3075</th>\n",
              "      <td>1</td>\n",
              "      <td>2017</td>\n",
              "      <td>19230</td>\n",
              "    </tr>\n",
              "    <tr>\n",
              "      <th>7981</th>\n",
              "      <td>1</td>\n",
              "      <td>2007</td>\n",
              "      <td>78641</td>\n",
              "    </tr>\n",
              "    <tr>\n",
              "      <th>6460</th>\n",
              "      <td>1</td>\n",
              "      <td>2010</td>\n",
              "      <td>126550</td>\n",
              "    </tr>\n",
              "  </tbody>\n",
              "</table>\n",
              "<p>5085 rows × 3 columns</p>\n",
              "</div>\n",
              "      <button class=\"colab-df-convert\" onclick=\"convertToInteractive('df-d5cb4371-255e-420b-9140-6fecb681d4ca')\"\n",
              "              title=\"Convert this dataframe to an interactive table.\"\n",
              "              style=\"display:none;\">\n",
              "        \n",
              "  <svg xmlns=\"http://www.w3.org/2000/svg\" height=\"24px\"viewBox=\"0 0 24 24\"\n",
              "       width=\"24px\">\n",
              "    <path d=\"M0 0h24v24H0V0z\" fill=\"none\"/>\n",
              "    <path d=\"M18.56 5.44l.94 2.06.94-2.06 2.06-.94-2.06-.94-.94-2.06-.94 2.06-2.06.94zm-11 1L8.5 8.5l.94-2.06 2.06-.94-2.06-.94L8.5 2.5l-.94 2.06-2.06.94zm10 10l.94 2.06.94-2.06 2.06-.94-2.06-.94-.94-2.06-.94 2.06-2.06.94z\"/><path d=\"M17.41 7.96l-1.37-1.37c-.4-.4-.92-.59-1.43-.59-.52 0-1.04.2-1.43.59L10.3 9.45l-7.72 7.72c-.78.78-.78 2.05 0 2.83L4 21.41c.39.39.9.59 1.41.59.51 0 1.02-.2 1.41-.59l7.78-7.78 2.81-2.81c.8-.78.8-2.07 0-2.86zM5.41 20L4 18.59l7.72-7.72 1.47 1.35L5.41 20z\"/>\n",
              "  </svg>\n",
              "      </button>\n",
              "      \n",
              "  <style>\n",
              "    .colab-df-container {\n",
              "      display:flex;\n",
              "      flex-wrap:wrap;\n",
              "      gap: 12px;\n",
              "    }\n",
              "\n",
              "    .colab-df-convert {\n",
              "      background-color: #E8F0FE;\n",
              "      border: none;\n",
              "      border-radius: 50%;\n",
              "      cursor: pointer;\n",
              "      display: none;\n",
              "      fill: #1967D2;\n",
              "      height: 32px;\n",
              "      padding: 0 0 0 0;\n",
              "      width: 32px;\n",
              "    }\n",
              "\n",
              "    .colab-df-convert:hover {\n",
              "      background-color: #E2EBFA;\n",
              "      box-shadow: 0px 1px 2px rgba(60, 64, 67, 0.3), 0px 1px 3px 1px rgba(60, 64, 67, 0.15);\n",
              "      fill: #174EA6;\n",
              "    }\n",
              "\n",
              "    [theme=dark] .colab-df-convert {\n",
              "      background-color: #3B4455;\n",
              "      fill: #D2E3FC;\n",
              "    }\n",
              "\n",
              "    [theme=dark] .colab-df-convert:hover {\n",
              "      background-color: #434B5C;\n",
              "      box-shadow: 0px 1px 3px 1px rgba(0, 0, 0, 0.15);\n",
              "      filter: drop-shadow(0px 1px 2px rgba(0, 0, 0, 0.3));\n",
              "      fill: #FFFFFF;\n",
              "    }\n",
              "  </style>\n",
              "\n",
              "      <script>\n",
              "        const buttonEl =\n",
              "          document.querySelector('#df-d5cb4371-255e-420b-9140-6fecb681d4ca button.colab-df-convert');\n",
              "        buttonEl.style.display =\n",
              "          google.colab.kernel.accessAllowed ? 'block' : 'none';\n",
              "\n",
              "        async function convertToInteractive(key) {\n",
              "          const element = document.querySelector('#df-d5cb4371-255e-420b-9140-6fecb681d4ca');\n",
              "          const dataTable =\n",
              "            await google.colab.kernel.invokeFunction('convertToInteractive',\n",
              "                                                     [key], {});\n",
              "          if (!dataTable) return;\n",
              "\n",
              "          const docLinkHtml = 'Like what you see? Visit the ' +\n",
              "            '<a target=\"_blank\" href=https://colab.research.google.com/notebooks/data_table.ipynb>data table notebook</a>'\n",
              "            + ' to learn more about interactive tables.';\n",
              "          element.innerHTML = '';\n",
              "          dataTable['output_type'] = 'display_data';\n",
              "          await google.colab.output.renderOutput(dataTable, element);\n",
              "          const docLink = document.createElement('div');\n",
              "          docLink.innerHTML = docLinkHtml;\n",
              "          element.appendChild(docLink);\n",
              "        }\n",
              "      </script>\n",
              "    </div>\n",
              "  </div>\n",
              "  "
            ]
          },
          "metadata": {},
          "execution_count": 49
        }
      ]
    },
    {
      "cell_type": "code",
      "source": [
        "# y_test = testing_data['Price Category']\n",
        "# X_test = testing_data.drop(['Price Category'], axis=1)"
      ],
      "metadata": {
        "id": "LZmtG4iopGrF"
      },
      "id": "LZmtG4iopGrF",
      "execution_count": null,
      "outputs": []
    },
    {
      "cell_type": "code",
      "source": [
        "import lightgbm\n",
        "\n",
        "train_data = lightgbm.Dataset(X_train, y_train)\n",
        "test_data = lightgbm.Dataset(X_test, label=y_test)"
      ],
      "metadata": {
        "id": "CfL_O0jUxjK-"
      },
      "id": "CfL_O0jUxjK-",
      "execution_count": 50,
      "outputs": []
    },
    {
      "cell_type": "code",
      "source": [
        "parameters = {\n",
        "    'application': 'binary',\n",
        "    'objective': 'binary',\n",
        "    'metric': 'auc',\n",
        "    'is_unbalance': 'true',\n",
        "    'boosting': 'gbdt',\n",
        "    'num_leaves': 31,\n",
        "    'feature_fraction': 0.5,\n",
        "    'bagging_fraction': 0.5,\n",
        "    'bagging_freq': 20,\n",
        "    'learning_rate': 0.05,\n",
        "    'verbose': 0\n",
        "}\n",
        "\n",
        "model = lightgbm.train(parameters,\n",
        "                       train_data,\n",
        "                       valid_sets=test_data,\n",
        "                       num_boost_round=500,\n",
        "                       early_stopping_rounds=10)"
      ],
      "metadata": {
        "colab": {
          "base_uri": "https://localhost:8080/"
        },
        "id": "Nv8pC_eSv3hU",
        "outputId": "33920e45-63b2-41d3-876a-53cd509235e8"
      },
      "id": "Nv8pC_eSv3hU",
      "execution_count": 51,
      "outputs": [
        {
          "output_type": "stream",
          "name": "stdout",
          "text": [
            "[1]\tvalid_0's auc: 1\n",
            "Training until validation scores don't improve for 10 rounds.\n",
            "[2]\tvalid_0's auc: 1\n",
            "[3]\tvalid_0's auc: 1\n",
            "[4]\tvalid_0's auc: 1\n",
            "[5]\tvalid_0's auc: 1\n",
            "[6]\tvalid_0's auc: 1\n",
            "[7]\tvalid_0's auc: 1\n",
            "[8]\tvalid_0's auc: 1\n",
            "[9]\tvalid_0's auc: 1\n",
            "[10]\tvalid_0's auc: 1\n",
            "[11]\tvalid_0's auc: 1\n",
            "Early stopping, best iteration is:\n",
            "[1]\tvalid_0's auc: 1\n"
          ]
        }
      ]
    },
    {
      "cell_type": "code",
      "source": [
        "def run_lgb(X_train, y_train, X_test, y_test, test_X):\n",
        "    params = {\n",
        "        \"objective\" : \"regression\",\n",
        "        \"metric\" : \"rmse\",\n",
        "        \"num_leaves\" : 40,\n",
        "        \"learning_rate\" : 0.004,\n",
        "        \"bagging_fraction\" : 0.6,\n",
        "        \"feature_fraction\" : 0.6,\n",
        "        \"bagging_frequency\" : 6,\n",
        "        \"bagging_seed\" : 42,\n",
        "        \"verbosity\" : -1,\n",
        "        \"seed\": 42\n",
        "    }\n",
        "    lgtrain = lgb.Dataset(X_train, label=y_train)\n",
        "    lgval = lgb.Dataset(X_test, label=y_test)\n",
        "    evals_result = {}\n",
        "    model = lgb.train(params, lgtrain, 5000, \n",
        "                      valid_sets=[lgtrain, lgval], \n",
        "                      early_stopping_rounds=100, \n",
        "                      verbose_eval=150, \n",
        "                      evals_result=evals_result)\n",
        "    \n",
        "    pred_test_y = np.expm1(model.predict(test_X, num_iteration=model.best_iteration))\n",
        "    return pred_test_y, model, evals_result"
      ],
      "metadata": {
        "id": "0kbfyzCfBhPe"
      },
      "id": "0kbfyzCfBhPe",
      "execution_count": null,
      "outputs": []
    },
    {
      "cell_type": "markdown",
      "source": [
        "###4.2 Random forest"
      ],
      "metadata": {
        "id": "QN-DXKk0VFBV"
      },
      "id": "QN-DXKk0VFBV"
    },
    {
      "cell_type": "code",
      "source": [
        "pip install --upgrade category_encoders"
      ],
      "metadata": {
        "colab": {
          "base_uri": "https://localhost:8080/"
        },
        "id": "mU4GuAuvbrPr",
        "outputId": "bd03545f-943c-42c1-de89-399e674bd7ac"
      },
      "id": "mU4GuAuvbrPr",
      "execution_count": 52,
      "outputs": [
        {
          "output_type": "stream",
          "name": "stdout",
          "text": [
            "Requirement already satisfied: category_encoders in /usr/local/lib/python3.7/dist-packages (2.4.0)\n",
            "Requirement already satisfied: patsy>=0.5.1 in /usr/local/lib/python3.7/dist-packages (from category_encoders) (0.5.2)\n",
            "Requirement already satisfied: numpy>=1.14.0 in /usr/local/lib/python3.7/dist-packages (from category_encoders) (1.21.6)\n",
            "Requirement already satisfied: statsmodels>=0.9.0 in /usr/local/lib/python3.7/dist-packages (from category_encoders) (0.10.2)\n",
            "Requirement already satisfied: scikit-learn>=0.20.0 in /usr/local/lib/python3.7/dist-packages (from category_encoders) (1.0.2)\n",
            "Requirement already satisfied: scipy>=1.0.0 in /usr/local/lib/python3.7/dist-packages (from category_encoders) (1.4.1)\n",
            "Requirement already satisfied: pandas>=0.21.1 in /usr/local/lib/python3.7/dist-packages (from category_encoders) (1.3.5)\n",
            "Requirement already satisfied: pytz>=2017.3 in /usr/local/lib/python3.7/dist-packages (from pandas>=0.21.1->category_encoders) (2022.1)\n",
            "Requirement already satisfied: python-dateutil>=2.7.3 in /usr/local/lib/python3.7/dist-packages (from pandas>=0.21.1->category_encoders) (2.8.2)\n",
            "Requirement already satisfied: six in /usr/local/lib/python3.7/dist-packages (from patsy>=0.5.1->category_encoders) (1.15.0)\n",
            "Requirement already satisfied: threadpoolctl>=2.0.0 in /usr/local/lib/python3.7/dist-packages (from scikit-learn>=0.20.0->category_encoders) (3.1.0)\n",
            "Requirement already satisfied: joblib>=0.11 in /usr/local/lib/python3.7/dist-packages (from scikit-learn>=0.20.0->category_encoders) (1.1.0)\n"
          ]
        }
      ]
    },
    {
      "cell_type": "code",
      "source": [
        "encoder = ce.OrdinalEncoder(cols=['year',\t'km_driven',\t'fuel_type'])\n",
        "\n",
        "\n",
        "X_train = encoder.fit_transform(X_train)\n",
        "\n",
        "X_test = encoder.transform(X_test)"
      ],
      "metadata": {
        "id": "LZ8Dr0MvVDzJ"
      },
      "id": "LZ8Dr0MvVDzJ",
      "execution_count": 55,
      "outputs": []
    },
    {
      "cell_type": "code",
      "source": [
        "X_train.head()"
      ],
      "metadata": {
        "colab": {
          "base_uri": "https://localhost:8080/",
          "height": 206
        },
        "id": "r1QvYecbVD6V",
        "outputId": "78477609-d76f-4d52-b46d-5219dec2abc2"
      },
      "id": "r1QvYecbVD6V",
      "execution_count": 56,
      "outputs": [
        {
          "output_type": "execute_result",
          "data": {
            "text/plain": [
              "       fuel_type  year  km_driven\n",
              "7006           1     1          1\n",
              "14901          1     2          2\n",
              "16550          2     3          3\n",
              "23848          1     4          4\n",
              "24105          1     5          5"
            ],
            "text/html": [
              "\n",
              "  <div id=\"df-8ec9931b-9be9-4c55-b5c8-fbbcb2add783\">\n",
              "    <div class=\"colab-df-container\">\n",
              "      <div>\n",
              "<style scoped>\n",
              "    .dataframe tbody tr th:only-of-type {\n",
              "        vertical-align: middle;\n",
              "    }\n",
              "\n",
              "    .dataframe tbody tr th {\n",
              "        vertical-align: top;\n",
              "    }\n",
              "\n",
              "    .dataframe thead th {\n",
              "        text-align: right;\n",
              "    }\n",
              "</style>\n",
              "<table border=\"1\" class=\"dataframe\">\n",
              "  <thead>\n",
              "    <tr style=\"text-align: right;\">\n",
              "      <th></th>\n",
              "      <th>fuel_type</th>\n",
              "      <th>year</th>\n",
              "      <th>km_driven</th>\n",
              "    </tr>\n",
              "  </thead>\n",
              "  <tbody>\n",
              "    <tr>\n",
              "      <th>7006</th>\n",
              "      <td>1</td>\n",
              "      <td>1</td>\n",
              "      <td>1</td>\n",
              "    </tr>\n",
              "    <tr>\n",
              "      <th>14901</th>\n",
              "      <td>1</td>\n",
              "      <td>2</td>\n",
              "      <td>2</td>\n",
              "    </tr>\n",
              "    <tr>\n",
              "      <th>16550</th>\n",
              "      <td>2</td>\n",
              "      <td>3</td>\n",
              "      <td>3</td>\n",
              "    </tr>\n",
              "    <tr>\n",
              "      <th>23848</th>\n",
              "      <td>1</td>\n",
              "      <td>4</td>\n",
              "      <td>4</td>\n",
              "    </tr>\n",
              "    <tr>\n",
              "      <th>24105</th>\n",
              "      <td>1</td>\n",
              "      <td>5</td>\n",
              "      <td>5</td>\n",
              "    </tr>\n",
              "  </tbody>\n",
              "</table>\n",
              "</div>\n",
              "      <button class=\"colab-df-convert\" onclick=\"convertToInteractive('df-8ec9931b-9be9-4c55-b5c8-fbbcb2add783')\"\n",
              "              title=\"Convert this dataframe to an interactive table.\"\n",
              "              style=\"display:none;\">\n",
              "        \n",
              "  <svg xmlns=\"http://www.w3.org/2000/svg\" height=\"24px\"viewBox=\"0 0 24 24\"\n",
              "       width=\"24px\">\n",
              "    <path d=\"M0 0h24v24H0V0z\" fill=\"none\"/>\n",
              "    <path d=\"M18.56 5.44l.94 2.06.94-2.06 2.06-.94-2.06-.94-.94-2.06-.94 2.06-2.06.94zm-11 1L8.5 8.5l.94-2.06 2.06-.94-2.06-.94L8.5 2.5l-.94 2.06-2.06.94zm10 10l.94 2.06.94-2.06 2.06-.94-2.06-.94-.94-2.06-.94 2.06-2.06.94z\"/><path d=\"M17.41 7.96l-1.37-1.37c-.4-.4-.92-.59-1.43-.59-.52 0-1.04.2-1.43.59L10.3 9.45l-7.72 7.72c-.78.78-.78 2.05 0 2.83L4 21.41c.39.39.9.59 1.41.59.51 0 1.02-.2 1.41-.59l7.78-7.78 2.81-2.81c.8-.78.8-2.07 0-2.86zM5.41 20L4 18.59l7.72-7.72 1.47 1.35L5.41 20z\"/>\n",
              "  </svg>\n",
              "      </button>\n",
              "      \n",
              "  <style>\n",
              "    .colab-df-container {\n",
              "      display:flex;\n",
              "      flex-wrap:wrap;\n",
              "      gap: 12px;\n",
              "    }\n",
              "\n",
              "    .colab-df-convert {\n",
              "      background-color: #E8F0FE;\n",
              "      border: none;\n",
              "      border-radius: 50%;\n",
              "      cursor: pointer;\n",
              "      display: none;\n",
              "      fill: #1967D2;\n",
              "      height: 32px;\n",
              "      padding: 0 0 0 0;\n",
              "      width: 32px;\n",
              "    }\n",
              "\n",
              "    .colab-df-convert:hover {\n",
              "      background-color: #E2EBFA;\n",
              "      box-shadow: 0px 1px 2px rgba(60, 64, 67, 0.3), 0px 1px 3px 1px rgba(60, 64, 67, 0.15);\n",
              "      fill: #174EA6;\n",
              "    }\n",
              "\n",
              "    [theme=dark] .colab-df-convert {\n",
              "      background-color: #3B4455;\n",
              "      fill: #D2E3FC;\n",
              "    }\n",
              "\n",
              "    [theme=dark] .colab-df-convert:hover {\n",
              "      background-color: #434B5C;\n",
              "      box-shadow: 0px 1px 3px 1px rgba(0, 0, 0, 0.15);\n",
              "      filter: drop-shadow(0px 1px 2px rgba(0, 0, 0, 0.3));\n",
              "      fill: #FFFFFF;\n",
              "    }\n",
              "  </style>\n",
              "\n",
              "      <script>\n",
              "        const buttonEl =\n",
              "          document.querySelector('#df-8ec9931b-9be9-4c55-b5c8-fbbcb2add783 button.colab-df-convert');\n",
              "        buttonEl.style.display =\n",
              "          google.colab.kernel.accessAllowed ? 'block' : 'none';\n",
              "\n",
              "        async function convertToInteractive(key) {\n",
              "          const element = document.querySelector('#df-8ec9931b-9be9-4c55-b5c8-fbbcb2add783');\n",
              "          const dataTable =\n",
              "            await google.colab.kernel.invokeFunction('convertToInteractive',\n",
              "                                                     [key], {});\n",
              "          if (!dataTable) return;\n",
              "\n",
              "          const docLinkHtml = 'Like what you see? Visit the ' +\n",
              "            '<a target=\"_blank\" href=https://colab.research.google.com/notebooks/data_table.ipynb>data table notebook</a>'\n",
              "            + ' to learn more about interactive tables.';\n",
              "          element.innerHTML = '';\n",
              "          dataTable['output_type'] = 'display_data';\n",
              "          await google.colab.output.renderOutput(dataTable, element);\n",
              "          const docLink = document.createElement('div');\n",
              "          docLink.innerHTML = docLinkHtml;\n",
              "          element.appendChild(docLink);\n",
              "        }\n",
              "      </script>\n",
              "    </div>\n",
              "  </div>\n",
              "  "
            ]
          },
          "metadata": {},
          "execution_count": 56
        }
      ]
    },
    {
      "cell_type": "markdown",
      "source": [
        "##### We now have training and test set ready for model building.\n",
        "\n",
        "##### With estimator = 10"
      ],
      "metadata": {
        "id": "QdooUyvlcZiB"
      },
      "id": "QdooUyvlcZiB"
    },
    {
      "cell_type": "code",
      "source": [
        "\n",
        "# instantiate the classifier \n",
        "\n",
        "rf = RandomForestClassifier(random_state=0)\n",
        "# fit the model\n",
        "\n",
        "rf.fit(X_train, y_train)\n",
        "# Predict the Test dataset results\n",
        "\n",
        "y_pred = rf.predict(X_test)\n",
        "# Check accuracy score \n",
        "\n",
        "from sklearn.metrics import accuracy_score\n",
        "\n",
        "print('Model accuracy score with 10 decision-trees : {0:0.4f}'. format(accuracy_score(y_test, y_pred)))\n"
      ],
      "metadata": {
        "colab": {
          "base_uri": "https://localhost:8080/"
        },
        "id": "zO8tW134VEBF",
        "outputId": "7ef348f9-1bb3-4bae-8176-db435b2d2688"
      },
      "id": "zO8tW134VEBF",
      "execution_count": 57,
      "outputs": [
        {
          "output_type": "stream",
          "name": "stdout",
          "text": [
            "Model accuracy score with 10 decision-trees : 0.9331\n"
          ]
        }
      ]
    },
    {
      "cell_type": "markdown",
      "source": [
        "##### Estimator = 100"
      ],
      "metadata": {
        "id": "QIKoQuv_dVLl"
      },
      "id": "QIKoQuv_dVLl"
    },
    {
      "cell_type": "code",
      "source": [
        "rfc_100 = RandomForestClassifier(n_estimators=100, random_state=0)\n",
        "\n",
        "# fit the model to the training set\n",
        "\n",
        "rfc_100.fit(X_train, y_train)\n",
        "# Predict on the test set results\n",
        "\n",
        "y_pred_100 = rfc_100.predict(X_test)\n",
        "# Check accuracy score \n",
        "\n",
        "print('Model accuracy score with 100 decision-trees : {0:0.4f}'. format(accuracy_score(y_test, y_pred_100)))"
      ],
      "metadata": {
        "colab": {
          "base_uri": "https://localhost:8080/"
        },
        "id": "SAwLnxU0VEIB",
        "outputId": "d5b9726c-ab3e-4655-988c-3066a6793ec2"
      },
      "id": "SAwLnxU0VEIB",
      "execution_count": 58,
      "outputs": [
        {
          "output_type": "stream",
          "name": "stdout",
          "text": [
            "Model accuracy score with 100 decision-trees : 0.9331\n"
          ]
        }
      ]
    },
    {
      "cell_type": "code",
      "source": [
        "clf = RandomForestClassifier(n_estimators=100, random_state=0)\n",
        "\n",
        "# fit the model to the training set\n",
        "\n",
        "clf.fit(X_train, y_train)"
      ],
      "metadata": {
        "colab": {
          "base_uri": "https://localhost:8080/"
        },
        "id": "Gc9LHx8LkUOM",
        "outputId": "ef2e0891-ae82-42d4-b19f-50b19bc4765b"
      },
      "id": "Gc9LHx8LkUOM",
      "execution_count": 60,
      "outputs": [
        {
          "output_type": "execute_result",
          "data": {
            "text/plain": [
              "RandomForestClassifier(random_state=0)"
            ]
          },
          "metadata": {},
          "execution_count": 60
        }
      ]
    },
    {
      "cell_type": "code",
      "source": [
        "feature_scores = pd.Series(clf.feature_importances_, index=X_train.columns).sort_values(ascending=False)\n",
        "\n",
        "feature_scores"
      ],
      "metadata": {
        "colab": {
          "base_uri": "https://localhost:8080/"
        },
        "id": "WL4bmp07kcPt",
        "outputId": "c15d39c2-02ce-4a79-88bf-912cb12a5859"
      },
      "id": "WL4bmp07kcPt",
      "execution_count": 61,
      "outputs": [
        {
          "output_type": "execute_result",
          "data": {
            "text/plain": [
              "km_driven    0.883717\n",
              "year         0.111513\n",
              "fuel_type    0.004770\n",
              "dtype: float64"
            ]
          },
          "metadata": {},
          "execution_count": 61
        }
      ]
    },
    {
      "cell_type": "markdown",
      "source": [
        "##### We can see that the most important feature is selling_price and least important feature is seller_type"
      ],
      "metadata": {
        "id": "RN7nRPdvkp4c"
      },
      "id": "RN7nRPdvkp4c"
    },
    {
      "cell_type": "code",
      "source": [
        "# Creating a seaborn bar plot\n",
        "\n",
        "sns.barplot(x=feature_scores, y=feature_scores.index)\n",
        "\n",
        "# Add labels to the graph\n",
        "\n",
        "plt.xlabel('Feature Importance Score')\n",
        "\n",
        "plt.ylabel('Features')\n",
        "# Add title to the graph\n",
        "\n",
        "plt.title(\"Visualizing Important Features\")\n",
        "\n",
        "# Visualize the graph\n",
        "\n",
        "plt.show()"
      ],
      "metadata": {
        "colab": {
          "base_uri": "https://localhost:8080/",
          "height": 301
        },
        "id": "_SD417skkcUH",
        "outputId": "e48ffd87-7205-454a-970f-16a20dbbe6c6"
      },
      "id": "_SD417skkcUH",
      "execution_count": 62,
      "outputs": [
        {
          "output_type": "display_data",
          "data": {
            "text/plain": [
              "<Figure size 432x288 with 1 Axes>"
            ],
            "image/png": "[encoded data removed]"
          },
          "metadata": {}
        }
      ]
    },
    {
      "cell_type": "code",
      "source": [
        "from sklearn.metrics import classification_report\n",
        "\n",
        "print(classification_report(y_test, y_pred))"
      ],
      "metadata": {
        "colab": {
          "base_uri": "https://localhost:8080/"
        },
        "id": "wxw9SK4-k1hZ",
        "outputId": "6d459b09-b379-4be6-8f3f-13106a93f52a"
      },
      "id": "wxw9SK4-k1hZ",
      "execution_count": 63,
      "outputs": [
        {
          "output_type": "stream",
          "name": "stdout",
          "text": [
            "              precision    recall  f1-score   support\n",
            "\n",
            "           1       0.19      0.14      0.16        81\n",
            "           2       0.95      0.98      0.97      4732\n",
            "           3       0.63      0.35      0.45       272\n",
            "\n",
            "    accuracy                           0.93      5085\n",
            "   macro avg       0.59      0.49      0.52      5085\n",
            "weighted avg       0.92      0.93      0.92      5085\n",
            "\n"
          ]
        }
      ]
    },
    {
      "cell_type": "markdown",
      "source": [
        "### 4.3 Decision Tree"
      ],
      "metadata": {
        "id": "uJCXUvvdwA1X"
      },
      "id": "uJCXUvvdwA1X"
    },
    {
      "cell_type": "code",
      "source": [
        "from sklearn.metrics import accuracy_score, confusion_matrix, classification_report\n",
        "\n",
        "def print_score(clf, X_train, y_train, X_test, y_test, train=True):\n",
        "    if train:\n",
        "        pred = clf.predict(X_train)\n",
        "        clf_report = pd.DataFrame(classification_report(y_train, pred, output_dict=True))\n",
        "        print(\"Train Result:\\n\")\n",
        "        print(f\"Accuracy Score: {accuracy_score(y_train, pred) * 100:.2f}%\")\n",
        "       \n",
        "        print(f\"CLASSIFICATION REPORT:\\n{clf_report}\")\n",
        "     \n",
        "        print(f\"Confusion Matrix: \\n {confusion_matrix(y_train, pred)}\\n\")\n",
        "        \n",
        "    elif train==False:\n",
        "        pred = clf.predict(X_test)\n",
        "        clf_report = pd.DataFrame(classification_report(y_test, pred, output_dict=True))\n",
        "        print(\"Test Result:\\n\")        \n",
        "        print(f\"Accuracy Score: {accuracy_score(y_test, pred) * 100:.2f}%\")\n",
        "       \n",
        "        print(f\"CLASSIFICATION REPORT:\\n{clf_report}\")\n",
        "\n",
        "        print(f\"Confusion Matrix: \\n {confusion_matrix(y_test, pred)}\\n\")\n"
      ],
      "metadata": {
        "id": "DQBvJx5kwToa"
      },
      "id": "DQBvJx5kwToa",
      "execution_count": 64,
      "outputs": []
    },
    {
      "cell_type": "code",
      "source": [
        "from sklearn.tree import DecisionTreeClassifier\n",
        "\n",
        "tree_clf = DecisionTreeClassifier(random_state=42)\n",
        "tree_clf.fit(X_train, y_train)\n",
        "\n",
        "print_score(tree_clf, X_train, y_train, X_test, y_test, train=True)\n",
        "print_score(tree_clf, X_train, y_train, X_test, y_test, train=False)"
      ],
      "metadata": {
        "colab": {
          "base_uri": "https://localhost:8080/"
        },
        "id": "FKyzyvGFk1oo",
        "outputId": "ffdaf106-c112-4acb-9199-c3f42456fabd"
      },
      "id": "FKyzyvGFk1oo",
      "execution_count": 65,
      "outputs": [
        {
          "output_type": "stream",
          "name": "stdout",
          "text": [
            "Train Result:\n",
            "\n",
            "Accuracy Score: 99.04%\n",
            "CLASSIFICATION REPORT:\n",
            "                    1             2            3  accuracy     macro avg  \\\n",
            "precision    0.848665      0.993244     0.983902  0.990363      0.941937   \n",
            "recall       0.880000      0.996663     0.917034  0.990363      0.931233   \n",
            "f1-score     0.864048      0.994950     0.949292  0.990363      0.936097   \n",
            "support    325.000000  18880.000000  1133.000000  0.990363  20338.000000   \n",
            "\n",
            "           weighted avg  \n",
            "precision      0.990413  \n",
            "recall         0.990363  \n",
            "f1-score       0.990315  \n",
            "support    20338.000000  \n",
            "Confusion Matrix: \n",
            " [[  286    38     1]\n",
            " [   47 18817    16]\n",
            " [    4    90  1039]]\n",
            "\n",
            "Test Result:\n",
            "\n",
            "Accuracy Score: 89.75%\n",
            "CLASSIFICATION REPORT:\n",
            "                   1            2           3  accuracy    macro avg  \\\n",
            "precision   0.175000     0.953004    0.315942  0.897542     0.481315   \n",
            "recall      0.172840     0.938504    0.400735  0.897542     0.504026   \n",
            "f1-score    0.173913     0.945698    0.353323  0.897542     0.490978   \n",
            "support    81.000000  4732.000000  272.000000  0.897542  5085.000000   \n",
            "\n",
            "           weighted avg  \n",
            "precision      0.906534  \n",
            "recall         0.897542  \n",
            "f1-score       0.901718  \n",
            "support     5085.000000  \n",
            "Confusion Matrix: \n",
            " [[  14   64    3]\n",
            " [  58 4441  233]\n",
            " [   8  155  109]]\n",
            "\n"
          ]
        }
      ]
    },
    {
      "cell_type": "markdown",
      "source": [
        "#### decision tree with the hyperparamters"
      ],
      "metadata": {
        "id": "uGLU2zx4wEcn"
      },
      "id": "uGLU2zx4wEcn"
    },
    {
      "cell_type": "code",
      "source": [
        "from sklearn.tree import DecisionTreeClassifier\n",
        "from sklearn.model_selection import GridSearchCV\n",
        "\n",
        "params = {\n",
        "    \"criterion\":(\"gini\", \"entropy\"), \n",
        "    \"splitter\":(\"best\", \"random\"), \n",
        "    \"max_depth\":(list(range(1, 20))), \n",
        "    \"min_samples_split\":[2, 3, 4], \n",
        "    \"min_samples_leaf\":list(range(1, 20)), \n",
        "}\n",
        "\n",
        "\n",
        "tree_clf = DecisionTreeClassifier(random_state=42)\n",
        "tree_cv = GridSearchCV(tree_clf, params, scoring=\"accuracy\", n_jobs=-1, verbose=1, cv=3)\n",
        "tree_cv.fit(X_train, y_train)\n",
        "best_params = tree_cv.best_params_\n",
        "print(f\"Best paramters: {best_params})\")\n",
        "\n",
        "tree_clf = DecisionTreeClassifier(**best_params)\n",
        "tree_clf.fit(X_train, y_train)\n",
        "print_score(tree_clf, X_train, y_train, X_test, y_test, train=True)\n",
        "print_score(tree_clf, X_train, y_train, X_test, y_test, train=False)"
      ],
      "metadata": {
        "colab": {
          "base_uri": "https://localhost:8080/"
        },
        "id": "1J9xK39ay4_w",
        "outputId": "e5c55fd3-4b37-4241-c834-a764bddb2b40"
      },
      "id": "1J9xK39ay4_w",
      "execution_count": 66,
      "outputs": [
        {
          "output_type": "stream",
          "name": "stdout",
          "text": [
            "Fitting 3 folds for each of 4332 candidates, totalling 12996 fits\n",
            "Best paramters: {'criterion': 'gini', 'max_depth': 15, 'min_samples_leaf': 9, 'min_samples_split': 2, 'splitter': 'random'})\n",
            "Train Result:\n",
            "\n",
            "Accuracy Score: 92.86%\n",
            "CLASSIFICATION REPORT:\n",
            "               1             2            3  accuracy     macro avg  \\\n",
            "precision    0.0      0.928965     0.583333  0.928557      0.504100   \n",
            "recall       0.0      0.999523     0.012357  0.928557      0.337293   \n",
            "f1-score     0.0      0.962954     0.024201  0.928557      0.329051   \n",
            "support    325.0  18880.000000  1133.000000  0.928557  20338.000000   \n",
            "\n",
            "           weighted avg  \n",
            "precision      0.894866  \n",
            "recall         0.928557  \n",
            "f1-score       0.895269  \n",
            "support    20338.000000  \n",
            "Confusion Matrix: \n",
            " [[    0   324     1]\n",
            " [    0 18871     9]\n",
            " [    0  1119    14]]\n",
            "\n",
            "Test Result:\n",
            "\n",
            "Accuracy Score: 93.08%\n",
            "CLASSIFICATION REPORT:\n",
            "              1            2           3  accuracy    macro avg  weighted avg\n",
            "precision   0.0     0.931272    0.571429  0.930777     0.500900      0.897189\n",
            "recall      0.0     0.999366    0.014706  0.930777     0.338024      0.930777\n",
            "f1-score    0.0     0.964118    0.028674  0.930777     0.330931      0.898723\n",
            "support    81.0  4732.000000  272.000000  0.930777  5085.000000   5085.000000\n",
            "Confusion Matrix: \n",
            " [[   0   81    0]\n",
            " [   0 4729    3]\n",
            " [   0  268    4]]\n",
            "\n"
          ]
        },
        {
          "output_type": "stream",
          "name": "stderr",
          "text": [
            "/usr/local/lib/python3.7/dist-packages/sklearn/metrics/_classification.py:1318: UndefinedMetricWarning: Precision and F-score are ill-defined and being set to 0.0 in labels with no predicted samples. Use `zero_division` parameter to control this behavior.\n",
            "  _warn_prf(average, modifier, msg_start, len(result))\n",
            "/usr/local/lib/python3.7/dist-packages/sklearn/metrics/_classification.py:1318: UndefinedMetricWarning: Precision and F-score are ill-defined and being set to 0.0 in labels with no predicted samples. Use `zero_division` parameter to control this behavior.\n",
            "  _warn_prf(average, modifier, msg_start, len(result))\n",
            "/usr/local/lib/python3.7/dist-packages/sklearn/metrics/_classification.py:1318: UndefinedMetricWarning: Precision and F-score are ill-defined and being set to 0.0 in labels with no predicted samples. Use `zero_division` parameter to control this behavior.\n",
            "  _warn_prf(average, modifier, msg_start, len(result))\n",
            "/usr/local/lib/python3.7/dist-packages/sklearn/metrics/_classification.py:1318: UndefinedMetricWarning: Precision and F-score are ill-defined and being set to 0.0 in labels with no predicted samples. Use `zero_division` parameter to control this behavior.\n",
            "  _warn_prf(average, modifier, msg_start, len(result))\n",
            "/usr/local/lib/python3.7/dist-packages/sklearn/metrics/_classification.py:1318: UndefinedMetricWarning: Precision and F-score are ill-defined and being set to 0.0 in labels with no predicted samples. Use `zero_division` parameter to control this behavior.\n",
            "  _warn_prf(average, modifier, msg_start, len(result))\n",
            "/usr/local/lib/python3.7/dist-packages/sklearn/metrics/_classification.py:1318: UndefinedMetricWarning: Precision and F-score are ill-defined and being set to 0.0 in labels with no predicted samples. Use `zero_division` parameter to control this behavior.\n",
            "  _warn_prf(average, modifier, msg_start, len(result))\n"
          ]
        }
      ]
    },
    {
      "cell_type": "code",
      "source": [
        ""
      ],
      "metadata": {
        "id": "yKsGtnYjy5Oh"
      },
      "id": "yKsGtnYjy5Oh",
      "execution_count": 66,
      "outputs": []
    },
    {
      "cell_type": "markdown",
      "source": [
        "### 4.4 XGBoost"
      ],
      "metadata": {
        "id": "wur5eAew6JWg"
      },
      "id": "wur5eAew6JWg"
    },
    {
      "cell_type": "code",
      "source": [
        "\n",
        "df.info()"
      ],
      "metadata": {
        "colab": {
          "base_uri": "https://localhost:8080/"
        },
        "id": "R3ZJCf309XU_",
        "outputId": "56d0cb53-719e-4e87-82f6-c2d23c9beb31"
      },
      "id": "R3ZJCf309XU_",
      "execution_count": 67,
      "outputs": [
        {
          "output_type": "stream",
          "name": "stdout",
          "text": [
            "<class 'pandas.core.frame.DataFrame'>\n",
            "RangeIndex: 25423 entries, 0 to 25422\n",
            "Data columns (total 4 columns):\n",
            " #   Column     Non-Null Count  Dtype\n",
            "---  ------     --------------  -----\n",
            " 0   fuel_type  25423 non-null  int64\n",
            " 1   year       25423 non-null  int64\n",
            " 2   km_driven  25423 non-null  int64\n",
            " 3   price      25423 non-null  int64\n",
            "dtypes: int64(4)\n",
            "memory usage: 794.6 KB\n"
          ]
        }
      ]
    },
    {
      "cell_type": "markdown",
      "source": [
        "##### Seperating for testing and training"
      ],
      "metadata": {
        "id": "yn38pPB7-dZm"
      },
      "id": "yn38pPB7-dZm"
    },
    {
      "cell_type": "markdown",
      "source": [
        "##### Now we will divide our dataset into 2 parts, 80% into training and 20% in testing data.\n"
      ],
      "metadata": {
        "id": "7hvsTSo5nZ5i"
      },
      "id": "7hvsTSo5nZ5i"
    },
    {
      "cell_type": "code",
      "source": [
        "from sklearn.model_selection import train_test_split\n",
        "\n",
        "X_train, X_test, y_train, y_test = train_test_split(X, y, test_size=0.2, random_state=123)"
      ],
      "metadata": {
        "id": "EgXGIeHd-kYx"
      },
      "id": "EgXGIeHd-kYx",
      "execution_count": 68,
      "outputs": []
    },
    {
      "cell_type": "markdown",
      "source": [
        "##### XGB hyperparameters"
      ],
      "metadata": {
        "id": "OlaYHJbL-6xU"
      },
      "id": "OlaYHJbL-6xU"
    },
    {
      "cell_type": "code",
      "source": [
        "xg_reg = xgb.XGBRegressor(objective ='reg:linear', colsample_bytree = 0.3, learning_rate = 0.1,\n",
        "                max_depth = 5, alpha = 10, n_estimators = 10)"
      ],
      "metadata": {
        "id": "z9_KeLLo-kjf"
      },
      "id": "z9_KeLLo-kjf",
      "execution_count": 69,
      "outputs": []
    },
    {
      "cell_type": "code",
      "source": [
        "xg_reg.fit(X_train,y_train)\n",
        "\n",
        "preds = xg_reg.predict(X_test)"
      ],
      "metadata": {
        "colab": {
          "base_uri": "https://localhost:8080/"
        },
        "id": "NP9Xrqsm-vht",
        "outputId": "38953df0-f875-4323-e366-480a418cdd75"
      },
      "id": "NP9Xrqsm-vht",
      "execution_count": 70,
      "outputs": [
        {
          "output_type": "stream",
          "name": "stdout",
          "text": [
            "[09:40:39] WARNING: /workspace/src/objective/regression_obj.cu:152: reg:linear is now deprecated in favor of reg:squarederror.\n"
          ]
        }
      ]
    },
    {
      "cell_type": "code",
      "source": [
        "rmse = np.sqrt(mean_squared_error(y_test, preds))\n",
        "print(\"RMSE: %f\" % (rmse))"
      ],
      "metadata": {
        "colab": {
          "base_uri": "https://localhost:8080/"
        },
        "id": "J4HTnl_p-vw9",
        "outputId": "41436bb7-a625-47d8-e8a9-dc2ed3614aaa"
      },
      "id": "J4HTnl_p-vw9",
      "execution_count": 71,
      "outputs": [
        {
          "output_type": "stream",
          "name": "stdout",
          "text": [
            "RMSE: 0.590473\n"
          ]
        }
      ]
    },
    {
      "cell_type": "code",
      "source": [
        "from sklearn.metrics import accuracy_score\n",
        "accuracy_score(y_test, y_pred)\n",
        "# accuracy_score(y_test, y_pred, normalize=False)\n"
      ],
      "metadata": {
        "id": "9RWaOl-o_rfq",
        "colab": {
          "base_uri": "https://localhost:8080/"
        },
        "outputId": "8c1f55f9-0702-4a9e-913d-208c714c92b8"
      },
      "id": "9RWaOl-o_rfq",
      "execution_count": 72,
      "outputs": [
        {
          "output_type": "execute_result",
          "data": {
            "text/plain": [
              "0.9331366764995084"
            ]
          },
          "metadata": {},
          "execution_count": 72
        }
      ]
    },
    {
      "cell_type": "code",
      "source": [
        ""
      ],
      "metadata": {
        "id": "c4IGwaVlFAbC"
      },
      "id": "c4IGwaVlFAbC",
      "execution_count": 72,
      "outputs": []
    }
  ],
  "metadata": {
    "kernelspec": {
      "display_name": "Python 3",
      "language": "python",
      "name": "python3"
    },
    "language_info": {
      "codemirror_mode": {
        "name": "ipython",
        "version": 3
      },
      "file_extension": ".py",
      "mimetype": "text/x-python",
      "name": "python",
      "nbconvert_exporter": "python",
      "pygments_lexer": "ipython3",
      "version": "3.8.8"
    },
    "colab": {
      "name": "Dataanalyis of car sales 1.ipynb",
      "provenance": []
    }
  },
  "nbformat": 4,
  "nbformat_minor": 5
}