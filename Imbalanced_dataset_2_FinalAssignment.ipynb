{
  "cells": [
    {
      "cell_type": "markdown",
      "id": "fbc40dfe",
      "metadata": {
        "id": "fbc40dfe"
      },
      "source": [
        "# Data Science Analyzation on Used Car Sales "
      ]
    },
    {
      "cell_type": "markdown",
      "id": "010d81dd",
      "metadata": {
        "id": "010d81dd"
      },
      "source": [
        "This jupitor notebook contains all work done on 1st dataset of imbalanced datasets. \n",
        "\n",
        "The github repository link is: \n",
        "\n",
        "https://github.com/anummanzoor901/Datascience888.git\n",
        "\n",
        "To perform this assignment following steps are followed:\n",
        "\n",
        "1.   Import dataset and insight \n",
        "2.   Making data imbalanced and visualization\n",
        "3.   Preprocessing on the dataset\n",
        "4.   Prediction,training, for this decision tree, xgboost and random forest are used.\n",
        "\n",
        "\n"
      ]
    },
    {
      "cell_type": "markdown",
      "source": [
        "# 1) Import dataset and insight"
      ],
      "metadata": {
        "id": "npy7oETFEbXn"
      },
      "id": "npy7oETFEbXn"
    },
    {
      "cell_type": "markdown",
      "id": "0c3a12bc",
      "metadata": {
        "id": "0c3a12bc"
      },
      "source": [
        "### 1.1) Importing Libraries\n",
        "\n",
        "##### We will start with importing all important libraries and function required for this assignment. "
      ]
    },
    {
      "cell_type": "code",
      "execution_count": null,
      "id": "0377f7fa",
      "metadata": {
        "id": "0377f7fa",
        "colab": {
          "base_uri": "https://localhost:8080/"
        },
        "outputId": "7851e8a8-b0bc-435b-96fd-27fb0212fd5c"
      },
      "outputs": [
        {
          "output_type": "stream",
          "name": "stderr",
          "text": [
            "/usr/local/lib/python3.7/dist-packages/statsmodels/tools/_testing.py:19: FutureWarning: pandas.util.testing is deprecated. Use the functions in the public API at pandas.testing instead.\n",
            "  import pandas.util.testing as tm\n"
          ]
        }
      ],
      "source": [
        "import pandas as pd\n",
        "import numpy as np\n",
        "import matplotlib.pyplot as plt\n",
        "import seaborn as sns\n",
        "from numpy import median\n",
        "\n",
        "import lightgbm as lgb\n",
        "import xgboost as xgb\n",
        "\n",
        "\n",
        "from sklearn.metrics import mean_squared_error\n",
        "import category_encoders as ce\n",
        "from sklearn.ensemble import RandomForestClassifier"
      ]
    },
    {
      "cell_type": "markdown",
      "id": "04a44fed",
      "metadata": {
        "id": "04a44fed"
      },
      "source": [
        "### 1.2) Analysing Dataset\n",
        "\n",
        "##### First we import dataset and check the insight of it. How many columns, rows, null values etc this dataset contains. "
      ]
    },
    {
      "cell_type": "code",
      "execution_count": null,
      "id": "f01d120f",
      "metadata": {
        "id": "f01d120f"
      },
      "outputs": [],
      "source": [
        "df=pd.read_csv('/content/CAR DETAILS FROM CAR DEKHO.csv')"
      ]
    },
    {
      "cell_type": "code",
      "execution_count": null,
      "id": "94195ebe",
      "metadata": {
        "id": "94195ebe",
        "colab": {
          "base_uri": "https://localhost:8080/"
        },
        "outputId": "9816f99b-951a-4970-9008-e2447674ac83"
      },
      "outputs": [
        {
          "output_type": "execute_result",
          "data": {
            "text/plain": [
              "                       name  year  selling_price  km_driven    fuel  \\\n",
              "0             Maruti 800 AC  2007          60000      70000  Petrol   \n",
              "1  Maruti Wagon R LXI Minor  2007         135000      50000  Petrol   \n",
              "2      Hyundai Verna 1.6 SX  2012         600000     100000  Diesel   \n",
              "3    Datsun RediGO T Option  2017         250000      46000  Petrol   \n",
              "4     Honda Amaze VX i-DTEC  2014         450000     141000  Diesel   \n",
              "\n",
              "  seller_type transmission         owner  \n",
              "0  Individual       Manual   First Owner  \n",
              "1  Individual       Manual   First Owner  \n",
              "2  Individual       Manual   First Owner  \n",
              "3  Individual       Manual   First Owner  \n",
              "4  Individual       Manual  Second Owner  "
            ],
            "text/html": [
              "\n",
              "  <div id=\"df-80cca016-2e60-4502-822d-f12041183ea2\">\n",
              "    <div class=\"colab-df-container\">\n",
              "      <div>\n",
              "<style scoped>\n",
              "    .dataframe tbody tr th:only-of-type {\n",
              "        vertical-align: middle;\n",
              "    }\n",
              "\n",
              "    .dataframe tbody tr th {\n",
              "        vertical-align: top;\n",
              "    }\n",
              "\n",
              "    .dataframe thead th {\n",
              "        text-align: right;\n",
              "    }\n",
              "</style>\n",
              "<table border=\"1\" class=\"dataframe\">\n",
              "  <thead>\n",
              "    <tr style=\"text-align: right;\">\n",
              "      <th></th>\n",
              "      <th>name</th>\n",
              "      <th>year</th>\n",
              "      <th>selling_price</th>\n",
              "      <th>km_driven</th>\n",
              "      <th>fuel</th>\n",
              "      <th>seller_type</th>\n",
              "      <th>transmission</th>\n",
              "      <th>owner</th>\n",
              "    </tr>\n",
              "  </thead>\n",
              "  <tbody>\n",
              "    <tr>\n",
              "      <th>0</th>\n",
              "      <td>Maruti 800 AC</td>\n",
              "      <td>2007</td>\n",
              "      <td>60000</td>\n",
              "      <td>70000</td>\n",
              "      <td>Petrol</td>\n",
              "      <td>Individual</td>\n",
              "      <td>Manual</td>\n",
              "      <td>First Owner</td>\n",
              "    </tr>\n",
              "    <tr>\n",
              "      <th>1</th>\n",
              "      <td>Maruti Wagon R LXI Minor</td>\n",
              "      <td>2007</td>\n",
              "      <td>135000</td>\n",
              "      <td>50000</td>\n",
              "      <td>Petrol</td>\n",
              "      <td>Individual</td>\n",
              "      <td>Manual</td>\n",
              "      <td>First Owner</td>\n",
              "    </tr>\n",
              "    <tr>\n",
              "      <th>2</th>\n",
              "      <td>Hyundai Verna 1.6 SX</td>\n",
              "      <td>2012</td>\n",
              "      <td>600000</td>\n",
              "      <td>100000</td>\n",
              "      <td>Diesel</td>\n",
              "      <td>Individual</td>\n",
              "      <td>Manual</td>\n",
              "      <td>First Owner</td>\n",
              "    </tr>\n",
              "    <tr>\n",
              "      <th>3</th>\n",
              "      <td>Datsun RediGO T Option</td>\n",
              "      <td>2017</td>\n",
              "      <td>250000</td>\n",
              "      <td>46000</td>\n",
              "      <td>Petrol</td>\n",
              "      <td>Individual</td>\n",
              "      <td>Manual</td>\n",
              "      <td>First Owner</td>\n",
              "    </tr>\n",
              "    <tr>\n",
              "      <th>4</th>\n",
              "      <td>Honda Amaze VX i-DTEC</td>\n",
              "      <td>2014</td>\n",
              "      <td>450000</td>\n",
              "      <td>141000</td>\n",
              "      <td>Diesel</td>\n",
              "      <td>Individual</td>\n",
              "      <td>Manual</td>\n",
              "      <td>Second Owner</td>\n",
              "    </tr>\n",
              "  </tbody>\n",
              "</table>\n",
              "</div>\n",
              "      <button class=\"colab-df-convert\" onclick=\"convertToInteractive('df-80cca016-2e60-4502-822d-f12041183ea2')\"\n",
              "              title=\"Convert this dataframe to an interactive table.\"\n",
              "              style=\"display:none;\">\n",
              "        \n",
              "  <svg xmlns=\"http://www.w3.org/2000/svg\" height=\"24px\"viewBox=\"0 0 24 24\"\n",
              "       width=\"24px\">\n",
              "    <path d=\"M0 0h24v24H0V0z\" fill=\"none\"/>\n",
              "    <path d=\"M18.56 5.44l.94 2.06.94-2.06 2.06-.94-2.06-.94-.94-2.06-.94 2.06-2.06.94zm-11 1L8.5 8.5l.94-2.06 2.06-.94-2.06-.94L8.5 2.5l-.94 2.06-2.06.94zm10 10l.94 2.06.94-2.06 2.06-.94-2.06-.94-.94-2.06-.94 2.06-2.06.94z\"/><path d=\"M17.41 7.96l-1.37-1.37c-.4-.4-.92-.59-1.43-.59-.52 0-1.04.2-1.43.59L10.3 9.45l-7.72 7.72c-.78.78-.78 2.05 0 2.83L4 21.41c.39.39.9.59 1.41.59.51 0 1.02-.2 1.41-.59l7.78-7.78 2.81-2.81c.8-.78.8-2.07 0-2.86zM5.41 20L4 18.59l7.72-7.72 1.47 1.35L5.41 20z\"/>\n",
              "  </svg>\n",
              "      </button>\n",
              "      \n",
              "  <style>\n",
              "    .colab-df-container {\n",
              "      display:flex;\n",
              "      flex-wrap:wrap;\n",
              "      gap: 12px;\n",
              "    }\n",
              "\n",
              "    .colab-df-convert {\n",
              "      background-color: #E8F0FE;\n",
              "      border: none;\n",
              "      border-radius: 50%;\n",
              "      cursor: pointer;\n",
              "      display: none;\n",
              "      fill: #1967D2;\n",
              "      height: 32px;\n",
              "      padding: 0 0 0 0;\n",
              "      width: 32px;\n",
              "    }\n",
              "\n",
              "    .colab-df-convert:hover {\n",
              "      background-color: #E2EBFA;\n",
              "      box-shadow: 0px 1px 2px rgba(60, 64, 67, 0.3), 0px 1px 3px 1px rgba(60, 64, 67, 0.15);\n",
              "      fill: #174EA6;\n",
              "    }\n",
              "\n",
              "    [theme=dark] .colab-df-convert {\n",
              "      background-color: #3B4455;\n",
              "      fill: #D2E3FC;\n",
              "    }\n",
              "\n",
              "    [theme=dark] .colab-df-convert:hover {\n",
              "      background-color: #434B5C;\n",
              "      box-shadow: 0px 1px 3px 1px rgba(0, 0, 0, 0.15);\n",
              "      filter: drop-shadow(0px 1px 2px rgba(0, 0, 0, 0.3));\n",
              "      fill: #FFFFFF;\n",
              "    }\n",
              "  </style>\n",
              "\n",
              "      <script>\n",
              "        const buttonEl =\n",
              "          document.querySelector('#df-80cca016-2e60-4502-822d-f12041183ea2 button.colab-df-convert');\n",
              "        buttonEl.style.display =\n",
              "          google.colab.kernel.accessAllowed ? 'block' : 'none';\n",
              "\n",
              "        async function convertToInteractive(key) {\n",
              "          const element = document.querySelector('#df-80cca016-2e60-4502-822d-f12041183ea2');\n",
              "          const dataTable =\n",
              "            await google.colab.kernel.invokeFunction('convertToInteractive',\n",
              "                                                     [key], {});\n",
              "          if (!dataTable) return;\n",
              "\n",
              "          const docLinkHtml = 'Like what you see? Visit the ' +\n",
              "            '<a target=\"_blank\" href=https://colab.research.google.com/notebooks/data_table.ipynb>data table notebook</a>'\n",
              "            + ' to learn more about interactive tables.';\n",
              "          element.innerHTML = '';\n",
              "          dataTable['output_type'] = 'display_data';\n",
              "          await google.colab.output.renderOutput(dataTable, element);\n",
              "          const docLink = document.createElement('div');\n",
              "          docLink.innerHTML = docLinkHtml;\n",
              "          element.appendChild(docLink);\n",
              "        }\n",
              "      </script>\n",
              "    </div>\n",
              "  </div>\n",
              "  "
            ]
          },
          "metadata": {},
          "execution_count": 5
        }
      ],
      "source": [
        "df.head()"
      ]
    },
    {
      "cell_type": "code",
      "execution_count": null,
      "id": "7457593e",
      "metadata": {
        "id": "7457593e",
        "colab": {
          "base_uri": "https://localhost:8080/"
        },
        "outputId": "39cd2a0e-9940-4266-fa61-4add73aa3b0e"
      },
      "outputs": [
        {
          "output_type": "execute_result",
          "data": {
            "text/plain": [
              "(4340, 8)"
            ]
          },
          "metadata": {},
          "execution_count": 6
        }
      ],
      "source": [
        "df.shape"
      ]
    },
    {
      "cell_type": "code",
      "execution_count": null,
      "id": "d4620e26",
      "metadata": {
        "id": "d4620e26",
        "colab": {
          "base_uri": "https://localhost:8080/"
        },
        "outputId": "c951a323-8f17-4cf3-feaa-066c00727736"
      },
      "outputs": [
        {
          "output_type": "stream",
          "name": "stdout",
          "text": [
            "<class 'pandas.core.frame.DataFrame'>\n",
            "RangeIndex: 4340 entries, 0 to 4339\n",
            "Data columns (total 8 columns):\n",
            " #   Column         Non-Null Count  Dtype \n",
            "---  ------         --------------  ----- \n",
            " 0   name           4340 non-null   object\n",
            " 1   year           4340 non-null   int64 \n",
            " 2   selling_price  4340 non-null   int64 \n",
            " 3   km_driven      4340 non-null   int64 \n",
            " 4   fuel           4340 non-null   object\n",
            " 5   seller_type    4340 non-null   object\n",
            " 6   transmission   4340 non-null   object\n",
            " 7   owner          4340 non-null   object\n",
            "dtypes: int64(3), object(5)\n",
            "memory usage: 271.4+ KB\n"
          ]
        }
      ],
      "source": [
        "df.info()"
      ]
    },
    {
      "cell_type": "code",
      "execution_count": null,
      "id": "757c6979",
      "metadata": {
        "id": "757c6979",
        "colab": {
          "base_uri": "https://localhost:8080/"
        },
        "outputId": "c30b7531-4520-4997-f42b-37eb46f3ff00"
      },
      "outputs": [
        {
          "output_type": "execute_result",
          "data": {
            "text/plain": [
              "              year  selling_price      km_driven\n",
              "count  4340.000000   4.340000e+03    4340.000000\n",
              "mean   2013.090783   5.041273e+05   66215.777419\n",
              "std       4.215344   5.785487e+05   46644.102194\n",
              "min    1992.000000   2.000000e+04       1.000000\n",
              "25%    2011.000000   2.087498e+05   35000.000000\n",
              "50%    2014.000000   3.500000e+05   60000.000000\n",
              "75%    2016.000000   6.000000e+05   90000.000000\n",
              "max    2020.000000   8.900000e+06  806599.000000"
            ],
            "text/html": [
              "\n",
              "  <div id=\"df-4d834e58-f073-49f0-81fc-50877de16fe2\">\n",
              "    <div class=\"colab-df-container\">\n",
              "      <div>\n",
              "<style scoped>\n",
              "    .dataframe tbody tr th:only-of-type {\n",
              "        vertical-align: middle;\n",
              "    }\n",
              "\n",
              "    .dataframe tbody tr th {\n",
              "        vertical-align: top;\n",
              "    }\n",
              "\n",
              "    .dataframe thead th {\n",
              "        text-align: right;\n",
              "    }\n",
              "</style>\n",
              "<table border=\"1\" class=\"dataframe\">\n",
              "  <thead>\n",
              "    <tr style=\"text-align: right;\">\n",
              "      <th></th>\n",
              "      <th>year</th>\n",
              "      <th>selling_price</th>\n",
              "      <th>km_driven</th>\n",
              "    </tr>\n",
              "  </thead>\n",
              "  <tbody>\n",
              "    <tr>\n",
              "      <th>count</th>\n",
              "      <td>4340.000000</td>\n",
              "      <td>4.340000e+03</td>\n",
              "      <td>4340.000000</td>\n",
              "    </tr>\n",
              "    <tr>\n",
              "      <th>mean</th>\n",
              "      <td>2013.090783</td>\n",
              "      <td>5.041273e+05</td>\n",
              "      <td>66215.777419</td>\n",
              "    </tr>\n",
              "    <tr>\n",
              "      <th>std</th>\n",
              "      <td>4.215344</td>\n",
              "      <td>5.785487e+05</td>\n",
              "      <td>46644.102194</td>\n",
              "    </tr>\n",
              "    <tr>\n",
              "      <th>min</th>\n",
              "      <td>1992.000000</td>\n",
              "      <td>2.000000e+04</td>\n",
              "      <td>1.000000</td>\n",
              "    </tr>\n",
              "    <tr>\n",
              "      <th>25%</th>\n",
              "      <td>2011.000000</td>\n",
              "      <td>2.087498e+05</td>\n",
              "      <td>35000.000000</td>\n",
              "    </tr>\n",
              "    <tr>\n",
              "      <th>50%</th>\n",
              "      <td>2014.000000</td>\n",
              "      <td>3.500000e+05</td>\n",
              "      <td>60000.000000</td>\n",
              "    </tr>\n",
              "    <tr>\n",
              "      <th>75%</th>\n",
              "      <td>2016.000000</td>\n",
              "      <td>6.000000e+05</td>\n",
              "      <td>90000.000000</td>\n",
              "    </tr>\n",
              "    <tr>\n",
              "      <th>max</th>\n",
              "      <td>2020.000000</td>\n",
              "      <td>8.900000e+06</td>\n",
              "      <td>806599.000000</td>\n",
              "    </tr>\n",
              "  </tbody>\n",
              "</table>\n",
              "</div>\n",
              "      <button class=\"colab-df-convert\" onclick=\"convertToInteractive('df-4d834e58-f073-49f0-81fc-50877de16fe2')\"\n",
              "              title=\"Convert this dataframe to an interactive table.\"\n",
              "              style=\"display:none;\">\n",
              "        \n",
              "  <svg xmlns=\"http://www.w3.org/2000/svg\" height=\"24px\"viewBox=\"0 0 24 24\"\n",
              "       width=\"24px\">\n",
              "    <path d=\"M0 0h24v24H0V0z\" fill=\"none\"/>\n",
              "    <path d=\"M18.56 5.44l.94 2.06.94-2.06 2.06-.94-2.06-.94-.94-2.06-.94 2.06-2.06.94zm-11 1L8.5 8.5l.94-2.06 2.06-.94-2.06-.94L8.5 2.5l-.94 2.06-2.06.94zm10 10l.94 2.06.94-2.06 2.06-.94-2.06-.94-.94-2.06-.94 2.06-2.06.94z\"/><path d=\"M17.41 7.96l-1.37-1.37c-.4-.4-.92-.59-1.43-.59-.52 0-1.04.2-1.43.59L10.3 9.45l-7.72 7.72c-.78.78-.78 2.05 0 2.83L4 21.41c.39.39.9.59 1.41.59.51 0 1.02-.2 1.41-.59l7.78-7.78 2.81-2.81c.8-.78.8-2.07 0-2.86zM5.41 20L4 18.59l7.72-7.72 1.47 1.35L5.41 20z\"/>\n",
              "  </svg>\n",
              "      </button>\n",
              "      \n",
              "  <style>\n",
              "    .colab-df-container {\n",
              "      display:flex;\n",
              "      flex-wrap:wrap;\n",
              "      gap: 12px;\n",
              "    }\n",
              "\n",
              "    .colab-df-convert {\n",
              "      background-color: #E8F0FE;\n",
              "      border: none;\n",
              "      border-radius: 50%;\n",
              "      cursor: pointer;\n",
              "      display: none;\n",
              "      fill: #1967D2;\n",
              "      height: 32px;\n",
              "      padding: 0 0 0 0;\n",
              "      width: 32px;\n",
              "    }\n",
              "\n",
              "    .colab-df-convert:hover {\n",
              "      background-color: #E2EBFA;\n",
              "      box-shadow: 0px 1px 2px rgba(60, 64, 67, 0.3), 0px 1px 3px 1px rgba(60, 64, 67, 0.15);\n",
              "      fill: #174EA6;\n",
              "    }\n",
              "\n",
              "    [theme=dark] .colab-df-convert {\n",
              "      background-color: #3B4455;\n",
              "      fill: #D2E3FC;\n",
              "    }\n",
              "\n",
              "    [theme=dark] .colab-df-convert:hover {\n",
              "      background-color: #434B5C;\n",
              "      box-shadow: 0px 1px 3px 1px rgba(0, 0, 0, 0.15);\n",
              "      filter: drop-shadow(0px 1px 2px rgba(0, 0, 0, 0.3));\n",
              "      fill: #FFFFFF;\n",
              "    }\n",
              "  </style>\n",
              "\n",
              "      <script>\n",
              "        const buttonEl =\n",
              "          document.querySelector('#df-4d834e58-f073-49f0-81fc-50877de16fe2 button.colab-df-convert');\n",
              "        buttonEl.style.display =\n",
              "          google.colab.kernel.accessAllowed ? 'block' : 'none';\n",
              "\n",
              "        async function convertToInteractive(key) {\n",
              "          const element = document.querySelector('#df-4d834e58-f073-49f0-81fc-50877de16fe2');\n",
              "          const dataTable =\n",
              "            await google.colab.kernel.invokeFunction('convertToInteractive',\n",
              "                                                     [key], {});\n",
              "          if (!dataTable) return;\n",
              "\n",
              "          const docLinkHtml = 'Like what you see? Visit the ' +\n",
              "            '<a target=\"_blank\" href=https://colab.research.google.com/notebooks/data_table.ipynb>data table notebook</a>'\n",
              "            + ' to learn more about interactive tables.';\n",
              "          element.innerHTML = '';\n",
              "          dataTable['output_type'] = 'display_data';\n",
              "          await google.colab.output.renderOutput(dataTable, element);\n",
              "          const docLink = document.createElement('div');\n",
              "          docLink.innerHTML = docLinkHtml;\n",
              "          element.appendChild(docLink);\n",
              "        }\n",
              "      </script>\n",
              "    </div>\n",
              "  </div>\n",
              "  "
            ]
          },
          "metadata": {},
          "execution_count": 8
        }
      ],
      "source": [
        "df.describe()"
      ]
    },
    {
      "cell_type": "markdown",
      "id": "bb3214aa",
      "metadata": {
        "id": "bb3214aa"
      },
      "source": [
        "### 1.3) Extract the requird data\n",
        "\n",
        "##### I will extract data of \"price, year, manufacturer, model, condition, transmission, type, paint_color, state, lat, long\"\n",
        "from this dataset. As only these columns are important to make a useful prediction. Other columns will be removed. "
      ]
    },
    {
      "cell_type": "code",
      "execution_count": null,
      "id": "3e694acd",
      "metadata": {
        "id": "3e694acd"
      },
      "outputs": [],
      "source": [
        "\n",
        "\n",
        "#columns=[ \"price\", \"year\", \"manufacturer\", \"model\", \"condition\", \"transmission\", \"type\", \"paint_color\", \"state\", \"lat\", \"long\"]"
      ]
    },
    {
      "cell_type": "code",
      "execution_count": null,
      "id": "ec71187e",
      "metadata": {
        "id": "ec71187e"
      },
      "outputs": [],
      "source": [
        "#df = df[columns]"
      ]
    },
    {
      "cell_type": "markdown",
      "id": "be0e9de2",
      "metadata": {
        "id": "be0e9de2"
      },
      "source": [
        "\n",
        "\n",
        "\n",
        "\n",
        "\n",
        "Checking if dataset contains null values"
      ]
    },
    {
      "cell_type": "code",
      "execution_count": null,
      "id": "0e5225a7",
      "metadata": {
        "id": "0e5225a7",
        "colab": {
          "base_uri": "https://localhost:8080/"
        },
        "outputId": "728cb746-5e83-49d9-cdc7-3e33c4f37e8f"
      },
      "outputs": [
        {
          "output_type": "execute_result",
          "data": {
            "text/plain": [
              "name             0\n",
              "year             0\n",
              "selling_price    0\n",
              "km_driven        0\n",
              "fuel             0\n",
              "seller_type      0\n",
              "transmission     0\n",
              "owner            0\n",
              "dtype: int64"
            ]
          },
          "metadata": {},
          "execution_count": 11
        }
      ],
      "source": [
        "df.isnull().sum()"
      ]
    },
    {
      "cell_type": "markdown",
      "source": [
        ""
      ],
      "metadata": {
        "id": "V-jT7rfpEkEX"
      },
      "id": "V-jT7rfpEkEX"
    },
    {
      "cell_type": "code",
      "source": [
        ""
      ],
      "metadata": {
        "id": "qUQhhGICi6Pj"
      },
      "id": "qUQhhGICi6Pj",
      "execution_count": null,
      "outputs": []
    },
    {
      "cell_type": "markdown",
      "source": [
        "# 2) Imbalancing dataset 65%, 75%, 95%"
      ],
      "metadata": {
        "id": "Hq3GhHbJD8WU"
      },
      "id": "Hq3GhHbJD8WU"
    },
    {
      "cell_type": "markdown",
      "id": "72f9a05a",
      "metadata": {
        "id": "72f9a05a"
      },
      "source": [
        "To make my data imbalance I used random data creation method. It will create a random data to imbalanced the classes.\n",
        "\n",
        "website which I used to study about random sampling: https://pandas.pydata.org/docs/reference/api/pandas.DataFrame.sample.html\n",
        "\n"
      ]
    },
    {
      "cell_type": "markdown",
      "id": "4f1597bf",
      "metadata": {
        "id": "4f1597bf"
      },
      "source": [
        "### 2.1) imbalance (65%)"
      ]
    },
    {
      "cell_type": "markdown",
      "id": "5d6da77e",
      "metadata": {
        "id": "5d6da77e"
      },
      "source": [
        "first I will generate 65% imbalanced data and visualize it. "
      ]
    },
    {
      "cell_type": "code",
      "execution_count": null,
      "id": "e0b71226",
      "metadata": {
        "id": "e0b71226",
        "outputId": "772f2bd3-6205-45aa-d860-81eb0d472d9d",
        "colab": {
          "base_uri": "https://localhost:8080/",
          "height": 423
        }
      },
      "outputs": [
        {
          "output_type": "execute_result",
          "data": {
            "text/plain": [
              "                                    name  year  selling_price  km_driven  \\\n",
              "2835          Hyundai Xcent 1.2 Kappa SX  2016         350000      12000   \n",
              "2951     Skoda Rapid 1.5 TDI AT Ambition  2015         599000      46957   \n",
              "2365                 Nissan Terrano XL P  2017         844999      30000   \n",
              "3027               Chevrolet Beat Diesel  2012         160000      90000   \n",
              "1466      Mahindra Renault Logan 1.5 DLS  2008          89999     213000   \n",
              "...                                  ...   ...            ...        ...   \n",
              "387                  Maruti Alto 800 LXI  2016         130000      40000   \n",
              "2301  Volkswagen Jetta 2.0L TDI Highline  2015         790000      52517   \n",
              "2315   Skoda Octavia Elegance 2.0 TDI AT  2014        1200000     135000   \n",
              "2405    Honda Jazz Select Edition Active  2010         285000      60000   \n",
              "4040  Maruti Eeco 7 Seater Standard BSIV  2017         350000      51000   \n",
              "\n",
              "        fuel seller_type transmission         owner  \n",
              "2835  Petrol  Individual       Manual   First Owner  \n",
              "2951  Diesel      Dealer    Automatic   First Owner  \n",
              "2365  Petrol  Individual       Manual   First Owner  \n",
              "3027  Diesel  Individual       Manual  Second Owner  \n",
              "1466  Diesel  Individual       Manual   First Owner  \n",
              "...      ...         ...          ...           ...  \n",
              "387   Petrol  Individual       Manual   First Owner  \n",
              "2301  Diesel      Dealer       Manual   First Owner  \n",
              "2315  Diesel  Individual    Automatic   Third Owner  \n",
              "2405  Petrol      Dealer       Manual  Second Owner  \n",
              "4040  Petrol      Dealer       Manual   First Owner  \n",
              "\n",
              "[2821 rows x 8 columns]"
            ],
            "text/html": [
              "\n",
              "  <div id=\"df-c613736e-949d-4d92-91c4-392e982590ef\">\n",
              "    <div class=\"colab-df-container\">\n",
              "      <div>\n",
              "<style scoped>\n",
              "    .dataframe tbody tr th:only-of-type {\n",
              "        vertical-align: middle;\n",
              "    }\n",
              "\n",
              "    .dataframe tbody tr th {\n",
              "        vertical-align: top;\n",
              "    }\n",
              "\n",
              "    .dataframe thead th {\n",
              "        text-align: right;\n",
              "    }\n",
              "</style>\n",
              "<table border=\"1\" class=\"dataframe\">\n",
              "  <thead>\n",
              "    <tr style=\"text-align: right;\">\n",
              "      <th></th>\n",
              "      <th>name</th>\n",
              "      <th>year</th>\n",
              "      <th>selling_price</th>\n",
              "      <th>km_driven</th>\n",
              "      <th>fuel</th>\n",
              "      <th>seller_type</th>\n",
              "      <th>transmission</th>\n",
              "      <th>owner</th>\n",
              "    </tr>\n",
              "  </thead>\n",
              "  <tbody>\n",
              "    <tr>\n",
              "      <th>2835</th>\n",
              "      <td>Hyundai Xcent 1.2 Kappa SX</td>\n",
              "      <td>2016</td>\n",
              "      <td>350000</td>\n",
              "      <td>12000</td>\n",
              "      <td>Petrol</td>\n",
              "      <td>Individual</td>\n",
              "      <td>Manual</td>\n",
              "      <td>First Owner</td>\n",
              "    </tr>\n",
              "    <tr>\n",
              "      <th>2951</th>\n",
              "      <td>Skoda Rapid 1.5 TDI AT Ambition</td>\n",
              "      <td>2015</td>\n",
              "      <td>599000</td>\n",
              "      <td>46957</td>\n",
              "      <td>Diesel</td>\n",
              "      <td>Dealer</td>\n",
              "      <td>Automatic</td>\n",
              "      <td>First Owner</td>\n",
              "    </tr>\n",
              "    <tr>\n",
              "      <th>2365</th>\n",
              "      <td>Nissan Terrano XL P</td>\n",
              "      <td>2017</td>\n",
              "      <td>844999</td>\n",
              "      <td>30000</td>\n",
              "      <td>Petrol</td>\n",
              "      <td>Individual</td>\n",
              "      <td>Manual</td>\n",
              "      <td>First Owner</td>\n",
              "    </tr>\n",
              "    <tr>\n",
              "      <th>3027</th>\n",
              "      <td>Chevrolet Beat Diesel</td>\n",
              "      <td>2012</td>\n",
              "      <td>160000</td>\n",
              "      <td>90000</td>\n",
              "      <td>Diesel</td>\n",
              "      <td>Individual</td>\n",
              "      <td>Manual</td>\n",
              "      <td>Second Owner</td>\n",
              "    </tr>\n",
              "    <tr>\n",
              "      <th>1466</th>\n",
              "      <td>Mahindra Renault Logan 1.5 DLS</td>\n",
              "      <td>2008</td>\n",
              "      <td>89999</td>\n",
              "      <td>213000</td>\n",
              "      <td>Diesel</td>\n",
              "      <td>Individual</td>\n",
              "      <td>Manual</td>\n",
              "      <td>First Owner</td>\n",
              "    </tr>\n",
              "    <tr>\n",
              "      <th>...</th>\n",
              "      <td>...</td>\n",
              "      <td>...</td>\n",
              "      <td>...</td>\n",
              "      <td>...</td>\n",
              "      <td>...</td>\n",
              "      <td>...</td>\n",
              "      <td>...</td>\n",
              "      <td>...</td>\n",
              "    </tr>\n",
              "    <tr>\n",
              "      <th>387</th>\n",
              "      <td>Maruti Alto 800 LXI</td>\n",
              "      <td>2016</td>\n",
              "      <td>130000</td>\n",
              "      <td>40000</td>\n",
              "      <td>Petrol</td>\n",
              "      <td>Individual</td>\n",
              "      <td>Manual</td>\n",
              "      <td>First Owner</td>\n",
              "    </tr>\n",
              "    <tr>\n",
              "      <th>2301</th>\n",
              "      <td>Volkswagen Jetta 2.0L TDI Highline</td>\n",
              "      <td>2015</td>\n",
              "      <td>790000</td>\n",
              "      <td>52517</td>\n",
              "      <td>Diesel</td>\n",
              "      <td>Dealer</td>\n",
              "      <td>Manual</td>\n",
              "      <td>First Owner</td>\n",
              "    </tr>\n",
              "    <tr>\n",
              "      <th>2315</th>\n",
              "      <td>Skoda Octavia Elegance 2.0 TDI AT</td>\n",
              "      <td>2014</td>\n",
              "      <td>1200000</td>\n",
              "      <td>135000</td>\n",
              "      <td>Diesel</td>\n",
              "      <td>Individual</td>\n",
              "      <td>Automatic</td>\n",
              "      <td>Third Owner</td>\n",
              "    </tr>\n",
              "    <tr>\n",
              "      <th>2405</th>\n",
              "      <td>Honda Jazz Select Edition Active</td>\n",
              "      <td>2010</td>\n",
              "      <td>285000</td>\n",
              "      <td>60000</td>\n",
              "      <td>Petrol</td>\n",
              "      <td>Dealer</td>\n",
              "      <td>Manual</td>\n",
              "      <td>Second Owner</td>\n",
              "    </tr>\n",
              "    <tr>\n",
              "      <th>4040</th>\n",
              "      <td>Maruti Eeco 7 Seater Standard BSIV</td>\n",
              "      <td>2017</td>\n",
              "      <td>350000</td>\n",
              "      <td>51000</td>\n",
              "      <td>Petrol</td>\n",
              "      <td>Dealer</td>\n",
              "      <td>Manual</td>\n",
              "      <td>First Owner</td>\n",
              "    </tr>\n",
              "  </tbody>\n",
              "</table>\n",
              "<p>2821 rows × 8 columns</p>\n",
              "</div>\n",
              "      <button class=\"colab-df-convert\" onclick=\"convertToInteractive('df-c613736e-949d-4d92-91c4-392e982590ef')\"\n",
              "              title=\"Convert this dataframe to an interactive table.\"\n",
              "              style=\"display:none;\">\n",
              "        \n",
              "  <svg xmlns=\"http://www.w3.org/2000/svg\" height=\"24px\"viewBox=\"0 0 24 24\"\n",
              "       width=\"24px\">\n",
              "    <path d=\"M0 0h24v24H0V0z\" fill=\"none\"/>\n",
              "    <path d=\"M18.56 5.44l.94 2.06.94-2.06 2.06-.94-2.06-.94-.94-2.06-.94 2.06-2.06.94zm-11 1L8.5 8.5l.94-2.06 2.06-.94-2.06-.94L8.5 2.5l-.94 2.06-2.06.94zm10 10l.94 2.06.94-2.06 2.06-.94-2.06-.94-.94-2.06-.94 2.06-2.06.94z\"/><path d=\"M17.41 7.96l-1.37-1.37c-.4-.4-.92-.59-1.43-.59-.52 0-1.04.2-1.43.59L10.3 9.45l-7.72 7.72c-.78.78-.78 2.05 0 2.83L4 21.41c.39.39.9.59 1.41.59.51 0 1.02-.2 1.41-.59l7.78-7.78 2.81-2.81c.8-.78.8-2.07 0-2.86zM5.41 20L4 18.59l7.72-7.72 1.47 1.35L5.41 20z\"/>\n",
              "  </svg>\n",
              "      </button>\n",
              "      \n",
              "  <style>\n",
              "    .colab-df-container {\n",
              "      display:flex;\n",
              "      flex-wrap:wrap;\n",
              "      gap: 12px;\n",
              "    }\n",
              "\n",
              "    .colab-df-convert {\n",
              "      background-color: #E8F0FE;\n",
              "      border: none;\n",
              "      border-radius: 50%;\n",
              "      cursor: pointer;\n",
              "      display: none;\n",
              "      fill: #1967D2;\n",
              "      height: 32px;\n",
              "      padding: 0 0 0 0;\n",
              "      width: 32px;\n",
              "    }\n",
              "\n",
              "    .colab-df-convert:hover {\n",
              "      background-color: #E2EBFA;\n",
              "      box-shadow: 0px 1px 2px rgba(60, 64, 67, 0.3), 0px 1px 3px 1px rgba(60, 64, 67, 0.15);\n",
              "      fill: #174EA6;\n",
              "    }\n",
              "\n",
              "    [theme=dark] .colab-df-convert {\n",
              "      background-color: #3B4455;\n",
              "      fill: #D2E3FC;\n",
              "    }\n",
              "\n",
              "    [theme=dark] .colab-df-convert:hover {\n",
              "      background-color: #434B5C;\n",
              "      box-shadow: 0px 1px 3px 1px rgba(0, 0, 0, 0.15);\n",
              "      filter: drop-shadow(0px 1px 2px rgba(0, 0, 0, 0.3));\n",
              "      fill: #FFFFFF;\n",
              "    }\n",
              "  </style>\n",
              "\n",
              "      <script>\n",
              "        const buttonEl =\n",
              "          document.querySelector('#df-c613736e-949d-4d92-91c4-392e982590ef button.colab-df-convert');\n",
              "        buttonEl.style.display =\n",
              "          google.colab.kernel.accessAllowed ? 'block' : 'none';\n",
              "\n",
              "        async function convertToInteractive(key) {\n",
              "          const element = document.querySelector('#df-c613736e-949d-4d92-91c4-392e982590ef');\n",
              "          const dataTable =\n",
              "            await google.colab.kernel.invokeFunction('convertToInteractive',\n",
              "                                                     [key], {});\n",
              "          if (!dataTable) return;\n",
              "\n",
              "          const docLinkHtml = 'Like what you see? Visit the ' +\n",
              "            '<a target=\"_blank\" href=https://colab.research.google.com/notebooks/data_table.ipynb>data table notebook</a>'\n",
              "            + ' to learn more about interactive tables.';\n",
              "          element.innerHTML = '';\n",
              "          dataTable['output_type'] = 'display_data';\n",
              "          await google.colab.output.renderOutput(dataTable, element);\n",
              "          const docLink = document.createElement('div');\n",
              "          docLink.innerHTML = docLinkHtml;\n",
              "          element.appendChild(docLink);\n",
              "        }\n",
              "      </script>\n",
              "    </div>\n",
              "  </div>\n",
              "  "
            ]
          },
          "metadata": {},
          "execution_count": 13
        }
      ],
      "source": [
        "rows = df.sample(frac =.65)\n",
        "rows"
      ]
    },
    {
      "cell_type": "markdown",
      "id": "b813a23e",
      "metadata": {
        "id": "b813a23e"
      },
      "source": [
        "277472 rows are created randomly, and from the above display we can see that Nulls are randomly generated too. It created 65% random data. \n",
        "\n",
        "Next, I will combine and shuffle these randomly created rows with original dataset. "
      ]
    },
    {
      "cell_type": "code",
      "execution_count": null,
      "id": "7886d662",
      "metadata": {
        "id": "7886d662",
        "outputId": "15c5536c-4cb5-4b0b-8c74-91af90d3febc",
        "colab": {
          "base_uri": "https://localhost:8080/",
          "height": 423
        }
      },
      "outputs": [
        {
          "output_type": "execute_result",
          "data": {
            "text/plain": [
              "                                    name  year  selling_price  km_driven  \\\n",
              "0                          Maruti 800 AC  2007          60000      70000   \n",
              "1               Maruti Wagon R LXI Minor  2007         135000      50000   \n",
              "2                   Hyundai Verna 1.6 SX  2012         600000     100000   \n",
              "3                 Datsun RediGO T Option  2017         250000      46000   \n",
              "4                  Honda Amaze VX i-DTEC  2014         450000     141000   \n",
              "...                                  ...   ...            ...        ...   \n",
              "387                  Maruti Alto 800 LXI  2016         130000      40000   \n",
              "2301  Volkswagen Jetta 2.0L TDI Highline  2015         790000      52517   \n",
              "2315   Skoda Octavia Elegance 2.0 TDI AT  2014        1200000     135000   \n",
              "2405    Honda Jazz Select Edition Active  2010         285000      60000   \n",
              "4040  Maruti Eeco 7 Seater Standard BSIV  2017         350000      51000   \n",
              "\n",
              "        fuel seller_type transmission         owner  \n",
              "0     Petrol  Individual       Manual   First Owner  \n",
              "1     Petrol  Individual       Manual   First Owner  \n",
              "2     Diesel  Individual       Manual   First Owner  \n",
              "3     Petrol  Individual       Manual   First Owner  \n",
              "4     Diesel  Individual       Manual  Second Owner  \n",
              "...      ...         ...          ...           ...  \n",
              "387   Petrol  Individual       Manual   First Owner  \n",
              "2301  Diesel      Dealer       Manual   First Owner  \n",
              "2315  Diesel  Individual    Automatic   Third Owner  \n",
              "2405  Petrol      Dealer       Manual  Second Owner  \n",
              "4040  Petrol      Dealer       Manual   First Owner  \n",
              "\n",
              "[7161 rows x 8 columns]"
            ],
            "text/html": [
              "\n",
              "  <div id=\"df-ca967de6-0a46-4bc2-8c3c-5a70fee66339\">\n",
              "    <div class=\"colab-df-container\">\n",
              "      <div>\n",
              "<style scoped>\n",
              "    .dataframe tbody tr th:only-of-type {\n",
              "        vertical-align: middle;\n",
              "    }\n",
              "\n",
              "    .dataframe tbody tr th {\n",
              "        vertical-align: top;\n",
              "    }\n",
              "\n",
              "    .dataframe thead th {\n",
              "        text-align: right;\n",
              "    }\n",
              "</style>\n",
              "<table border=\"1\" class=\"dataframe\">\n",
              "  <thead>\n",
              "    <tr style=\"text-align: right;\">\n",
              "      <th></th>\n",
              "      <th>name</th>\n",
              "      <th>year</th>\n",
              "      <th>selling_price</th>\n",
              "      <th>km_driven</th>\n",
              "      <th>fuel</th>\n",
              "      <th>seller_type</th>\n",
              "      <th>transmission</th>\n",
              "      <th>owner</th>\n",
              "    </tr>\n",
              "  </thead>\n",
              "  <tbody>\n",
              "    <tr>\n",
              "      <th>0</th>\n",
              "      <td>Maruti 800 AC</td>\n",
              "      <td>2007</td>\n",
              "      <td>60000</td>\n",
              "      <td>70000</td>\n",
              "      <td>Petrol</td>\n",
              "      <td>Individual</td>\n",
              "      <td>Manual</td>\n",
              "      <td>First Owner</td>\n",
              "    </tr>\n",
              "    <tr>\n",
              "      <th>1</th>\n",
              "      <td>Maruti Wagon R LXI Minor</td>\n",
              "      <td>2007</td>\n",
              "      <td>135000</td>\n",
              "      <td>50000</td>\n",
              "      <td>Petrol</td>\n",
              "      <td>Individual</td>\n",
              "      <td>Manual</td>\n",
              "      <td>First Owner</td>\n",
              "    </tr>\n",
              "    <tr>\n",
              "      <th>2</th>\n",
              "      <td>Hyundai Verna 1.6 SX</td>\n",
              "      <td>2012</td>\n",
              "      <td>600000</td>\n",
              "      <td>100000</td>\n",
              "      <td>Diesel</td>\n",
              "      <td>Individual</td>\n",
              "      <td>Manual</td>\n",
              "      <td>First Owner</td>\n",
              "    </tr>\n",
              "    <tr>\n",
              "      <th>3</th>\n",
              "      <td>Datsun RediGO T Option</td>\n",
              "      <td>2017</td>\n",
              "      <td>250000</td>\n",
              "      <td>46000</td>\n",
              "      <td>Petrol</td>\n",
              "      <td>Individual</td>\n",
              "      <td>Manual</td>\n",
              "      <td>First Owner</td>\n",
              "    </tr>\n",
              "    <tr>\n",
              "      <th>4</th>\n",
              "      <td>Honda Amaze VX i-DTEC</td>\n",
              "      <td>2014</td>\n",
              "      <td>450000</td>\n",
              "      <td>141000</td>\n",
              "      <td>Diesel</td>\n",
              "      <td>Individual</td>\n",
              "      <td>Manual</td>\n",
              "      <td>Second Owner</td>\n",
              "    </tr>\n",
              "    <tr>\n",
              "      <th>...</th>\n",
              "      <td>...</td>\n",
              "      <td>...</td>\n",
              "      <td>...</td>\n",
              "      <td>...</td>\n",
              "      <td>...</td>\n",
              "      <td>...</td>\n",
              "      <td>...</td>\n",
              "      <td>...</td>\n",
              "    </tr>\n",
              "    <tr>\n",
              "      <th>387</th>\n",
              "      <td>Maruti Alto 800 LXI</td>\n",
              "      <td>2016</td>\n",
              "      <td>130000</td>\n",
              "      <td>40000</td>\n",
              "      <td>Petrol</td>\n",
              "      <td>Individual</td>\n",
              "      <td>Manual</td>\n",
              "      <td>First Owner</td>\n",
              "    </tr>\n",
              "    <tr>\n",
              "      <th>2301</th>\n",
              "      <td>Volkswagen Jetta 2.0L TDI Highline</td>\n",
              "      <td>2015</td>\n",
              "      <td>790000</td>\n",
              "      <td>52517</td>\n",
              "      <td>Diesel</td>\n",
              "      <td>Dealer</td>\n",
              "      <td>Manual</td>\n",
              "      <td>First Owner</td>\n",
              "    </tr>\n",
              "    <tr>\n",
              "      <th>2315</th>\n",
              "      <td>Skoda Octavia Elegance 2.0 TDI AT</td>\n",
              "      <td>2014</td>\n",
              "      <td>1200000</td>\n",
              "      <td>135000</td>\n",
              "      <td>Diesel</td>\n",
              "      <td>Individual</td>\n",
              "      <td>Automatic</td>\n",
              "      <td>Third Owner</td>\n",
              "    </tr>\n",
              "    <tr>\n",
              "      <th>2405</th>\n",
              "      <td>Honda Jazz Select Edition Active</td>\n",
              "      <td>2010</td>\n",
              "      <td>285000</td>\n",
              "      <td>60000</td>\n",
              "      <td>Petrol</td>\n",
              "      <td>Dealer</td>\n",
              "      <td>Manual</td>\n",
              "      <td>Second Owner</td>\n",
              "    </tr>\n",
              "    <tr>\n",
              "      <th>4040</th>\n",
              "      <td>Maruti Eeco 7 Seater Standard BSIV</td>\n",
              "      <td>2017</td>\n",
              "      <td>350000</td>\n",
              "      <td>51000</td>\n",
              "      <td>Petrol</td>\n",
              "      <td>Dealer</td>\n",
              "      <td>Manual</td>\n",
              "      <td>First Owner</td>\n",
              "    </tr>\n",
              "  </tbody>\n",
              "</table>\n",
              "<p>7161 rows × 8 columns</p>\n",
              "</div>\n",
              "      <button class=\"colab-df-convert\" onclick=\"convertToInteractive('df-ca967de6-0a46-4bc2-8c3c-5a70fee66339')\"\n",
              "              title=\"Convert this dataframe to an interactive table.\"\n",
              "              style=\"display:none;\">\n",
              "        \n",
              "  <svg xmlns=\"http://www.w3.org/2000/svg\" height=\"24px\"viewBox=\"0 0 24 24\"\n",
              "       width=\"24px\">\n",
              "    <path d=\"M0 0h24v24H0V0z\" fill=\"none\"/>\n",
              "    <path d=\"M18.56 5.44l.94 2.06.94-2.06 2.06-.94-2.06-.94-.94-2.06-.94 2.06-2.06.94zm-11 1L8.5 8.5l.94-2.06 2.06-.94-2.06-.94L8.5 2.5l-.94 2.06-2.06.94zm10 10l.94 2.06.94-2.06 2.06-.94-2.06-.94-.94-2.06-.94 2.06-2.06.94z\"/><path d=\"M17.41 7.96l-1.37-1.37c-.4-.4-.92-.59-1.43-.59-.52 0-1.04.2-1.43.59L10.3 9.45l-7.72 7.72c-.78.78-.78 2.05 0 2.83L4 21.41c.39.39.9.59 1.41.59.51 0 1.02-.2 1.41-.59l7.78-7.78 2.81-2.81c.8-.78.8-2.07 0-2.86zM5.41 20L4 18.59l7.72-7.72 1.47 1.35L5.41 20z\"/>\n",
              "  </svg>\n",
              "      </button>\n",
              "      \n",
              "  <style>\n",
              "    .colab-df-container {\n",
              "      display:flex;\n",
              "      flex-wrap:wrap;\n",
              "      gap: 12px;\n",
              "    }\n",
              "\n",
              "    .colab-df-convert {\n",
              "      background-color: #E8F0FE;\n",
              "      border: none;\n",
              "      border-radius: 50%;\n",
              "      cursor: pointer;\n",
              "      display: none;\n",
              "      fill: #1967D2;\n",
              "      height: 32px;\n",
              "      padding: 0 0 0 0;\n",
              "      width: 32px;\n",
              "    }\n",
              "\n",
              "    .colab-df-convert:hover {\n",
              "      background-color: #E2EBFA;\n",
              "      box-shadow: 0px 1px 2px rgba(60, 64, 67, 0.3), 0px 1px 3px 1px rgba(60, 64, 67, 0.15);\n",
              "      fill: #174EA6;\n",
              "    }\n",
              "\n",
              "    [theme=dark] .colab-df-convert {\n",
              "      background-color: #3B4455;\n",
              "      fill: #D2E3FC;\n",
              "    }\n",
              "\n",
              "    [theme=dark] .colab-df-convert:hover {\n",
              "      background-color: #434B5C;\n",
              "      box-shadow: 0px 1px 3px 1px rgba(0, 0, 0, 0.15);\n",
              "      filter: drop-shadow(0px 1px 2px rgba(0, 0, 0, 0.3));\n",
              "      fill: #FFFFFF;\n",
              "    }\n",
              "  </style>\n",
              "\n",
              "      <script>\n",
              "        const buttonEl =\n",
              "          document.querySelector('#df-ca967de6-0a46-4bc2-8c3c-5a70fee66339 button.colab-df-convert');\n",
              "        buttonEl.style.display =\n",
              "          google.colab.kernel.accessAllowed ? 'block' : 'none';\n",
              "\n",
              "        async function convertToInteractive(key) {\n",
              "          const element = document.querySelector('#df-ca967de6-0a46-4bc2-8c3c-5a70fee66339');\n",
              "          const dataTable =\n",
              "            await google.colab.kernel.invokeFunction('convertToInteractive',\n",
              "                                                     [key], {});\n",
              "          if (!dataTable) return;\n",
              "\n",
              "          const docLinkHtml = 'Like what you see? Visit the ' +\n",
              "            '<a target=\"_blank\" href=https://colab.research.google.com/notebooks/data_table.ipynb>data table notebook</a>'\n",
              "            + ' to learn more about interactive tables.';\n",
              "          element.innerHTML = '';\n",
              "          dataTable['output_type'] = 'display_data';\n",
              "          await google.colab.output.renderOutput(dataTable, element);\n",
              "          const docLink = document.createElement('div');\n",
              "          docLink.innerHTML = docLinkHtml;\n",
              "          element.appendChild(docLink);\n",
              "        }\n",
              "      </script>\n",
              "    </div>\n",
              "  </div>\n",
              "  "
            ]
          },
          "metadata": {},
          "execution_count": 14
        }
      ],
      "source": [
        "df = pd.concat([df, rows])\n",
        "df"
      ]
    },
    {
      "cell_type": "code",
      "execution_count": null,
      "id": "3cccfdd2",
      "metadata": {
        "id": "3cccfdd2"
      },
      "outputs": [],
      "source": [
        ""
      ]
    },
    {
      "cell_type": "code",
      "execution_count": null,
      "id": "d34be3ac",
      "metadata": {
        "id": "d34be3ac"
      },
      "outputs": [],
      "source": [
        ""
      ]
    },
    {
      "cell_type": "markdown",
      "id": "e41e55f3",
      "metadata": {
        "id": "e41e55f3"
      },
      "source": [
        "#### Visualizing data"
      ]
    },
    {
      "cell_type": "markdown",
      "id": "ceb0c076",
      "metadata": {
        "id": "ceb0c076"
      },
      "source": [
        "Vehicle purchase from 2000 to 2021"
      ]
    },
    {
      "cell_type": "code",
      "execution_count": null,
      "id": "c4aae459",
      "metadata": {
        "id": "c4aae459",
        "outputId": "3a368529-940e-4c33-93bf-97fe5f405eea",
        "colab": {
          "base_uri": "https://localhost:8080/",
          "height": 300
        }
      },
      "outputs": [
        {
          "output_type": "display_data",
          "data": {
            "text/plain": [
              "<Figure size 1440x360 with 1 Axes>"
            ],
            "image/png": "[encoded data removed]"
          },
          "metadata": {
            "needs_background": "light"
          }
        }
      ],
      "source": [
        "df_year = df[(df[\"year\"]>1999) & (df[\"year\"]<2022)].copy()\n",
        "df_year[\"year\"] = df_year[\"year\"].astype(int)\n",
        "plt.figure(figsize=(20,5))\n",
        "plt.xticks(rotation= -35)\n",
        "sns.countplot(data= df_year,x=\"year\")\n",
        "plt.show()"
      ]
    },
    {
      "cell_type": "code",
      "execution_count": null,
      "id": "33ec7980",
      "metadata": {
        "id": "33ec7980",
        "outputId": "988641e6-9b51-444c-8cf4-309380dd5641",
        "colab": {
          "base_uri": "https://localhost:8080/",
          "height": 293
        }
      },
      "outputs": [
        {
          "output_type": "display_data",
          "data": {
            "text/plain": [
              "<Figure size 1440x360 with 1 Axes>"
            ],
            "image/png": "[encoded data removed]"
          },
          "metadata": {
            "needs_background": "light"
          }
        }
      ],
      "source": [
        "plt.figure(figsize=(20,5))\n",
        "plt.xticks(rotation= -35)\n",
        "sns.barplot(data= df_year,x=\"year\", y= \"selling_price\",estimator=median)\n",
        "plt.show()"
      ]
    },
    {
      "cell_type": "markdown",
      "id": "57a8fc2f",
      "metadata": {
        "id": "57a8fc2f"
      },
      "source": [
        "We can know vehicle's price is increasing from median graph. Except for 2021, since the dataset was created in 2021, not all records are present. "
      ]
    },
    {
      "cell_type": "markdown",
      "id": "ee7e00df",
      "metadata": {
        "id": "ee7e00df"
      },
      "source": [
        "#### Manufacturer company records\n",
        "\n",
        "to see which manufacturer is smallest to largest"
      ]
    },
    {
      "cell_type": "code",
      "execution_count": null,
      "id": "ffc073aa",
      "metadata": {
        "id": "ffc073aa"
      },
      "outputs": [],
      "source": [
        "df_year[\"tmp\"] = 1\n",
        "data = pd.pivot_table(df_year, index = \"manufacturer\", columns=\"year\",values=\"tmp\",aggfunc=np.sum)\n",
        "data = data.fillna(0)\n",
        "data.loc['others'] = data[data<200].sum()\n",
        "data[data<200] = 0\n",
        "\n",
        "plt.figure(figsize=(15,15))\n",
        "tmp_data1 = data[2000].sort_values(ascending=False)\n",
        "plt.subplot(221)\n",
        "\n",
        "tmp_data1[tmp_data1>0].plot.pie(autopct=\"%.1f%%\",title=\"2000\")\n",
        "plt.axis(\"off\")\n",
        "\n",
        "tmp_data2 = data[2005].sort_values(ascending=False)\n",
        "plt.subplot(222)\n",
        "\n",
        "tmp_data2[tmp_data2>0].plot.pie(autopct=\"%.1f%%\",title=\"2005\")\n",
        "plt.axis(\"off\")\n",
        "\n",
        "tmp_data3 = data[2010].sort_values(ascending=False)\n",
        "plt.subplot(223)\n",
        "tmp_data3[tmp_data3>0].plot.pie(autopct=\"%.1f%%\",title=\"2010\")\n",
        "plt.axis(\"off\")\n",
        "\n",
        "tmp_data4 = data[2020].sort_values(ascending=False)\n",
        "plt.subplot(224)\n",
        "\n",
        "tmp_data4[tmp_data4>0].plot.pie(autopct=\"%.1f%%\",title=\"2020\")\n",
        "plt.axis(\"off\")\n",
        "\n",
        "\n",
        "plt.show()"
      ]
    },
    {
      "cell_type": "markdown",
      "id": "3a648b87",
      "metadata": {
        "id": "3a648b87"
      },
      "source": [
        "#### Top 10 models comparing"
      ]
    },
    {
      "cell_type": "code",
      "execution_count": null,
      "id": "0ae07116",
      "metadata": {
        "id": "0ae07116",
        "outputId": "a3962ef8-c176-4896-e436-0d8b6072b368",
        "colab": {
          "base_uri": "https://localhost:8080/",
          "height": 337
        }
      },
      "outputs": [
        {
          "output_type": "display_data",
          "data": {
            "text/plain": [
              "<Figure size 1440x432 with 1 Axes>"
            ],
            "image/png": "[encoded data removed]"
          },
          "metadata": {
            "needs_background": "light"
          }
        }
      ],
      "source": [
        "df_year['name'].value_counts().head(10).plot.bar(figsize=(20,6),rot=0, title=\"Top 10 models\")\n",
        "plt.show()"
      ]
    },
    {
      "cell_type": "code",
      "execution_count": null,
      "id": "26af6a70",
      "metadata": {
        "id": "26af6a70"
      },
      "outputs": [],
      "source": [
        "#### Best and more bought color"
      ]
    },
    {
      "cell_type": "code",
      "execution_count": null,
      "id": "b88ac9be",
      "metadata": {
        "id": "b88ac9be"
      },
      "outputs": [],
      "source": [
        "# plt.figure(figsize=(15,4))\n",
        "# sns.countplot(data=df_year,x=\"paint_color\")\n",
        "# plt.show()"
      ]
    },
    {
      "cell_type": "markdown",
      "id": "ee983cf9",
      "metadata": {
        "id": "ee983cf9"
      },
      "source": [
        "The most famous color is white, black and silver"
      ]
    },
    {
      "cell_type": "markdown",
      "id": "3d508a1b",
      "metadata": {
        "id": "3d508a1b"
      },
      "source": [
        "#### Comparing color by condition\n",
        "\n",
        "for many buyers condition along with color matters alot, lets graoh it. "
      ]
    },
    {
      "cell_type": "code",
      "execution_count": null,
      "id": "225d76f3",
      "metadata": {
        "id": "225d76f3"
      },
      "outputs": [],
      "source": [
        "plt.figure(figsize=(15,4))\n",
        "sns.countplot(data=df_year, x=\"paint_color\", hue=\"condition\")\n",
        "plt.show()"
      ]
    },
    {
      "cell_type": "markdown",
      "id": "d35d493e",
      "metadata": {
        "id": "d35d493e"
      },
      "source": [
        "#### Plotng heat map\n",
        "\n",
        "Heat map to analyse data and their corelation with each other."
      ]
    },
    {
      "cell_type": "code",
      "execution_count": null,
      "id": "b99632dd",
      "metadata": {
        "scrolled": true,
        "id": "b99632dd"
      },
      "outputs": [],
      "source": [
        "sns.set_theme(style=\"white\")\n",
        "rs = np.random.RandomState(33)\n",
        "d = pd.DataFrame(data=rs.normal(size=(100, 11)),\n",
        "                 columns=list(df))\n",
        "corr = d.corr()\n",
        "mask = np.triu(np.ones_like(corr, dtype=bool))\n",
        "f, ax = plt.subplots(figsize=(11, 11))\n",
        "cmap = sns.diverging_palette(230, 20, as_cmap=True)\n",
        "sns.heatmap(corr, mask=mask, cmap=cmap, vmax=.3, center=0,\n",
        "            square=True, linewidths=.5, cbar_kws={\"shrink\": .5})"
      ]
    },
    {
      "cell_type": "markdown",
      "source": [
        "### 2.2) imbalancing (75%)"
      ],
      "metadata": {
        "id": "8gNmYe0DDk_K"
      },
      "id": "8gNmYe0DDk_K"
    },
    {
      "cell_type": "code",
      "execution_count": null,
      "id": "5d9f3393",
      "metadata": {
        "id": "5d9f3393",
        "outputId": "c37d049e-57e2-4ecd-d2a4-9a9624909fb4"
      },
      "outputs": [
        {
          "data": {
            "text/html": [
              "<div>\n",
              "<style scoped>\n",
              "    .dataframe tbody tr th:only-of-type {\n",
              "        vertical-align: middle;\n",
              "    }\n",
              "\n",
              "    .dataframe tbody tr th {\n",
              "        vertical-align: top;\n",
              "    }\n",
              "\n",
              "    .dataframe thead th {\n",
              "        text-align: right;\n",
              "    }\n",
              "</style>\n",
              "<table border=\"1\" class=\"dataframe\">\n",
              "  <thead>\n",
              "    <tr style=\"text-align: right;\">\n",
              "      <th></th>\n",
              "      <th>price</th>\n",
              "      <th>year</th>\n",
              "      <th>manufacturer</th>\n",
              "      <th>model</th>\n",
              "      <th>condition</th>\n",
              "      <th>transmission</th>\n",
              "      <th>type</th>\n",
              "      <th>paint_color</th>\n",
              "      <th>state</th>\n",
              "      <th>lat</th>\n",
              "      <th>long</th>\n",
              "    </tr>\n",
              "  </thead>\n",
              "  <tbody>\n",
              "    <tr>\n",
              "      <th>170079</th>\n",
              "      <td>20988</td>\n",
              "      <td>2014.0</td>\n",
              "      <td>chevrolet</td>\n",
              "      <td>silverado 1500 4x4 z71</td>\n",
              "      <td>excellent</td>\n",
              "      <td>automatic</td>\n",
              "      <td>pickup</td>\n",
              "      <td>white</td>\n",
              "      <td>ks</td>\n",
              "      <td>NaN</td>\n",
              "      <td>NaN</td>\n",
              "    </tr>\n",
              "    <tr>\n",
              "      <th>287442</th>\n",
              "      <td>17488</td>\n",
              "      <td>2018.0</td>\n",
              "      <td>hyundai</td>\n",
              "      <td>santa fe sport</td>\n",
              "      <td>excellent</td>\n",
              "      <td>automatic</td>\n",
              "      <td>SUV</td>\n",
              "      <td>white</td>\n",
              "      <td>oh</td>\n",
              "      <td>41.246430</td>\n",
              "      <td>-81.358530</td>\n",
              "    </tr>\n",
              "    <tr>\n",
              "      <th>279396</th>\n",
              "      <td>15990</td>\n",
              "      <td>2017.0</td>\n",
              "      <td>toyota</td>\n",
              "      <td>yaris ia sedan 4d</td>\n",
              "      <td>good</td>\n",
              "      <td>other</td>\n",
              "      <td>sedan</td>\n",
              "      <td>red</td>\n",
              "      <td>ny</td>\n",
              "      <td>43.160000</td>\n",
              "      <td>-77.610000</td>\n",
              "    </tr>\n",
              "    <tr>\n",
              "      <th>33580</th>\n",
              "      <td>4900</td>\n",
              "      <td>2009.0</td>\n",
              "      <td>bmw</td>\n",
              "      <td>335i</td>\n",
              "      <td>good</td>\n",
              "      <td>automatic</td>\n",
              "      <td>other</td>\n",
              "      <td>custom</td>\n",
              "      <td>ca</td>\n",
              "      <td>33.851200</td>\n",
              "      <td>-118.145700</td>\n",
              "    </tr>\n",
              "    <tr>\n",
              "      <th>141372</th>\n",
              "      <td>39995</td>\n",
              "      <td>1996.0</td>\n",
              "      <td>porsche</td>\n",
              "      <td>911 carrera</td>\n",
              "      <td>NaN</td>\n",
              "      <td>automatic</td>\n",
              "      <td>convertible</td>\n",
              "      <td>silver</td>\n",
              "      <td>il</td>\n",
              "      <td>41.572305</td>\n",
              "      <td>-88.113993</td>\n",
              "    </tr>\n",
              "    <tr>\n",
              "      <th>...</th>\n",
              "      <td>...</td>\n",
              "      <td>...</td>\n",
              "      <td>...</td>\n",
              "      <td>...</td>\n",
              "      <td>...</td>\n",
              "      <td>...</td>\n",
              "      <td>...</td>\n",
              "      <td>...</td>\n",
              "      <td>...</td>\n",
              "      <td>...</td>\n",
              "      <td>...</td>\n",
              "    </tr>\n",
              "    <tr>\n",
              "      <th>339788</th>\n",
              "      <td>18695</td>\n",
              "      <td>2013.0</td>\n",
              "      <td>ram</td>\n",
              "      <td>1500</td>\n",
              "      <td>NaN</td>\n",
              "      <td>automatic</td>\n",
              "      <td>pickup</td>\n",
              "      <td>NaN</td>\n",
              "      <td>pa</td>\n",
              "      <td>40.894535</td>\n",
              "      <td>-74.152367</td>\n",
              "    </tr>\n",
              "    <tr>\n",
              "      <th>412741</th>\n",
              "      <td>12999</td>\n",
              "      <td>2016.0</td>\n",
              "      <td>chevrolet</td>\n",
              "      <td>malibu lt</td>\n",
              "      <td>NaN</td>\n",
              "      <td>automatic</td>\n",
              "      <td>sedan</td>\n",
              "      <td>silver</td>\n",
              "      <td>wa</td>\n",
              "      <td>46.214960</td>\n",
              "      <td>-119.122349</td>\n",
              "    </tr>\n",
              "    <tr>\n",
              "      <th>251740</th>\n",
              "      <td>5999</td>\n",
              "      <td>2011.0</td>\n",
              "      <td>volkswagen</td>\n",
              "      <td>golf</td>\n",
              "      <td>NaN</td>\n",
              "      <td>automatic</td>\n",
              "      <td>other</td>\n",
              "      <td>blue</td>\n",
              "      <td>nj</td>\n",
              "      <td>40.319200</td>\n",
              "      <td>-74.428500</td>\n",
              "    </tr>\n",
              "    <tr>\n",
              "      <th>217995</th>\n",
              "      <td>27990</td>\n",
              "      <td>2019.0</td>\n",
              "      <td>infiniti</td>\n",
              "      <td>qx50 luxe sport utility</td>\n",
              "      <td>good</td>\n",
              "      <td>automatic</td>\n",
              "      <td>hatchback</td>\n",
              "      <td>NaN</td>\n",
              "      <td>mn</td>\n",
              "      <td>45.550000</td>\n",
              "      <td>-94.220000</td>\n",
              "    </tr>\n",
              "    <tr>\n",
              "      <th>363973</th>\n",
              "      <td>13500</td>\n",
              "      <td>2001.0</td>\n",
              "      <td>ram</td>\n",
              "      <td>3500 heavy duty</td>\n",
              "      <td>excellent</td>\n",
              "      <td>automatic</td>\n",
              "      <td>NaN</td>\n",
              "      <td>NaN</td>\n",
              "      <td>tx</td>\n",
              "      <td>30.376400</td>\n",
              "      <td>-97.707800</td>\n",
              "    </tr>\n",
              "  </tbody>\n",
              "</table>\n",
              "<p>320160 rows × 11 columns</p>\n",
              "</div>"
            ],
            "text/plain": [
              "        price    year manufacturer                    model  condition  \\\n",
              "170079  20988  2014.0    chevrolet   silverado 1500 4x4 z71  excellent   \n",
              "287442  17488  2018.0      hyundai           santa fe sport  excellent   \n",
              "279396  15990  2017.0       toyota        yaris ia sedan 4d       good   \n",
              "33580    4900  2009.0          bmw                     335i       good   \n",
              "141372  39995  1996.0      porsche              911 carrera        NaN   \n",
              "...       ...     ...          ...                      ...        ...   \n",
              "339788  18695  2013.0          ram                     1500        NaN   \n",
              "412741  12999  2016.0    chevrolet                malibu lt        NaN   \n",
              "251740   5999  2011.0   volkswagen                     golf        NaN   \n",
              "217995  27990  2019.0     infiniti  qx50 luxe sport utility       good   \n",
              "363973  13500  2001.0          ram          3500 heavy duty  excellent   \n",
              "\n",
              "       transmission         type paint_color state        lat        long  \n",
              "170079    automatic       pickup       white    ks        NaN         NaN  \n",
              "287442    automatic          SUV       white    oh  41.246430  -81.358530  \n",
              "279396        other        sedan         red    ny  43.160000  -77.610000  \n",
              "33580     automatic        other      custom    ca  33.851200 -118.145700  \n",
              "141372    automatic  convertible      silver    il  41.572305  -88.113993  \n",
              "...             ...          ...         ...   ...        ...         ...  \n",
              "339788    automatic       pickup         NaN    pa  40.894535  -74.152367  \n",
              "412741    automatic        sedan      silver    wa  46.214960 -119.122349  \n",
              "251740    automatic        other        blue    nj  40.319200  -74.428500  \n",
              "217995    automatic    hatchback         NaN    mn  45.550000  -94.220000  \n",
              "363973    automatic          NaN         NaN    tx  30.376400  -97.707800  \n",
              "\n",
              "[320160 rows x 11 columns]"
            ]
          },
          "execution_count": 48,
          "metadata": {},
          "output_type": "execute_result"
        }
      ],
      "source": [
        "df1=pd.read_csv('vehicles.csv')\n",
        "columns=[ \"price\", \"year\", \"manufacturer\", \"model\", \"condition\", \"transmission\", \"type\", \"paint_color\", \"state\", \"lat\", \"long\"]\n",
        "df1 = df1[columns]\n",
        "rows1 = df1.sample(frac =.75)\n",
        "rows1"
      ]
    },
    {
      "cell_type": "code",
      "execution_count": null,
      "id": "62e67a7f",
      "metadata": {
        "id": "62e67a7f",
        "outputId": "c16bd46c-3d69-40cb-93c2-ab72781c1514"
      },
      "outputs": [
        {
          "data": {
            "text/html": [
              "<div>\n",
              "<style scoped>\n",
              "    .dataframe tbody tr th:only-of-type {\n",
              "        vertical-align: middle;\n",
              "    }\n",
              "\n",
              "    .dataframe tbody tr th {\n",
              "        vertical-align: top;\n",
              "    }\n",
              "\n",
              "    .dataframe thead th {\n",
              "        text-align: right;\n",
              "    }\n",
              "</style>\n",
              "<table border=\"1\" class=\"dataframe\">\n",
              "  <thead>\n",
              "    <tr style=\"text-align: right;\">\n",
              "      <th></th>\n",
              "      <th>price</th>\n",
              "      <th>year</th>\n",
              "      <th>manufacturer</th>\n",
              "      <th>model</th>\n",
              "      <th>condition</th>\n",
              "      <th>transmission</th>\n",
              "      <th>type</th>\n",
              "      <th>paint_color</th>\n",
              "      <th>state</th>\n",
              "      <th>lat</th>\n",
              "      <th>long</th>\n",
              "    </tr>\n",
              "  </thead>\n",
              "  <tbody>\n",
              "    <tr>\n",
              "      <th>0</th>\n",
              "      <td>6000</td>\n",
              "      <td>NaN</td>\n",
              "      <td>NaN</td>\n",
              "      <td>NaN</td>\n",
              "      <td>NaN</td>\n",
              "      <td>NaN</td>\n",
              "      <td>NaN</td>\n",
              "      <td>NaN</td>\n",
              "      <td>az</td>\n",
              "      <td>NaN</td>\n",
              "      <td>NaN</td>\n",
              "    </tr>\n",
              "    <tr>\n",
              "      <th>1</th>\n",
              "      <td>11900</td>\n",
              "      <td>NaN</td>\n",
              "      <td>NaN</td>\n",
              "      <td>NaN</td>\n",
              "      <td>NaN</td>\n",
              "      <td>NaN</td>\n",
              "      <td>NaN</td>\n",
              "      <td>NaN</td>\n",
              "      <td>ar</td>\n",
              "      <td>NaN</td>\n",
              "      <td>NaN</td>\n",
              "    </tr>\n",
              "    <tr>\n",
              "      <th>2</th>\n",
              "      <td>21000</td>\n",
              "      <td>NaN</td>\n",
              "      <td>NaN</td>\n",
              "      <td>NaN</td>\n",
              "      <td>NaN</td>\n",
              "      <td>NaN</td>\n",
              "      <td>NaN</td>\n",
              "      <td>NaN</td>\n",
              "      <td>fl</td>\n",
              "      <td>NaN</td>\n",
              "      <td>NaN</td>\n",
              "    </tr>\n",
              "    <tr>\n",
              "      <th>3</th>\n",
              "      <td>1500</td>\n",
              "      <td>NaN</td>\n",
              "      <td>NaN</td>\n",
              "      <td>NaN</td>\n",
              "      <td>NaN</td>\n",
              "      <td>NaN</td>\n",
              "      <td>NaN</td>\n",
              "      <td>NaN</td>\n",
              "      <td>ma</td>\n",
              "      <td>NaN</td>\n",
              "      <td>NaN</td>\n",
              "    </tr>\n",
              "    <tr>\n",
              "      <th>4</th>\n",
              "      <td>4900</td>\n",
              "      <td>NaN</td>\n",
              "      <td>NaN</td>\n",
              "      <td>NaN</td>\n",
              "      <td>NaN</td>\n",
              "      <td>NaN</td>\n",
              "      <td>NaN</td>\n",
              "      <td>NaN</td>\n",
              "      <td>nc</td>\n",
              "      <td>NaN</td>\n",
              "      <td>NaN</td>\n",
              "    </tr>\n",
              "    <tr>\n",
              "      <th>...</th>\n",
              "      <td>...</td>\n",
              "      <td>...</td>\n",
              "      <td>...</td>\n",
              "      <td>...</td>\n",
              "      <td>...</td>\n",
              "      <td>...</td>\n",
              "      <td>...</td>\n",
              "      <td>...</td>\n",
              "      <td>...</td>\n",
              "      <td>...</td>\n",
              "      <td>...</td>\n",
              "    </tr>\n",
              "    <tr>\n",
              "      <th>339788</th>\n",
              "      <td>18695</td>\n",
              "      <td>2013.0</td>\n",
              "      <td>ram</td>\n",
              "      <td>1500</td>\n",
              "      <td>NaN</td>\n",
              "      <td>automatic</td>\n",
              "      <td>pickup</td>\n",
              "      <td>NaN</td>\n",
              "      <td>pa</td>\n",
              "      <td>40.894535</td>\n",
              "      <td>-74.152367</td>\n",
              "    </tr>\n",
              "    <tr>\n",
              "      <th>412741</th>\n",
              "      <td>12999</td>\n",
              "      <td>2016.0</td>\n",
              "      <td>chevrolet</td>\n",
              "      <td>malibu lt</td>\n",
              "      <td>NaN</td>\n",
              "      <td>automatic</td>\n",
              "      <td>sedan</td>\n",
              "      <td>silver</td>\n",
              "      <td>wa</td>\n",
              "      <td>46.214960</td>\n",
              "      <td>-119.122349</td>\n",
              "    </tr>\n",
              "    <tr>\n",
              "      <th>251740</th>\n",
              "      <td>5999</td>\n",
              "      <td>2011.0</td>\n",
              "      <td>volkswagen</td>\n",
              "      <td>golf</td>\n",
              "      <td>NaN</td>\n",
              "      <td>automatic</td>\n",
              "      <td>other</td>\n",
              "      <td>blue</td>\n",
              "      <td>nj</td>\n",
              "      <td>40.319200</td>\n",
              "      <td>-74.428500</td>\n",
              "    </tr>\n",
              "    <tr>\n",
              "      <th>217995</th>\n",
              "      <td>27990</td>\n",
              "      <td>2019.0</td>\n",
              "      <td>infiniti</td>\n",
              "      <td>qx50 luxe sport utility</td>\n",
              "      <td>good</td>\n",
              "      <td>automatic</td>\n",
              "      <td>hatchback</td>\n",
              "      <td>NaN</td>\n",
              "      <td>mn</td>\n",
              "      <td>45.550000</td>\n",
              "      <td>-94.220000</td>\n",
              "    </tr>\n",
              "    <tr>\n",
              "      <th>363973</th>\n",
              "      <td>13500</td>\n",
              "      <td>2001.0</td>\n",
              "      <td>ram</td>\n",
              "      <td>3500 heavy duty</td>\n",
              "      <td>excellent</td>\n",
              "      <td>automatic</td>\n",
              "      <td>NaN</td>\n",
              "      <td>NaN</td>\n",
              "      <td>tx</td>\n",
              "      <td>30.376400</td>\n",
              "      <td>-97.707800</td>\n",
              "    </tr>\n",
              "  </tbody>\n",
              "</table>\n",
              "<p>747040 rows × 11 columns</p>\n",
              "</div>"
            ],
            "text/plain": [
              "        price    year manufacturer                    model  condition  \\\n",
              "0        6000     NaN          NaN                      NaN        NaN   \n",
              "1       11900     NaN          NaN                      NaN        NaN   \n",
              "2       21000     NaN          NaN                      NaN        NaN   \n",
              "3        1500     NaN          NaN                      NaN        NaN   \n",
              "4        4900     NaN          NaN                      NaN        NaN   \n",
              "...       ...     ...          ...                      ...        ...   \n",
              "339788  18695  2013.0          ram                     1500        NaN   \n",
              "412741  12999  2016.0    chevrolet                malibu lt        NaN   \n",
              "251740   5999  2011.0   volkswagen                     golf        NaN   \n",
              "217995  27990  2019.0     infiniti  qx50 luxe sport utility       good   \n",
              "363973  13500  2001.0          ram          3500 heavy duty  excellent   \n",
              "\n",
              "       transmission       type paint_color state        lat        long  \n",
              "0               NaN        NaN         NaN    az        NaN         NaN  \n",
              "1               NaN        NaN         NaN    ar        NaN         NaN  \n",
              "2               NaN        NaN         NaN    fl        NaN         NaN  \n",
              "3               NaN        NaN         NaN    ma        NaN         NaN  \n",
              "4               NaN        NaN         NaN    nc        NaN         NaN  \n",
              "...             ...        ...         ...   ...        ...         ...  \n",
              "339788    automatic     pickup         NaN    pa  40.894535  -74.152367  \n",
              "412741    automatic      sedan      silver    wa  46.214960 -119.122349  \n",
              "251740    automatic      other        blue    nj  40.319200  -74.428500  \n",
              "217995    automatic  hatchback         NaN    mn  45.550000  -94.220000  \n",
              "363973    automatic        NaN         NaN    tx  30.376400  -97.707800  \n",
              "\n",
              "[747040 rows x 11 columns]"
            ]
          },
          "execution_count": 49,
          "metadata": {},
          "output_type": "execute_result"
        }
      ],
      "source": [
        "df1 = pd.concat([df1, rows1])\n",
        "df1"
      ]
    },
    {
      "cell_type": "code",
      "execution_count": null,
      "id": "38dc90fa",
      "metadata": {
        "id": "38dc90fa",
        "outputId": "3d550c7f-42f0-453b-a039-e357d95592c7"
      },
      "outputs": [
        {
          "data": {
            "text/plain": [
              "(305380, 11)"
            ]
          },
          "execution_count": 54,
          "metadata": {},
          "output_type": "execute_result"
        }
      ],
      "source": [
        "df1 = df1.dropna()\n",
        "df1.shape"
      ]
    },
    {
      "cell_type": "markdown",
      "id": "661c052e",
      "metadata": {
        "id": "661c052e"
      },
      "source": [
        "#### Visualizing data after imbalancing\n",
        "\n",
        "Vehicle purchase from 2000 to 2021"
      ]
    },
    {
      "cell_type": "code",
      "execution_count": null,
      "id": "b0bdaffd",
      "metadata": {
        "id": "b0bdaffd",
        "outputId": "d723b8f6-29ff-4e22-e6d2-e59f66a7d26b"
      },
      "outputs": [
        {
          "data": {
            "image/png": "[encoded data removed]",
            "text/plain": [
              "<Figure size 1440x360 with 1 Axes>"
            ]
          },
          "metadata": {},
          "output_type": "display_data"
        }
      ],
      "source": [
        "df_year = df1[(df1[\"year\"]>1999) & (df1[\"year\"]<2022)].copy()\n",
        "df_year[\"year\"] = df_year[\"year\"].astype(int)\n",
        "plt.figure(figsize=(20,5))\n",
        "plt.xticks(rotation= -35)\n",
        "sns.countplot(data= df_year,x=\"year\")\n",
        "plt.show()"
      ]
    },
    {
      "cell_type": "markdown",
      "id": "908a1c63",
      "metadata": {
        "id": "908a1c63"
      },
      "source": [
        "#### Comparing color by condition adrer 75% imbalancing"
      ]
    },
    {
      "cell_type": "code",
      "execution_count": null,
      "id": "51d45a10",
      "metadata": {
        "id": "51d45a10",
        "outputId": "cea113f9-0523-4572-8f41-6de1d3abd77f"
      },
      "outputs": [
        {
          "data": {
            "image/png": "[encoded data removed]",
            "text/plain": [
              "<Figure size 1080x288 with 1 Axes>"
            ]
          },
          "metadata": {},
          "output_type": "display_data"
        }
      ],
      "source": [
        "plt.figure(figsize=(15,4))\n",
        "sns.countplot(data=df_year, x=\"paint_color\", hue=\"condition\")\n",
        "plt.show()"
      ]
    },
    {
      "cell_type": "markdown",
      "id": "8107750e",
      "metadata": {
        "id": "8107750e"
      },
      "source": [
        "### 2.3) Imbalancing (95%)"
      ]
    },
    {
      "cell_type": "code",
      "execution_count": null,
      "id": "f7a564f9",
      "metadata": {
        "id": "f7a564f9",
        "outputId": "ba12eeb2-0916-4b55-d805-8c5dcd98ebce"
      },
      "outputs": [
        {
          "data": {
            "text/html": [
              "<div>\n",
              "<style scoped>\n",
              "    .dataframe tbody tr th:only-of-type {\n",
              "        vertical-align: middle;\n",
              "    }\n",
              "\n",
              "    .dataframe tbody tr th {\n",
              "        vertical-align: top;\n",
              "    }\n",
              "\n",
              "    .dataframe thead th {\n",
              "        text-align: right;\n",
              "    }\n",
              "</style>\n",
              "<table border=\"1\" class=\"dataframe\">\n",
              "  <thead>\n",
              "    <tr style=\"text-align: right;\">\n",
              "      <th></th>\n",
              "      <th>price</th>\n",
              "      <th>year</th>\n",
              "      <th>manufacturer</th>\n",
              "      <th>model</th>\n",
              "      <th>condition</th>\n",
              "      <th>transmission</th>\n",
              "      <th>type</th>\n",
              "      <th>paint_color</th>\n",
              "      <th>state</th>\n",
              "      <th>lat</th>\n",
              "      <th>long</th>\n",
              "    </tr>\n",
              "  </thead>\n",
              "  <tbody>\n",
              "    <tr>\n",
              "      <th>144736</th>\n",
              "      <td>33990</td>\n",
              "      <td>2018.0</td>\n",
              "      <td>gmc</td>\n",
              "      <td>sierra 1500 double cab sle</td>\n",
              "      <td>good</td>\n",
              "      <td>other</td>\n",
              "      <td>pickup</td>\n",
              "      <td>white</td>\n",
              "      <td>il</td>\n",
              "      <td>42.270000</td>\n",
              "      <td>-89.060000</td>\n",
              "    </tr>\n",
              "    <tr>\n",
              "      <th>408101</th>\n",
              "      <td>4999</td>\n",
              "      <td>2011.0</td>\n",
              "      <td>kia</td>\n",
              "      <td>sorento</td>\n",
              "      <td>excellent</td>\n",
              "      <td>automatic</td>\n",
              "      <td>SUV</td>\n",
              "      <td>black</td>\n",
              "      <td>wa</td>\n",
              "      <td>47.103695</td>\n",
              "      <td>-122.435819</td>\n",
              "    </tr>\n",
              "    <tr>\n",
              "      <th>155778</th>\n",
              "      <td>7500</td>\n",
              "      <td>2008.0</td>\n",
              "      <td>chrysler</td>\n",
              "      <td>sebring touring</td>\n",
              "      <td>like new</td>\n",
              "      <td>automatic</td>\n",
              "      <td>convertible</td>\n",
              "      <td>white</td>\n",
              "      <td>ia</td>\n",
              "      <td>41.963666</td>\n",
              "      <td>-91.720216</td>\n",
              "    </tr>\n",
              "    <tr>\n",
              "      <th>300904</th>\n",
              "      <td>15975</td>\n",
              "      <td>2010.0</td>\n",
              "      <td>chevrolet</td>\n",
              "      <td>silverado 1500</td>\n",
              "      <td>excellent</td>\n",
              "      <td>automatic</td>\n",
              "      <td>pickup</td>\n",
              "      <td>red</td>\n",
              "      <td>oh</td>\n",
              "      <td>40.071628</td>\n",
              "      <td>-80.859182</td>\n",
              "    </tr>\n",
              "    <tr>\n",
              "      <th>284916</th>\n",
              "      <td>7895</td>\n",
              "      <td>2012.0</td>\n",
              "      <td>jeep</td>\n",
              "      <td>compass latitude 4x4</td>\n",
              "      <td>excellent</td>\n",
              "      <td>automatic</td>\n",
              "      <td>SUV</td>\n",
              "      <td>red</td>\n",
              "      <td>nh</td>\n",
              "      <td>42.980400</td>\n",
              "      <td>-71.457402</td>\n",
              "    </tr>\n",
              "    <tr>\n",
              "      <th>...</th>\n",
              "      <td>...</td>\n",
              "      <td>...</td>\n",
              "      <td>...</td>\n",
              "      <td>...</td>\n",
              "      <td>...</td>\n",
              "      <td>...</td>\n",
              "      <td>...</td>\n",
              "      <td>...</td>\n",
              "      <td>...</td>\n",
              "      <td>...</td>\n",
              "      <td>...</td>\n",
              "    </tr>\n",
              "    <tr>\n",
              "      <th>6835</th>\n",
              "      <td>45995</td>\n",
              "      <td>2021.0</td>\n",
              "      <td>acura</td>\n",
              "      <td>tlx a-spec awd</td>\n",
              "      <td>excellent</td>\n",
              "      <td>automatic</td>\n",
              "      <td>sedan</td>\n",
              "      <td>grey</td>\n",
              "      <td>ak</td>\n",
              "      <td>61.217811</td>\n",
              "      <td>-149.870231</td>\n",
              "    </tr>\n",
              "    <tr>\n",
              "      <th>76751</th>\n",
              "      <td>29990</td>\n",
              "      <td>2019.0</td>\n",
              "      <td>kia</td>\n",
              "      <td>niro ev ex wagon 4d</td>\n",
              "      <td>good</td>\n",
              "      <td>other</td>\n",
              "      <td>wagon</td>\n",
              "      <td>black</td>\n",
              "      <td>co</td>\n",
              "      <td>39.760000</td>\n",
              "      <td>-104.870000</td>\n",
              "    </tr>\n",
              "    <tr>\n",
              "      <th>171171</th>\n",
              "      <td>15990</td>\n",
              "      <td>2017.0</td>\n",
              "      <td>ford</td>\n",
              "      <td>c-max hybrid se wagon 4d</td>\n",
              "      <td>good</td>\n",
              "      <td>other</td>\n",
              "      <td>wagon</td>\n",
              "      <td>blue</td>\n",
              "      <td>ky</td>\n",
              "      <td>38.040000</td>\n",
              "      <td>-84.450000</td>\n",
              "    </tr>\n",
              "    <tr>\n",
              "      <th>256529</th>\n",
              "      <td>4995</td>\n",
              "      <td>2010.0</td>\n",
              "      <td>honda</td>\n",
              "      <td>odyssey</td>\n",
              "      <td>good</td>\n",
              "      <td>automatic</td>\n",
              "      <td>van</td>\n",
              "      <td>black</td>\n",
              "      <td>nj</td>\n",
              "      <td>39.937155</td>\n",
              "      <td>-75.088194</td>\n",
              "    </tr>\n",
              "    <tr>\n",
              "      <th>77298</th>\n",
              "      <td>15590</td>\n",
              "      <td>2015.0</td>\n",
              "      <td>nissan</td>\n",
              "      <td>rogue select s sport</td>\n",
              "      <td>good</td>\n",
              "      <td>other</td>\n",
              "      <td>hatchback</td>\n",
              "      <td>white</td>\n",
              "      <td>co</td>\n",
              "      <td>39.760000</td>\n",
              "      <td>-104.870000</td>\n",
              "    </tr>\n",
              "  </tbody>\n",
              "</table>\n",
              "<p>290111 rows × 11 columns</p>\n",
              "</div>"
            ],
            "text/plain": [
              "        price    year manufacturer                       model  condition  \\\n",
              "144736  33990  2018.0          gmc  sierra 1500 double cab sle       good   \n",
              "408101   4999  2011.0          kia                     sorento  excellent   \n",
              "155778   7500  2008.0     chrysler             sebring touring   like new   \n",
              "300904  15975  2010.0    chevrolet              silverado 1500  excellent   \n",
              "284916   7895  2012.0         jeep        compass latitude 4x4  excellent   \n",
              "...       ...     ...          ...                         ...        ...   \n",
              "6835    45995  2021.0        acura              tlx a-spec awd  excellent   \n",
              "76751   29990  2019.0          kia         niro ev ex wagon 4d       good   \n",
              "171171  15990  2017.0         ford    c-max hybrid se wagon 4d       good   \n",
              "256529   4995  2010.0        honda                     odyssey       good   \n",
              "77298   15590  2015.0       nissan        rogue select s sport       good   \n",
              "\n",
              "       transmission         type paint_color state        lat        long  \n",
              "144736        other       pickup       white    il  42.270000  -89.060000  \n",
              "408101    automatic          SUV       black    wa  47.103695 -122.435819  \n",
              "155778    automatic  convertible       white    ia  41.963666  -91.720216  \n",
              "300904    automatic       pickup         red    oh  40.071628  -80.859182  \n",
              "284916    automatic          SUV         red    nh  42.980400  -71.457402  \n",
              "...             ...          ...         ...   ...        ...         ...  \n",
              "6835      automatic        sedan        grey    ak  61.217811 -149.870231  \n",
              "76751         other        wagon       black    co  39.760000 -104.870000  \n",
              "171171        other        wagon        blue    ky  38.040000  -84.450000  \n",
              "256529    automatic          van       black    nj  39.937155  -75.088194  \n",
              "77298         other    hatchback       white    co  39.760000 -104.870000  \n",
              "\n",
              "[290111 rows x 11 columns]"
            ]
          },
          "execution_count": 57,
          "metadata": {},
          "output_type": "execute_result"
        }
      ],
      "source": [
        "rows2  = df1.sample(frac =.95)\n",
        "rows2"
      ]
    },
    {
      "cell_type": "code",
      "execution_count": null,
      "id": "4e1b975d",
      "metadata": {
        "id": "4e1b975d",
        "outputId": "5f0aa9a5-f1b1-45c9-bdf9-fe0366b7a762"
      },
      "outputs": [
        {
          "data": {
            "text/html": [
              "<div>\n",
              "<style scoped>\n",
              "    .dataframe tbody tr th:only-of-type {\n",
              "        vertical-align: middle;\n",
              "    }\n",
              "\n",
              "    .dataframe tbody tr th {\n",
              "        vertical-align: top;\n",
              "    }\n",
              "\n",
              "    .dataframe thead th {\n",
              "        text-align: right;\n",
              "    }\n",
              "</style>\n",
              "<table border=\"1\" class=\"dataframe\">\n",
              "  <thead>\n",
              "    <tr style=\"text-align: right;\">\n",
              "      <th></th>\n",
              "      <th>price</th>\n",
              "      <th>year</th>\n",
              "      <th>manufacturer</th>\n",
              "      <th>model</th>\n",
              "      <th>condition</th>\n",
              "      <th>transmission</th>\n",
              "      <th>type</th>\n",
              "      <th>paint_color</th>\n",
              "      <th>state</th>\n",
              "      <th>lat</th>\n",
              "      <th>long</th>\n",
              "    </tr>\n",
              "  </thead>\n",
              "  <tbody>\n",
              "    <tr>\n",
              "      <th>27</th>\n",
              "      <td>33590</td>\n",
              "      <td>2014.0</td>\n",
              "      <td>gmc</td>\n",
              "      <td>sierra 1500 crew cab slt</td>\n",
              "      <td>good</td>\n",
              "      <td>other</td>\n",
              "      <td>pickup</td>\n",
              "      <td>white</td>\n",
              "      <td>al</td>\n",
              "      <td>32.590000</td>\n",
              "      <td>-85.480000</td>\n",
              "    </tr>\n",
              "    <tr>\n",
              "      <th>28</th>\n",
              "      <td>22590</td>\n",
              "      <td>2010.0</td>\n",
              "      <td>chevrolet</td>\n",
              "      <td>silverado 1500</td>\n",
              "      <td>good</td>\n",
              "      <td>other</td>\n",
              "      <td>pickup</td>\n",
              "      <td>blue</td>\n",
              "      <td>al</td>\n",
              "      <td>32.590000</td>\n",
              "      <td>-85.480000</td>\n",
              "    </tr>\n",
              "    <tr>\n",
              "      <th>29</th>\n",
              "      <td>39590</td>\n",
              "      <td>2020.0</td>\n",
              "      <td>chevrolet</td>\n",
              "      <td>silverado 1500 crew</td>\n",
              "      <td>good</td>\n",
              "      <td>other</td>\n",
              "      <td>pickup</td>\n",
              "      <td>red</td>\n",
              "      <td>al</td>\n",
              "      <td>32.590000</td>\n",
              "      <td>-85.480000</td>\n",
              "    </tr>\n",
              "    <tr>\n",
              "      <th>30</th>\n",
              "      <td>30990</td>\n",
              "      <td>2017.0</td>\n",
              "      <td>toyota</td>\n",
              "      <td>tundra double cab sr</td>\n",
              "      <td>good</td>\n",
              "      <td>other</td>\n",
              "      <td>pickup</td>\n",
              "      <td>red</td>\n",
              "      <td>al</td>\n",
              "      <td>32.590000</td>\n",
              "      <td>-85.480000</td>\n",
              "    </tr>\n",
              "    <tr>\n",
              "      <th>31</th>\n",
              "      <td>15000</td>\n",
              "      <td>2013.0</td>\n",
              "      <td>ford</td>\n",
              "      <td>f-150 xlt</td>\n",
              "      <td>excellent</td>\n",
              "      <td>automatic</td>\n",
              "      <td>truck</td>\n",
              "      <td>black</td>\n",
              "      <td>al</td>\n",
              "      <td>32.592000</td>\n",
              "      <td>-85.518900</td>\n",
              "    </tr>\n",
              "    <tr>\n",
              "      <th>...</th>\n",
              "      <td>...</td>\n",
              "      <td>...</td>\n",
              "      <td>...</td>\n",
              "      <td>...</td>\n",
              "      <td>...</td>\n",
              "      <td>...</td>\n",
              "      <td>...</td>\n",
              "      <td>...</td>\n",
              "      <td>...</td>\n",
              "      <td>...</td>\n",
              "      <td>...</td>\n",
              "    </tr>\n",
              "    <tr>\n",
              "      <th>6835</th>\n",
              "      <td>45995</td>\n",
              "      <td>2021.0</td>\n",
              "      <td>acura</td>\n",
              "      <td>tlx a-spec awd</td>\n",
              "      <td>excellent</td>\n",
              "      <td>automatic</td>\n",
              "      <td>sedan</td>\n",
              "      <td>grey</td>\n",
              "      <td>ak</td>\n",
              "      <td>61.217811</td>\n",
              "      <td>-149.870231</td>\n",
              "    </tr>\n",
              "    <tr>\n",
              "      <th>76751</th>\n",
              "      <td>29990</td>\n",
              "      <td>2019.0</td>\n",
              "      <td>kia</td>\n",
              "      <td>niro ev ex wagon 4d</td>\n",
              "      <td>good</td>\n",
              "      <td>other</td>\n",
              "      <td>wagon</td>\n",
              "      <td>black</td>\n",
              "      <td>co</td>\n",
              "      <td>39.760000</td>\n",
              "      <td>-104.870000</td>\n",
              "    </tr>\n",
              "    <tr>\n",
              "      <th>171171</th>\n",
              "      <td>15990</td>\n",
              "      <td>2017.0</td>\n",
              "      <td>ford</td>\n",
              "      <td>c-max hybrid se wagon 4d</td>\n",
              "      <td>good</td>\n",
              "      <td>other</td>\n",
              "      <td>wagon</td>\n",
              "      <td>blue</td>\n",
              "      <td>ky</td>\n",
              "      <td>38.040000</td>\n",
              "      <td>-84.450000</td>\n",
              "    </tr>\n",
              "    <tr>\n",
              "      <th>256529</th>\n",
              "      <td>4995</td>\n",
              "      <td>2010.0</td>\n",
              "      <td>honda</td>\n",
              "      <td>odyssey</td>\n",
              "      <td>good</td>\n",
              "      <td>automatic</td>\n",
              "      <td>van</td>\n",
              "      <td>black</td>\n",
              "      <td>nj</td>\n",
              "      <td>39.937155</td>\n",
              "      <td>-75.088194</td>\n",
              "    </tr>\n",
              "    <tr>\n",
              "      <th>77298</th>\n",
              "      <td>15590</td>\n",
              "      <td>2015.0</td>\n",
              "      <td>nissan</td>\n",
              "      <td>rogue select s sport</td>\n",
              "      <td>good</td>\n",
              "      <td>other</td>\n",
              "      <td>hatchback</td>\n",
              "      <td>white</td>\n",
              "      <td>co</td>\n",
              "      <td>39.760000</td>\n",
              "      <td>-104.870000</td>\n",
              "    </tr>\n",
              "  </tbody>\n",
              "</table>\n",
              "<p>595491 rows × 11 columns</p>\n",
              "</div>"
            ],
            "text/plain": [
              "        price    year manufacturer                     model  condition  \\\n",
              "27      33590  2014.0          gmc  sierra 1500 crew cab slt       good   \n",
              "28      22590  2010.0    chevrolet            silverado 1500       good   \n",
              "29      39590  2020.0    chevrolet       silverado 1500 crew       good   \n",
              "30      30990  2017.0       toyota      tundra double cab sr       good   \n",
              "31      15000  2013.0         ford                 f-150 xlt  excellent   \n",
              "...       ...     ...          ...                       ...        ...   \n",
              "6835    45995  2021.0        acura            tlx a-spec awd  excellent   \n",
              "76751   29990  2019.0          kia       niro ev ex wagon 4d       good   \n",
              "171171  15990  2017.0         ford  c-max hybrid se wagon 4d       good   \n",
              "256529   4995  2010.0        honda                   odyssey       good   \n",
              "77298   15590  2015.0       nissan      rogue select s sport       good   \n",
              "\n",
              "       transmission       type paint_color state        lat        long  \n",
              "27            other     pickup       white    al  32.590000  -85.480000  \n",
              "28            other     pickup        blue    al  32.590000  -85.480000  \n",
              "29            other     pickup         red    al  32.590000  -85.480000  \n",
              "30            other     pickup         red    al  32.590000  -85.480000  \n",
              "31        automatic      truck       black    al  32.592000  -85.518900  \n",
              "...             ...        ...         ...   ...        ...         ...  \n",
              "6835      automatic      sedan        grey    ak  61.217811 -149.870231  \n",
              "76751         other      wagon       black    co  39.760000 -104.870000  \n",
              "171171        other      wagon        blue    ky  38.040000  -84.450000  \n",
              "256529    automatic        van       black    nj  39.937155  -75.088194  \n",
              "77298         other  hatchback       white    co  39.760000 -104.870000  \n",
              "\n",
              "[595491 rows x 11 columns]"
            ]
          },
          "execution_count": 58,
          "metadata": {},
          "output_type": "execute_result"
        }
      ],
      "source": [
        "df2 = pd.concat([df1, rows2])\n",
        "df2"
      ]
    },
    {
      "cell_type": "code",
      "execution_count": null,
      "id": "38c398d1",
      "metadata": {
        "id": "38c398d1",
        "outputId": "936b3e9c-7d9f-4af4-fc5d-b3729e4dcd1a"
      },
      "outputs": [
        {
          "data": {
            "text/plain": [
              "price           0\n",
              "year            0\n",
              "manufacturer    0\n",
              "model           0\n",
              "condition       0\n",
              "transmission    0\n",
              "type            0\n",
              "paint_color     0\n",
              "state           0\n",
              "lat             0\n",
              "long            0\n",
              "dtype: int64"
            ]
          },
          "execution_count": 59,
          "metadata": {},
          "output_type": "execute_result"
        }
      ],
      "source": [
        "df2.isnull().sum()"
      ]
    },
    {
      "cell_type": "code",
      "execution_count": null,
      "id": "28fae698",
      "metadata": {
        "id": "28fae698",
        "outputId": "94455421-1529-4e27-9737-ab13cf7f7564"
      },
      "outputs": [
        {
          "data": {
            "image/png": "[encoded data removed]",
            "text/plain": [
              "<Figure size 1440x360 with 1 Axes>"
            ]
          },
          "metadata": {},
          "output_type": "display_data"
        }
      ],
      "source": [
        "df_year = df1[(df1[\"year\"]>1999) & (df1[\"year\"]<2022)].copy()\n",
        "df_year[\"year\"] = df_year[\"year\"].astype(int)\n",
        "plt.figure(figsize=(20,5))\n",
        "plt.xticks(rotation= -35)\n",
        "sns.countplot(data= df_year,x=\"year\")\n",
        "plt.show()"
      ]
    },
    {
      "cell_type": "markdown",
      "source": [
        "# 3) Preprocessing on the dataset"
      ],
      "metadata": {
        "id": "GrwoRPuTErd0"
      },
      "id": "GrwoRPuTErd0"
    },
    {
      "cell_type": "markdown",
      "source": [
        "##### Introdcuing a new column price category which will destribute prices in to 3 categories, low, medium and high, based on prices. "
      ],
      "metadata": {
        "id": "R29kLbikmN4M"
      },
      "id": "R29kLbikmN4M"
    },
    {
      "cell_type": "code",
      "source": [
        "df['Price Category'] = np.where(df.selling_price <= 100000, 1, \n",
        "                                  np.where(df.selling_price >= 1200000, 3, 2))\n",
        "\n",
        "df['fuel'] = np.where(df.fuel == 'Petrol', 1,\n",
        "                      np.where(df.fuel == 'Diesel', 2, 3))\n",
        "\n",
        "df['seller_type'] = np.where(df.seller_type == 'Individual', 1, 2)\n",
        "df['transmission'] = np.where(df.transmission == 'Manual', 1,\n",
        "                      np.where(df.transmission == 'Automatic', 2, 3))\n",
        "df['owner'] = np.where(df.owner == 'First Owner', 1,\n",
        "                      np.where(df.owner == 'Second Owner', 2, 3))\n",
        "df.drop('name', axis=1, inplace=True)\n",
        "df                      "
      ],
      "metadata": {
        "id": "DFS8ihcjEv36",
        "colab": {
          "base_uri": "https://localhost:8080/",
          "height": 423
        },
        "outputId": "a85a65b2-23b4-4b4e-8b70-42f6256de0dc"
      },
      "id": "DFS8ihcjEv36",
      "execution_count": null,
      "outputs": [
        {
          "output_type": "execute_result",
          "data": {
            "text/plain": [
              "      year  selling_price  km_driven  fuel  seller_type  transmission  owner  \\\n",
              "0     2007          60000      70000     1            1             1      1   \n",
              "1     2007         135000      50000     1            1             1      1   \n",
              "2     2012         600000     100000     2            1             1      1   \n",
              "3     2017         250000      46000     1            1             1      1   \n",
              "4     2014         450000     141000     2            1             1      2   \n",
              "...    ...            ...        ...   ...          ...           ...    ...   \n",
              "4335  2014         409999      80000     2            1             1      2   \n",
              "4336  2014         409999      80000     2            1             1      2   \n",
              "4337  2009         110000      83000     1            1             1      2   \n",
              "4338  2016         865000      90000     2            1             1      1   \n",
              "4339  2016         225000      40000     1            1             1      1   \n",
              "\n",
              "      Price Category  \n",
              "0                  1  \n",
              "1                  2  \n",
              "2                  2  \n",
              "3                  2  \n",
              "4                  2  \n",
              "...              ...  \n",
              "4335               2  \n",
              "4336               2  \n",
              "4337               2  \n",
              "4338               2  \n",
              "4339               2  \n",
              "\n",
              "[4340 rows x 8 columns]"
            ],
            "text/html": [
              "\n",
              "  <div id=\"df-af1818ea-2bec-4c75-bb3c-4250c598cbff\">\n",
              "    <div class=\"colab-df-container\">\n",
              "      <div>\n",
              "<style scoped>\n",
              "    .dataframe tbody tr th:only-of-type {\n",
              "        vertical-align: middle;\n",
              "    }\n",
              "\n",
              "    .dataframe tbody tr th {\n",
              "        vertical-align: top;\n",
              "    }\n",
              "\n",
              "    .dataframe thead th {\n",
              "        text-align: right;\n",
              "    }\n",
              "</style>\n",
              "<table border=\"1\" class=\"dataframe\">\n",
              "  <thead>\n",
              "    <tr style=\"text-align: right;\">\n",
              "      <th></th>\n",
              "      <th>year</th>\n",
              "      <th>selling_price</th>\n",
              "      <th>km_driven</th>\n",
              "      <th>fuel</th>\n",
              "      <th>seller_type</th>\n",
              "      <th>transmission</th>\n",
              "      <th>owner</th>\n",
              "      <th>Price Category</th>\n",
              "    </tr>\n",
              "  </thead>\n",
              "  <tbody>\n",
              "    <tr>\n",
              "      <th>0</th>\n",
              "      <td>2007</td>\n",
              "      <td>60000</td>\n",
              "      <td>70000</td>\n",
              "      <td>1</td>\n",
              "      <td>1</td>\n",
              "      <td>1</td>\n",
              "      <td>1</td>\n",
              "      <td>1</td>\n",
              "    </tr>\n",
              "    <tr>\n",
              "      <th>1</th>\n",
              "      <td>2007</td>\n",
              "      <td>135000</td>\n",
              "      <td>50000</td>\n",
              "      <td>1</td>\n",
              "      <td>1</td>\n",
              "      <td>1</td>\n",
              "      <td>1</td>\n",
              "      <td>2</td>\n",
              "    </tr>\n",
              "    <tr>\n",
              "      <th>2</th>\n",
              "      <td>2012</td>\n",
              "      <td>600000</td>\n",
              "      <td>100000</td>\n",
              "      <td>2</td>\n",
              "      <td>1</td>\n",
              "      <td>1</td>\n",
              "      <td>1</td>\n",
              "      <td>2</td>\n",
              "    </tr>\n",
              "    <tr>\n",
              "      <th>3</th>\n",
              "      <td>2017</td>\n",
              "      <td>250000</td>\n",
              "      <td>46000</td>\n",
              "      <td>1</td>\n",
              "      <td>1</td>\n",
              "      <td>1</td>\n",
              "      <td>1</td>\n",
              "      <td>2</td>\n",
              "    </tr>\n",
              "    <tr>\n",
              "      <th>4</th>\n",
              "      <td>2014</td>\n",
              "      <td>450000</td>\n",
              "      <td>141000</td>\n",
              "      <td>2</td>\n",
              "      <td>1</td>\n",
              "      <td>1</td>\n",
              "      <td>2</td>\n",
              "      <td>2</td>\n",
              "    </tr>\n",
              "    <tr>\n",
              "      <th>...</th>\n",
              "      <td>...</td>\n",
              "      <td>...</td>\n",
              "      <td>...</td>\n",
              "      <td>...</td>\n",
              "      <td>...</td>\n",
              "      <td>...</td>\n",
              "      <td>...</td>\n",
              "      <td>...</td>\n",
              "    </tr>\n",
              "    <tr>\n",
              "      <th>4335</th>\n",
              "      <td>2014</td>\n",
              "      <td>409999</td>\n",
              "      <td>80000</td>\n",
              "      <td>2</td>\n",
              "      <td>1</td>\n",
              "      <td>1</td>\n",
              "      <td>2</td>\n",
              "      <td>2</td>\n",
              "    </tr>\n",
              "    <tr>\n",
              "      <th>4336</th>\n",
              "      <td>2014</td>\n",
              "      <td>409999</td>\n",
              "      <td>80000</td>\n",
              "      <td>2</td>\n",
              "      <td>1</td>\n",
              "      <td>1</td>\n",
              "      <td>2</td>\n",
              "      <td>2</td>\n",
              "    </tr>\n",
              "    <tr>\n",
              "      <th>4337</th>\n",
              "      <td>2009</td>\n",
              "      <td>110000</td>\n",
              "      <td>83000</td>\n",
              "      <td>1</td>\n",
              "      <td>1</td>\n",
              "      <td>1</td>\n",
              "      <td>2</td>\n",
              "      <td>2</td>\n",
              "    </tr>\n",
              "    <tr>\n",
              "      <th>4338</th>\n",
              "      <td>2016</td>\n",
              "      <td>865000</td>\n",
              "      <td>90000</td>\n",
              "      <td>2</td>\n",
              "      <td>1</td>\n",
              "      <td>1</td>\n",
              "      <td>1</td>\n",
              "      <td>2</td>\n",
              "    </tr>\n",
              "    <tr>\n",
              "      <th>4339</th>\n",
              "      <td>2016</td>\n",
              "      <td>225000</td>\n",
              "      <td>40000</td>\n",
              "      <td>1</td>\n",
              "      <td>1</td>\n",
              "      <td>1</td>\n",
              "      <td>1</td>\n",
              "      <td>2</td>\n",
              "    </tr>\n",
              "  </tbody>\n",
              "</table>\n",
              "<p>4340 rows × 8 columns</p>\n",
              "</div>\n",
              "      <button class=\"colab-df-convert\" onclick=\"convertToInteractive('df-af1818ea-2bec-4c75-bb3c-4250c598cbff')\"\n",
              "              title=\"Convert this dataframe to an interactive table.\"\n",
              "              style=\"display:none;\">\n",
              "        \n",
              "  <svg xmlns=\"http://www.w3.org/2000/svg\" height=\"24px\"viewBox=\"0 0 24 24\"\n",
              "       width=\"24px\">\n",
              "    <path d=\"M0 0h24v24H0V0z\" fill=\"none\"/>\n",
              "    <path d=\"M18.56 5.44l.94 2.06.94-2.06 2.06-.94-2.06-.94-.94-2.06-.94 2.06-2.06.94zm-11 1L8.5 8.5l.94-2.06 2.06-.94-2.06-.94L8.5 2.5l-.94 2.06-2.06.94zm10 10l.94 2.06.94-2.06 2.06-.94-2.06-.94-.94-2.06-.94 2.06-2.06.94z\"/><path d=\"M17.41 7.96l-1.37-1.37c-.4-.4-.92-.59-1.43-.59-.52 0-1.04.2-1.43.59L10.3 9.45l-7.72 7.72c-.78.78-.78 2.05 0 2.83L4 21.41c.39.39.9.59 1.41.59.51 0 1.02-.2 1.41-.59l7.78-7.78 2.81-2.81c.8-.78.8-2.07 0-2.86zM5.41 20L4 18.59l7.72-7.72 1.47 1.35L5.41 20z\"/>\n",
              "  </svg>\n",
              "      </button>\n",
              "      \n",
              "  <style>\n",
              "    .colab-df-container {\n",
              "      display:flex;\n",
              "      flex-wrap:wrap;\n",
              "      gap: 12px;\n",
              "    }\n",
              "\n",
              "    .colab-df-convert {\n",
              "      background-color: #E8F0FE;\n",
              "      border: none;\n",
              "      border-radius: 50%;\n",
              "      cursor: pointer;\n",
              "      display: none;\n",
              "      fill: #1967D2;\n",
              "      height: 32px;\n",
              "      padding: 0 0 0 0;\n",
              "      width: 32px;\n",
              "    }\n",
              "\n",
              "    .colab-df-convert:hover {\n",
              "      background-color: #E2EBFA;\n",
              "      box-shadow: 0px 1px 2px rgba(60, 64, 67, 0.3), 0px 1px 3px 1px rgba(60, 64, 67, 0.15);\n",
              "      fill: #174EA6;\n",
              "    }\n",
              "\n",
              "    [theme=dark] .colab-df-convert {\n",
              "      background-color: #3B4455;\n",
              "      fill: #D2E3FC;\n",
              "    }\n",
              "\n",
              "    [theme=dark] .colab-df-convert:hover {\n",
              "      background-color: #434B5C;\n",
              "      box-shadow: 0px 1px 3px 1px rgba(0, 0, 0, 0.15);\n",
              "      filter: drop-shadow(0px 1px 2px rgba(0, 0, 0, 0.3));\n",
              "      fill: #FFFFFF;\n",
              "    }\n",
              "  </style>\n",
              "\n",
              "      <script>\n",
              "        const buttonEl =\n",
              "          document.querySelector('#df-af1818ea-2bec-4c75-bb3c-4250c598cbff button.colab-df-convert');\n",
              "        buttonEl.style.display =\n",
              "          google.colab.kernel.accessAllowed ? 'block' : 'none';\n",
              "\n",
              "        async function convertToInteractive(key) {\n",
              "          const element = document.querySelector('#df-af1818ea-2bec-4c75-bb3c-4250c598cbff');\n",
              "          const dataTable =\n",
              "            await google.colab.kernel.invokeFunction('convertToInteractive',\n",
              "                                                     [key], {});\n",
              "          if (!dataTable) return;\n",
              "\n",
              "          const docLinkHtml = 'Like what you see? Visit the ' +\n",
              "            '<a target=\"_blank\" href=https://colab.research.google.com/notebooks/data_table.ipynb>data table notebook</a>'\n",
              "            + ' to learn more about interactive tables.';\n",
              "          element.innerHTML = '';\n",
              "          dataTable['output_type'] = 'display_data';\n",
              "          await google.colab.output.renderOutput(dataTable, element);\n",
              "          const docLink = document.createElement('div');\n",
              "          docLink.innerHTML = docLinkHtml;\n",
              "          element.appendChild(docLink);\n",
              "        }\n",
              "      </script>\n",
              "    </div>\n",
              "  </div>\n",
              "  "
            ]
          },
          "metadata": {},
          "execution_count": 12
        }
      ]
    },
    {
      "cell_type": "code",
      "source": [
        "df.to_csv (r'/content/2nd Dataset Car Dekho.csv', index = False, header=True)"
      ],
      "metadata": {
        "id": "SCWWiIdWSuJu"
      },
      "id": "SCWWiIdWSuJu",
      "execution_count": null,
      "outputs": []
    },
    {
      "cell_type": "code",
      "source": [
        "print(df)\n"
      ],
      "metadata": {
        "colab": {
          "base_uri": "https://localhost:8080/"
        },
        "id": "nEqcxNsW2oYf",
        "outputId": "dd5f9d8a-3219-4d85-81e6-b0656f2da686"
      },
      "id": "nEqcxNsW2oYf",
      "execution_count": null,
      "outputs": [
        {
          "output_type": "stream",
          "name": "stdout",
          "text": [
            "      year  selling_price  km_driven  fuel  seller_type  transmission  owner  \\\n",
            "0     2007          60000      70000     1            1             1      1   \n",
            "1     2007         135000      50000     1            1             1      1   \n",
            "2     2012         600000     100000     2            1             1      1   \n",
            "3     2017         250000      46000     1            1             1      1   \n",
            "4     2014         450000     141000     2            1             1      2   \n",
            "...    ...            ...        ...   ...          ...           ...    ...   \n",
            "4335  2014         409999      80000     2            1             1      2   \n",
            "4336  2014         409999      80000     2            1             1      2   \n",
            "4337  2009         110000      83000     1            1             1      2   \n",
            "4338  2016         865000      90000     2            1             1      1   \n",
            "4339  2016         225000      40000     1            1             1      1   \n",
            "\n",
            "      Price Category  \n",
            "0                  1  \n",
            "1                  2  \n",
            "2                  2  \n",
            "3                  2  \n",
            "4                  2  \n",
            "...              ...  \n",
            "4335               2  \n",
            "4336               2  \n",
            "4337               2  \n",
            "4338               2  \n",
            "4339               2  \n",
            "\n",
            "[4340 rows x 8 columns]\n"
          ]
        }
      ]
    },
    {
      "cell_type": "markdown",
      "source": [
        "# 4) Prediction,training: for this decision tree, xgboost and random forest are used."
      ],
      "metadata": {
        "id": "O7fJOGVpE3ta"
      },
      "id": "O7fJOGVpE3ta"
    },
    {
      "cell_type": "markdown",
      "source": [
        "###4.1 Lightgbm\n",
        "\n",
        "I selected Lightgbm initially for this project as it provide effective and efficient implementation. But I face some errors, I tried to solve them whole day but couldn't reaeched the solution. "
      ],
      "metadata": {
        "id": "XAUjh7jW4nqL"
      },
      "id": "XAUjh7jW4nqL"
    },
    {
      "cell_type": "code",
      "source": [
        "X, y = df.iloc[:,:-1],df.iloc[:,-1]\n",
        "data_dmatrix = xgb.DMatrix(data=X,label=y)"
      ],
      "metadata": {
        "id": "hAiBZ3BeBYew"
      },
      "id": "hAiBZ3BeBYew",
      "execution_count": null,
      "outputs": []
    },
    {
      "cell_type": "code",
      "source": [
        "from sklearn.model_selection import train_test_split\n",
        "\n",
        "X_train, X_test, y_train, y_test = train_test_split(X, y, test_size=0.2, random_state=123)"
      ],
      "metadata": {
        "id": "XAKOdhb_BK9j"
      },
      "id": "XAKOdhb_BK9j",
      "execution_count": null,
      "outputs": []
    },
    {
      "cell_type": "code",
      "source": [
        "# y_train = training_data['Price Category']\n",
        "# X_train = training_data.drop(['Price Category'], axis=1)\n",
        "X_test"
      ],
      "metadata": {
        "colab": {
          "base_uri": "https://localhost:8080/",
          "height": 423
        },
        "id": "Vgno1U3xpAim",
        "outputId": "2a5cf558-a9cb-47b6-d690-8ee80eec74c2"
      },
      "id": "Vgno1U3xpAim",
      "execution_count": null,
      "outputs": [
        {
          "output_type": "execute_result",
          "data": {
            "text/plain": [
              "      year  selling_price  km_driven  fuel  seller_type  transmission  owner\n",
              "527   2017        2750000      41000     2            1             2      1\n",
              "2524  2015         225000      68745     2            2             1      1\n",
              "1109  2016         120000     120000     1            1             1      1\n",
              "3939  2017         725000      36000     2            2             1      1\n",
              "3753  2014         600000      87000     2            1             1      2\n",
              "...    ...            ...        ...   ...          ...           ...    ...\n",
              "3299  2010         170000      70000     1            1             1      1\n",
              "3859  2018         625000      13800     1            1             2      1\n",
              "1589  2013         325000      94000     2            1             1      2\n",
              "2311  2014         275000      30000     1            1             1      1\n",
              "4335  2014         409999      80000     2            1             1      2\n",
              "\n",
              "[868 rows x 7 columns]"
            ],
            "text/html": [
              "\n",
              "  <div id=\"df-967a455c-c323-43a4-8840-b5ca1f02afd4\">\n",
              "    <div class=\"colab-df-container\">\n",
              "      <div>\n",
              "<style scoped>\n",
              "    .dataframe tbody tr th:only-of-type {\n",
              "        vertical-align: middle;\n",
              "    }\n",
              "\n",
              "    .dataframe tbody tr th {\n",
              "        vertical-align: top;\n",
              "    }\n",
              "\n",
              "    .dataframe thead th {\n",
              "        text-align: right;\n",
              "    }\n",
              "</style>\n",
              "<table border=\"1\" class=\"dataframe\">\n",
              "  <thead>\n",
              "    <tr style=\"text-align: right;\">\n",
              "      <th></th>\n",
              "      <th>year</th>\n",
              "      <th>selling_price</th>\n",
              "      <th>km_driven</th>\n",
              "      <th>fuel</th>\n",
              "      <th>seller_type</th>\n",
              "      <th>transmission</th>\n",
              "      <th>owner</th>\n",
              "    </tr>\n",
              "  </thead>\n",
              "  <tbody>\n",
              "    <tr>\n",
              "      <th>527</th>\n",
              "      <td>2017</td>\n",
              "      <td>2750000</td>\n",
              "      <td>41000</td>\n",
              "      <td>2</td>\n",
              "      <td>1</td>\n",
              "      <td>2</td>\n",
              "      <td>1</td>\n",
              "    </tr>\n",
              "    <tr>\n",
              "      <th>2524</th>\n",
              "      <td>2015</td>\n",
              "      <td>225000</td>\n",
              "      <td>68745</td>\n",
              "      <td>2</td>\n",
              "      <td>2</td>\n",
              "      <td>1</td>\n",
              "      <td>1</td>\n",
              "    </tr>\n",
              "    <tr>\n",
              "      <th>1109</th>\n",
              "      <td>2016</td>\n",
              "      <td>120000</td>\n",
              "      <td>120000</td>\n",
              "      <td>1</td>\n",
              "      <td>1</td>\n",
              "      <td>1</td>\n",
              "      <td>1</td>\n",
              "    </tr>\n",
              "    <tr>\n",
              "      <th>3939</th>\n",
              "      <td>2017</td>\n",
              "      <td>725000</td>\n",
              "      <td>36000</td>\n",
              "      <td>2</td>\n",
              "      <td>2</td>\n",
              "      <td>1</td>\n",
              "      <td>1</td>\n",
              "    </tr>\n",
              "    <tr>\n",
              "      <th>3753</th>\n",
              "      <td>2014</td>\n",
              "      <td>600000</td>\n",
              "      <td>87000</td>\n",
              "      <td>2</td>\n",
              "      <td>1</td>\n",
              "      <td>1</td>\n",
              "      <td>2</td>\n",
              "    </tr>\n",
              "    <tr>\n",
              "      <th>...</th>\n",
              "      <td>...</td>\n",
              "      <td>...</td>\n",
              "      <td>...</td>\n",
              "      <td>...</td>\n",
              "      <td>...</td>\n",
              "      <td>...</td>\n",
              "      <td>...</td>\n",
              "    </tr>\n",
              "    <tr>\n",
              "      <th>3299</th>\n",
              "      <td>2010</td>\n",
              "      <td>170000</td>\n",
              "      <td>70000</td>\n",
              "      <td>1</td>\n",
              "      <td>1</td>\n",
              "      <td>1</td>\n",
              "      <td>1</td>\n",
              "    </tr>\n",
              "    <tr>\n",
              "      <th>3859</th>\n",
              "      <td>2018</td>\n",
              "      <td>625000</td>\n",
              "      <td>13800</td>\n",
              "      <td>1</td>\n",
              "      <td>1</td>\n",
              "      <td>2</td>\n",
              "      <td>1</td>\n",
              "    </tr>\n",
              "    <tr>\n",
              "      <th>1589</th>\n",
              "      <td>2013</td>\n",
              "      <td>325000</td>\n",
              "      <td>94000</td>\n",
              "      <td>2</td>\n",
              "      <td>1</td>\n",
              "      <td>1</td>\n",
              "      <td>2</td>\n",
              "    </tr>\n",
              "    <tr>\n",
              "      <th>2311</th>\n",
              "      <td>2014</td>\n",
              "      <td>275000</td>\n",
              "      <td>30000</td>\n",
              "      <td>1</td>\n",
              "      <td>1</td>\n",
              "      <td>1</td>\n",
              "      <td>1</td>\n",
              "    </tr>\n",
              "    <tr>\n",
              "      <th>4335</th>\n",
              "      <td>2014</td>\n",
              "      <td>409999</td>\n",
              "      <td>80000</td>\n",
              "      <td>2</td>\n",
              "      <td>1</td>\n",
              "      <td>1</td>\n",
              "      <td>2</td>\n",
              "    </tr>\n",
              "  </tbody>\n",
              "</table>\n",
              "<p>868 rows × 7 columns</p>\n",
              "</div>\n",
              "      <button class=\"colab-df-convert\" onclick=\"convertToInteractive('df-967a455c-c323-43a4-8840-b5ca1f02afd4')\"\n",
              "              title=\"Convert this dataframe to an interactive table.\"\n",
              "              style=\"display:none;\">\n",
              "        \n",
              "  <svg xmlns=\"http://www.w3.org/2000/svg\" height=\"24px\"viewBox=\"0 0 24 24\"\n",
              "       width=\"24px\">\n",
              "    <path d=\"M0 0h24v24H0V0z\" fill=\"none\"/>\n",
              "    <path d=\"M18.56 5.44l.94 2.06.94-2.06 2.06-.94-2.06-.94-.94-2.06-.94 2.06-2.06.94zm-11 1L8.5 8.5l.94-2.06 2.06-.94-2.06-.94L8.5 2.5l-.94 2.06-2.06.94zm10 10l.94 2.06.94-2.06 2.06-.94-2.06-.94-.94-2.06-.94 2.06-2.06.94z\"/><path d=\"M17.41 7.96l-1.37-1.37c-.4-.4-.92-.59-1.43-.59-.52 0-1.04.2-1.43.59L10.3 9.45l-7.72 7.72c-.78.78-.78 2.05 0 2.83L4 21.41c.39.39.9.59 1.41.59.51 0 1.02-.2 1.41-.59l7.78-7.78 2.81-2.81c.8-.78.8-2.07 0-2.86zM5.41 20L4 18.59l7.72-7.72 1.47 1.35L5.41 20z\"/>\n",
              "  </svg>\n",
              "      </button>\n",
              "      \n",
              "  <style>\n",
              "    .colab-df-container {\n",
              "      display:flex;\n",
              "      flex-wrap:wrap;\n",
              "      gap: 12px;\n",
              "    }\n",
              "\n",
              "    .colab-df-convert {\n",
              "      background-color: #E8F0FE;\n",
              "      border: none;\n",
              "      border-radius: 50%;\n",
              "      cursor: pointer;\n",
              "      display: none;\n",
              "      fill: #1967D2;\n",
              "      height: 32px;\n",
              "      padding: 0 0 0 0;\n",
              "      width: 32px;\n",
              "    }\n",
              "\n",
              "    .colab-df-convert:hover {\n",
              "      background-color: #E2EBFA;\n",
              "      box-shadow: 0px 1px 2px rgba(60, 64, 67, 0.3), 0px 1px 3px 1px rgba(60, 64, 67, 0.15);\n",
              "      fill: #174EA6;\n",
              "    }\n",
              "\n",
              "    [theme=dark] .colab-df-convert {\n",
              "      background-color: #3B4455;\n",
              "      fill: #D2E3FC;\n",
              "    }\n",
              "\n",
              "    [theme=dark] .colab-df-convert:hover {\n",
              "      background-color: #434B5C;\n",
              "      box-shadow: 0px 1px 3px 1px rgba(0, 0, 0, 0.15);\n",
              "      filter: drop-shadow(0px 1px 2px rgba(0, 0, 0, 0.3));\n",
              "      fill: #FFFFFF;\n",
              "    }\n",
              "  </style>\n",
              "\n",
              "      <script>\n",
              "        const buttonEl =\n",
              "          document.querySelector('#df-967a455c-c323-43a4-8840-b5ca1f02afd4 button.colab-df-convert');\n",
              "        buttonEl.style.display =\n",
              "          google.colab.kernel.accessAllowed ? 'block' : 'none';\n",
              "\n",
              "        async function convertToInteractive(key) {\n",
              "          const element = document.querySelector('#df-967a455c-c323-43a4-8840-b5ca1f02afd4');\n",
              "          const dataTable =\n",
              "            await google.colab.kernel.invokeFunction('convertToInteractive',\n",
              "                                                     [key], {});\n",
              "          if (!dataTable) return;\n",
              "\n",
              "          const docLinkHtml = 'Like what you see? Visit the ' +\n",
              "            '<a target=\"_blank\" href=https://colab.research.google.com/notebooks/data_table.ipynb>data table notebook</a>'\n",
              "            + ' to learn more about interactive tables.';\n",
              "          element.innerHTML = '';\n",
              "          dataTable['output_type'] = 'display_data';\n",
              "          await google.colab.output.renderOutput(dataTable, element);\n",
              "          const docLink = document.createElement('div');\n",
              "          docLink.innerHTML = docLinkHtml;\n",
              "          element.appendChild(docLink);\n",
              "        }\n",
              "      </script>\n",
              "    </div>\n",
              "  </div>\n",
              "  "
            ]
          },
          "metadata": {},
          "execution_count": 27
        }
      ]
    },
    {
      "cell_type": "code",
      "source": [
        "# y_test = testing_data['Price Category']\n",
        "# X_test = testing_data.drop(['Price Category'], axis=1)"
      ],
      "metadata": {
        "id": "LZmtG4iopGrF"
      },
      "id": "LZmtG4iopGrF",
      "execution_count": null,
      "outputs": []
    },
    {
      "cell_type": "code",
      "source": [
        "import lightgbm\n",
        "\n",
        "train_data = lightgbm.Dataset(X_train, y_train)\n",
        "test_data = lightgbm.Dataset(X_test, label=y_test)"
      ],
      "metadata": {
        "id": "CfL_O0jUxjK-"
      },
      "id": "CfL_O0jUxjK-",
      "execution_count": null,
      "outputs": []
    },
    {
      "cell_type": "code",
      "source": [
        "parameters = {\n",
        "    'application': 'binary',\n",
        "    'objective': 'binary',\n",
        "    'metric': 'auc',\n",
        "    'is_unbalance': 'true',\n",
        "    'boosting': 'gbdt',\n",
        "    'num_leaves': 31,\n",
        "    'feature_fraction': 0.5,\n",
        "    'bagging_fraction': 0.5,\n",
        "    'bagging_freq': 20,\n",
        "    'learning_rate': 0.05,\n",
        "    'verbose': 0\n",
        "}\n",
        "\n",
        "model = lightgbm.train(parameters,\n",
        "                       train_data,\n",
        "                       valid_sets=test_data,\n",
        "                       num_boost_round=500,\n",
        "                       early_stopping_rounds=10)"
      ],
      "metadata": {
        "colab": {
          "base_uri": "https://localhost:8080/"
        },
        "id": "Nv8pC_eSv3hU",
        "outputId": "fe0760e3-3c88-453c-9be0-f2879304c7b0"
      },
      "id": "Nv8pC_eSv3hU",
      "execution_count": null,
      "outputs": [
        {
          "output_type": "stream",
          "name": "stdout",
          "text": [
            "[1]\tvalid_0's auc: 1\n",
            "Training until validation scores don't improve for 10 rounds.\n",
            "[2]\tvalid_0's auc: 1\n",
            "[3]\tvalid_0's auc: 1\n",
            "[4]\tvalid_0's auc: 1\n",
            "[5]\tvalid_0's auc: 1\n",
            "[6]\tvalid_0's auc: 1\n",
            "[7]\tvalid_0's auc: 1\n",
            "[8]\tvalid_0's auc: 1\n",
            "[9]\tvalid_0's auc: 1\n",
            "[10]\tvalid_0's auc: 1\n",
            "[11]\tvalid_0's auc: 1\n",
            "Early stopping, best iteration is:\n",
            "[1]\tvalid_0's auc: 1\n"
          ]
        }
      ]
    },
    {
      "cell_type": "code",
      "source": [
        "def run_lgb(X_train, y_train, X_test, y_test, test_X):\n",
        "    params = {\n",
        "        \"objective\" : \"regression\",\n",
        "        \"metric\" : \"rmse\",\n",
        "        \"num_leaves\" : 40,\n",
        "        \"learning_rate\" : 0.004,\n",
        "        \"bagging_fraction\" : 0.6,\n",
        "        \"feature_fraction\" : 0.6,\n",
        "        \"bagging_frequency\" : 6,\n",
        "        \"bagging_seed\" : 42,\n",
        "        \"verbosity\" : -1,\n",
        "        \"seed\": 42\n",
        "    }\n",
        "    lgtrain = lgb.Dataset(X_train, label=y_train)\n",
        "    lgval = lgb.Dataset(X_test, label=y_test)\n",
        "    evals_result = {}\n",
        "    model = lgb.train(params, lgtrain, 5000, \n",
        "                      valid_sets=[lgtrain, lgval], \n",
        "                      early_stopping_rounds=100, \n",
        "                      verbose_eval=150, \n",
        "                      evals_result=evals_result)\n",
        "    \n",
        "    pred_test_y = np.expm1(model.predict(test_X, num_iteration=model.best_iteration))\n",
        "    return pred_test_y, model, evals_result"
      ],
      "metadata": {
        "id": "0kbfyzCfBhPe"
      },
      "id": "0kbfyzCfBhPe",
      "execution_count": null,
      "outputs": []
    },
    {
      "cell_type": "markdown",
      "source": [
        "###4.2 Random forest"
      ],
      "metadata": {
        "id": "QN-DXKk0VFBV"
      },
      "id": "QN-DXKk0VFBV"
    },
    {
      "cell_type": "code",
      "source": [
        "pip install --upgrade category_encoders"
      ],
      "metadata": {
        "colab": {
          "base_uri": "https://localhost:8080/"
        },
        "id": "mU4GuAuvbrPr",
        "outputId": "a4f9ce42-96e3-4733-e681-678660a49b69"
      },
      "id": "mU4GuAuvbrPr",
      "execution_count": null,
      "outputs": [
        {
          "output_type": "stream",
          "name": "stdout",
          "text": [
            "Requirement already satisfied: category_encoders in /usr/local/lib/python3.7/dist-packages (2.4.0)\n",
            "Requirement already satisfied: scipy>=1.0.0 in /usr/local/lib/python3.7/dist-packages (from category_encoders) (1.4.1)\n",
            "Requirement already satisfied: numpy>=1.14.0 in /usr/local/lib/python3.7/dist-packages (from category_encoders) (1.21.6)\n",
            "Requirement already satisfied: pandas>=0.21.1 in /usr/local/lib/python3.7/dist-packages (from category_encoders) (1.3.5)\n",
            "Requirement already satisfied: scikit-learn>=0.20.0 in /usr/local/lib/python3.7/dist-packages (from category_encoders) (1.0.2)\n",
            "Requirement already satisfied: patsy>=0.5.1 in /usr/local/lib/python3.7/dist-packages (from category_encoders) (0.5.2)\n",
            "Requirement already satisfied: statsmodels>=0.9.0 in /usr/local/lib/python3.7/dist-packages (from category_encoders) (0.10.2)\n",
            "Requirement already satisfied: pytz>=2017.3 in /usr/local/lib/python3.7/dist-packages (from pandas>=0.21.1->category_encoders) (2022.1)\n",
            "Requirement already satisfied: python-dateutil>=2.7.3 in /usr/local/lib/python3.7/dist-packages (from pandas>=0.21.1->category_encoders) (2.8.2)\n",
            "Requirement already satisfied: six in /usr/local/lib/python3.7/dist-packages (from patsy>=0.5.1->category_encoders) (1.15.0)\n",
            "Requirement already satisfied: threadpoolctl>=2.0.0 in /usr/local/lib/python3.7/dist-packages (from scikit-learn>=0.20.0->category_encoders) (3.1.0)\n",
            "Requirement already satisfied: joblib>=0.11 in /usr/local/lib/python3.7/dist-packages (from scikit-learn>=0.20.0->category_encoders) (1.1.0)\n"
          ]
        }
      ]
    },
    {
      "cell_type": "code",
      "source": [
        "encoder = ce.OrdinalEncoder(cols=['year',\t'selling_price',\t'km_driven',\t'fuel',\t'seller_type',\t'transmission',\t'owner'])\n",
        "\n",
        "\n",
        "X_train = encoder.fit_transform(X_train)\n",
        "\n",
        "X_test = encoder.transform(X_test)"
      ],
      "metadata": {
        "id": "LZ8Dr0MvVDzJ"
      },
      "id": "LZ8Dr0MvVDzJ",
      "execution_count": null,
      "outputs": []
    },
    {
      "cell_type": "code",
      "source": [
        "X_train.head()"
      ],
      "metadata": {
        "colab": {
          "base_uri": "https://localhost:8080/",
          "height": 206
        },
        "id": "r1QvYecbVD6V",
        "outputId": "0c156ecc-ec16-45ef-9c50-5b435e99921c"
      },
      "id": "r1QvYecbVD6V",
      "execution_count": null,
      "outputs": [
        {
          "output_type": "execute_result",
          "data": {
            "text/plain": [
              "      year  selling_price  km_driven  fuel  seller_type  transmission  owner\n",
              "1791     1              1          1     1            1             1      1\n",
              "1748     2              2          2     1            2             1      2\n",
              "3794     1              3          3     1            1             1      3\n",
              "1571     2              4          4     2            1             1      2\n",
              "2903     3              5          5     2            1             1      2"
            ],
            "text/html": [
              "\n",
              "  <div id=\"df-0e99d11b-ff93-4bdd-a9f6-eafb7f07a547\">\n",
              "    <div class=\"colab-df-container\">\n",
              "      <div>\n",
              "<style scoped>\n",
              "    .dataframe tbody tr th:only-of-type {\n",
              "        vertical-align: middle;\n",
              "    }\n",
              "\n",
              "    .dataframe tbody tr th {\n",
              "        vertical-align: top;\n",
              "    }\n",
              "\n",
              "    .dataframe thead th {\n",
              "        text-align: right;\n",
              "    }\n",
              "</style>\n",
              "<table border=\"1\" class=\"dataframe\">\n",
              "  <thead>\n",
              "    <tr style=\"text-align: right;\">\n",
              "      <th></th>\n",
              "      <th>year</th>\n",
              "      <th>selling_price</th>\n",
              "      <th>km_driven</th>\n",
              "      <th>fuel</th>\n",
              "      <th>seller_type</th>\n",
              "      <th>transmission</th>\n",
              "      <th>owner</th>\n",
              "    </tr>\n",
              "  </thead>\n",
              "  <tbody>\n",
              "    <tr>\n",
              "      <th>1791</th>\n",
              "      <td>1</td>\n",
              "      <td>1</td>\n",
              "      <td>1</td>\n",
              "      <td>1</td>\n",
              "      <td>1</td>\n",
              "      <td>1</td>\n",
              "      <td>1</td>\n",
              "    </tr>\n",
              "    <tr>\n",
              "      <th>1748</th>\n",
              "      <td>2</td>\n",
              "      <td>2</td>\n",
              "      <td>2</td>\n",
              "      <td>1</td>\n",
              "      <td>2</td>\n",
              "      <td>1</td>\n",
              "      <td>2</td>\n",
              "    </tr>\n",
              "    <tr>\n",
              "      <th>3794</th>\n",
              "      <td>1</td>\n",
              "      <td>3</td>\n",
              "      <td>3</td>\n",
              "      <td>1</td>\n",
              "      <td>1</td>\n",
              "      <td>1</td>\n",
              "      <td>3</td>\n",
              "    </tr>\n",
              "    <tr>\n",
              "      <th>1571</th>\n",
              "      <td>2</td>\n",
              "      <td>4</td>\n",
              "      <td>4</td>\n",
              "      <td>2</td>\n",
              "      <td>1</td>\n",
              "      <td>1</td>\n",
              "      <td>2</td>\n",
              "    </tr>\n",
              "    <tr>\n",
              "      <th>2903</th>\n",
              "      <td>3</td>\n",
              "      <td>5</td>\n",
              "      <td>5</td>\n",
              "      <td>2</td>\n",
              "      <td>1</td>\n",
              "      <td>1</td>\n",
              "      <td>2</td>\n",
              "    </tr>\n",
              "  </tbody>\n",
              "</table>\n",
              "</div>\n",
              "      <button class=\"colab-df-convert\" onclick=\"convertToInteractive('df-0e99d11b-ff93-4bdd-a9f6-eafb7f07a547')\"\n",
              "              title=\"Convert this dataframe to an interactive table.\"\n",
              "              style=\"display:none;\">\n",
              "        \n",
              "  <svg xmlns=\"http://www.w3.org/2000/svg\" height=\"24px\"viewBox=\"0 0 24 24\"\n",
              "       width=\"24px\">\n",
              "    <path d=\"M0 0h24v24H0V0z\" fill=\"none\"/>\n",
              "    <path d=\"M18.56 5.44l.94 2.06.94-2.06 2.06-.94-2.06-.94-.94-2.06-.94 2.06-2.06.94zm-11 1L8.5 8.5l.94-2.06 2.06-.94-2.06-.94L8.5 2.5l-.94 2.06-2.06.94zm10 10l.94 2.06.94-2.06 2.06-.94-2.06-.94-.94-2.06-.94 2.06-2.06.94z\"/><path d=\"M17.41 7.96l-1.37-1.37c-.4-.4-.92-.59-1.43-.59-.52 0-1.04.2-1.43.59L10.3 9.45l-7.72 7.72c-.78.78-.78 2.05 0 2.83L4 21.41c.39.39.9.59 1.41.59.51 0 1.02-.2 1.41-.59l7.78-7.78 2.81-2.81c.8-.78.8-2.07 0-2.86zM5.41 20L4 18.59l7.72-7.72 1.47 1.35L5.41 20z\"/>\n",
              "  </svg>\n",
              "      </button>\n",
              "      \n",
              "  <style>\n",
              "    .colab-df-container {\n",
              "      display:flex;\n",
              "      flex-wrap:wrap;\n",
              "      gap: 12px;\n",
              "    }\n",
              "\n",
              "    .colab-df-convert {\n",
              "      background-color: #E8F0FE;\n",
              "      border: none;\n",
              "      border-radius: 50%;\n",
              "      cursor: pointer;\n",
              "      display: none;\n",
              "      fill: #1967D2;\n",
              "      height: 32px;\n",
              "      padding: 0 0 0 0;\n",
              "      width: 32px;\n",
              "    }\n",
              "\n",
              "    .colab-df-convert:hover {\n",
              "      background-color: #E2EBFA;\n",
              "      box-shadow: 0px 1px 2px rgba(60, 64, 67, 0.3), 0px 1px 3px 1px rgba(60, 64, 67, 0.15);\n",
              "      fill: #174EA6;\n",
              "    }\n",
              "\n",
              "    [theme=dark] .colab-df-convert {\n",
              "      background-color: #3B4455;\n",
              "      fill: #D2E3FC;\n",
              "    }\n",
              "\n",
              "    [theme=dark] .colab-df-convert:hover {\n",
              "      background-color: #434B5C;\n",
              "      box-shadow: 0px 1px 3px 1px rgba(0, 0, 0, 0.15);\n",
              "      filter: drop-shadow(0px 1px 2px rgba(0, 0, 0, 0.3));\n",
              "      fill: #FFFFFF;\n",
              "    }\n",
              "  </style>\n",
              "\n",
              "      <script>\n",
              "        const buttonEl =\n",
              "          document.querySelector('#df-0e99d11b-ff93-4bdd-a9f6-eafb7f07a547 button.colab-df-convert');\n",
              "        buttonEl.style.display =\n",
              "          google.colab.kernel.accessAllowed ? 'block' : 'none';\n",
              "\n",
              "        async function convertToInteractive(key) {\n",
              "          const element = document.querySelector('#df-0e99d11b-ff93-4bdd-a9f6-eafb7f07a547');\n",
              "          const dataTable =\n",
              "            await google.colab.kernel.invokeFunction('convertToInteractive',\n",
              "                                                     [key], {});\n",
              "          if (!dataTable) return;\n",
              "\n",
              "          const docLinkHtml = 'Like what you see? Visit the ' +\n",
              "            '<a target=\"_blank\" href=https://colab.research.google.com/notebooks/data_table.ipynb>data table notebook</a>'\n",
              "            + ' to learn more about interactive tables.';\n",
              "          element.innerHTML = '';\n",
              "          dataTable['output_type'] = 'display_data';\n",
              "          await google.colab.output.renderOutput(dataTable, element);\n",
              "          const docLink = document.createElement('div');\n",
              "          docLink.innerHTML = docLinkHtml;\n",
              "          element.appendChild(docLink);\n",
              "        }\n",
              "      </script>\n",
              "    </div>\n",
              "  </div>\n",
              "  "
            ]
          },
          "metadata": {},
          "execution_count": 34
        }
      ]
    },
    {
      "cell_type": "markdown",
      "source": [
        "##### We now have training and test set ready for model building.\n",
        "\n",
        "##### With estimator = 10"
      ],
      "metadata": {
        "id": "QdooUyvlcZiB"
      },
      "id": "QdooUyvlcZiB"
    },
    {
      "cell_type": "code",
      "source": [
        "\n",
        "# instantiate the classifier \n",
        "\n",
        "rf = RandomForestClassifier(random_state=0)\n",
        "# fit the model\n",
        "\n",
        "rf.fit(X_train, y_train)\n",
        "# Predict the Test dataset results\n",
        "\n",
        "y_pred = rf.predict(X_test)\n",
        "# Check accuracy score \n",
        "\n",
        "from sklearn.metrics import accuracy_score\n",
        "\n",
        "print('Model accuracy score with 10 decision-trees : {0:0.4f}'. format(accuracy_score(y_test, y_pred)))\n"
      ],
      "metadata": {
        "colab": {
          "base_uri": "https://localhost:8080/"
        },
        "id": "zO8tW134VEBF",
        "outputId": "3b071f1f-3927-4dcd-96f4-a27031671918"
      },
      "id": "zO8tW134VEBF",
      "execution_count": null,
      "outputs": [
        {
          "output_type": "stream",
          "name": "stdout",
          "text": [
            "Model accuracy score with 10 decision-trees : 0.9320\n"
          ]
        }
      ]
    },
    {
      "cell_type": "markdown",
      "source": [
        "##### Estimator = 100"
      ],
      "metadata": {
        "id": "QIKoQuv_dVLl"
      },
      "id": "QIKoQuv_dVLl"
    },
    {
      "cell_type": "code",
      "source": [
        "rfc_100 = RandomForestClassifier(n_estimators=100, random_state=0)\n",
        "\n",
        "# fit the model to the training set\n",
        "\n",
        "rfc_100.fit(X_train, y_train)\n",
        "# Predict on the test set results\n",
        "\n",
        "y_pred_100 = rfc_100.predict(X_test)\n",
        "# Check accuracy score \n",
        "\n",
        "print('Model accuracy score with 100 decision-trees : {0:0.4f}'. format(accuracy_score(y_test, y_pred_100)))"
      ],
      "metadata": {
        "colab": {
          "base_uri": "https://localhost:8080/"
        },
        "id": "SAwLnxU0VEIB",
        "outputId": "caad0ed5-8412-4a68-fa8b-4f7dc774e9e5"
      },
      "id": "SAwLnxU0VEIB",
      "execution_count": null,
      "outputs": [
        {
          "output_type": "stream",
          "name": "stdout",
          "text": [
            "Model accuracy score with 100 decision-trees : 0.9320\n"
          ]
        }
      ]
    },
    {
      "cell_type": "code",
      "source": [
        "clf = RandomForestClassifier(n_estimators=100, random_state=0)\n",
        "\n",
        "# fit the model to the training set\n",
        "\n",
        "clf.fit(X_train, y_train)"
      ],
      "metadata": {
        "colab": {
          "base_uri": "https://localhost:8080/"
        },
        "id": "Gc9LHx8LkUOM",
        "outputId": "03094eca-fd47-4a35-e870-baa62003fc84"
      },
      "id": "Gc9LHx8LkUOM",
      "execution_count": null,
      "outputs": [
        {
          "output_type": "execute_result",
          "data": {
            "text/plain": [
              "RandomForestClassifier(random_state=0)"
            ]
          },
          "metadata": {},
          "execution_count": 38
        }
      ]
    },
    {
      "cell_type": "code",
      "source": [
        "feature_scores = pd.Series(clf.feature_importances_, index=X_train.columns).sort_values(ascending=False)\n",
        "\n",
        "feature_scores"
      ],
      "metadata": {
        "colab": {
          "base_uri": "https://localhost:8080/"
        },
        "id": "WL4bmp07kcPt",
        "outputId": "14368a1a-0cf3-499a-9087-802c08526925"
      },
      "id": "WL4bmp07kcPt",
      "execution_count": null,
      "outputs": [
        {
          "output_type": "execute_result",
          "data": {
            "text/plain": [
              "selling_price    0.370793\n",
              "year             0.274961\n",
              "km_driven        0.148468\n",
              "transmission     0.107522\n",
              "fuel             0.050486\n",
              "owner            0.030600\n",
              "seller_type      0.017169\n",
              "dtype: float64"
            ]
          },
          "metadata": {},
          "execution_count": 39
        }
      ]
    },
    {
      "cell_type": "markdown",
      "source": [
        "##### We can see that the most important feature is selling_price and least important feature is seller_type"
      ],
      "metadata": {
        "id": "RN7nRPdvkp4c"
      },
      "id": "RN7nRPdvkp4c"
    },
    {
      "cell_type": "code",
      "source": [
        "# Creating a seaborn bar plot\n",
        "\n",
        "sns.barplot(x=feature_scores, y=feature_scores.index)\n",
        "\n",
        "# Add labels to the graph\n",
        "\n",
        "plt.xlabel('Feature Importance Score')\n",
        "\n",
        "plt.ylabel('Features')\n",
        "# Add title to the graph\n",
        "\n",
        "plt.title(\"Visualizing Important Features\")\n",
        "\n",
        "# Visualize the graph\n",
        "\n",
        "plt.show()"
      ],
      "metadata": {
        "colab": {
          "base_uri": "https://localhost:8080/",
          "height": 295
        },
        "id": "_SD417skkcUH",
        "outputId": "8ab44d95-2c69-4d72-bc77-fdcec2a1db8f"
      },
      "id": "_SD417skkcUH",
      "execution_count": null,
      "outputs": [
        {
          "output_type": "display_data",
          "data": {
            "text/plain": [
              "<Figure size 432x288 with 1 Axes>"
            ],
            "image/png": "[encoded data removed]"
          },
          "metadata": {
            "needs_background": "light"
          }
        }
      ]
    },
    {
      "cell_type": "code",
      "source": [
        "from sklearn.metrics import classification_report\n",
        "\n",
        "print(classification_report(y_test, y_pred))"
      ],
      "metadata": {
        "colab": {
          "base_uri": "https://localhost:8080/"
        },
        "id": "wxw9SK4-k1hZ",
        "outputId": "311e8e26-cbdb-45c8-d8b0-beceec00f7a5"
      },
      "id": "wxw9SK4-k1hZ",
      "execution_count": null,
      "outputs": [
        {
          "output_type": "stream",
          "name": "stdout",
          "text": [
            "              precision    recall  f1-score   support\n",
            "\n",
            "           1       0.74      0.76      0.75        84\n",
            "           2       0.95      0.97      0.96       726\n",
            "           3       0.93      0.74      0.83        58\n",
            "\n",
            "    accuracy                           0.93       868\n",
            "   macro avg       0.88      0.82      0.85       868\n",
            "weighted avg       0.93      0.93      0.93       868\n",
            "\n"
          ]
        }
      ]
    },
    {
      "cell_type": "markdown",
      "source": [
        "### 4.3 Decision Tree"
      ],
      "metadata": {
        "id": "uJCXUvvdwA1X"
      },
      "id": "uJCXUvvdwA1X"
    },
    {
      "cell_type": "code",
      "source": [
        "from sklearn.metrics import accuracy_score, confusion_matrix, classification_report\n",
        "\n",
        "def print_score(clf, X_train, y_train, X_test, y_test, train=True):\n",
        "    if train:\n",
        "        pred = clf.predict(X_train)\n",
        "        clf_report = pd.DataFrame(classification_report(y_train, pred, output_dict=True))\n",
        "        print(\"Train Result:\\n\")\n",
        "        print(f\"Accuracy Score: {accuracy_score(y_train, pred) * 100:.2f}%\")\n",
        "       \n",
        "        print(f\"CLASSIFICATION REPORT:\\n{clf_report}\")\n",
        "     \n",
        "        print(f\"Confusion Matrix: \\n {confusion_matrix(y_train, pred)}\\n\")\n",
        "        \n",
        "    elif train==False:\n",
        "        pred = clf.predict(X_test)\n",
        "        clf_report = pd.DataFrame(classification_report(y_test, pred, output_dict=True))\n",
        "        print(\"Test Result:\\n\")        \n",
        "        print(f\"Accuracy Score: {accuracy_score(y_test, pred) * 100:.2f}%\")\n",
        "       \n",
        "        print(f\"CLASSIFICATION REPORT:\\n{clf_report}\")\n",
        "\n",
        "        print(f\"Confusion Matrix: \\n {confusion_matrix(y_test, pred)}\\n\")\n"
      ],
      "metadata": {
        "id": "DQBvJx5kwToa"
      },
      "id": "DQBvJx5kwToa",
      "execution_count": null,
      "outputs": []
    },
    {
      "cell_type": "code",
      "source": [
        "from sklearn.tree import DecisionTreeClassifier\n",
        "\n",
        "tree_clf = DecisionTreeClassifier(random_state=42)\n",
        "tree_clf.fit(X_train, y_train)\n",
        "\n",
        "print_score(tree_clf, X_train, y_train, X_test, y_test, train=True)\n",
        "print_score(tree_clf, X_train, y_train, X_test, y_test, train=False)"
      ],
      "metadata": {
        "colab": {
          "base_uri": "https://localhost:8080/"
        },
        "id": "FKyzyvGFk1oo",
        "outputId": "a66f43fa-57b0-4281-9977-437dada43b66"
      },
      "id": "FKyzyvGFk1oo",
      "execution_count": null,
      "outputs": [
        {
          "output_type": "stream",
          "name": "stdout",
          "text": [
            "Train Result:\n",
            "\n",
            "Accuracy Score: 100.00%\n",
            "CLASSIFICATION REPORT:\n",
            "               1       2      3  accuracy  macro avg  weighted avg\n",
            "precision    1.0     1.0    1.0       1.0        1.0           1.0\n",
            "recall       1.0     1.0    1.0       1.0        1.0           1.0\n",
            "f1-score     1.0     1.0    1.0       1.0        1.0           1.0\n",
            "support    295.0  2968.0  209.0       1.0     3472.0        3472.0\n",
            "Confusion Matrix: \n",
            " [[ 295    0    0]\n",
            " [   0 2968    0]\n",
            " [   0    0  209]]\n",
            "\n",
            "Test Result:\n",
            "\n",
            "Accuracy Score: 91.59%\n",
            "CLASSIFICATION REPORT:\n",
            "                   1           2          3  accuracy   macro avg  \\\n",
            "precision   0.639640    0.968661   0.800000  0.915899    0.802767   \n",
            "recall      0.845238    0.936639   0.758621  0.915899    0.846833   \n",
            "f1-score    0.728205    0.952381   0.778761  0.915899    0.819782   \n",
            "support    84.000000  726.000000  58.000000  0.915899  868.000000   \n",
            "\n",
            "           weighted avg  \n",
            "precision      0.925550  \n",
            "recall         0.915899  \n",
            "f1-score       0.919085  \n",
            "support      868.000000  \n",
            "Confusion Matrix: \n",
            " [[ 71  13   0]\n",
            " [ 35 680  11]\n",
            " [  5   9  44]]\n",
            "\n"
          ]
        }
      ]
    },
    {
      "cell_type": "markdown",
      "source": [
        "#### decision tree with the hyperparamters"
      ],
      "metadata": {
        "id": "uGLU2zx4wEcn"
      },
      "id": "uGLU2zx4wEcn"
    },
    {
      "cell_type": "code",
      "source": [
        "from sklearn.tree import DecisionTreeClassifier\n",
        "from sklearn.model_selection import GridSearchCV\n",
        "\n",
        "params = {\n",
        "    \"criterion\":(\"gini\", \"entropy\"), \n",
        "    \"splitter\":(\"best\", \"random\"), \n",
        "    \"max_depth\":(list(range(1, 20))), \n",
        "    \"min_samples_split\":[2, 3, 4], \n",
        "    \"min_samples_leaf\":list(range(1, 20)), \n",
        "}\n",
        "\n",
        "\n",
        "tree_clf = DecisionTreeClassifier(random_state=42)\n",
        "tree_cv = GridSearchCV(tree_clf, params, scoring=\"accuracy\", n_jobs=-1, verbose=1, cv=3)\n",
        "tree_cv.fit(X_train, y_train)\n",
        "best_params = tree_cv.best_params_\n",
        "print(f\"Best paramters: {best_params})\")\n",
        "\n",
        "tree_clf = DecisionTreeClassifier(**best_params)\n",
        "tree_clf.fit(X_train, y_train)\n",
        "print_score(tree_clf, X_train, y_train, X_test, y_test, train=True)\n",
        "print_score(tree_clf, X_train, y_train, X_test, y_test, train=False)"
      ],
      "metadata": {
        "colab": {
          "base_uri": "https://localhost:8080/"
        },
        "id": "1J9xK39ay4_w",
        "outputId": "7895f827-5dd4-4e1a-debf-9d2634c8fe85"
      },
      "id": "1J9xK39ay4_w",
      "execution_count": null,
      "outputs": [
        {
          "output_type": "stream",
          "name": "stdout",
          "text": [
            "Fitting 3 folds for each of 4332 candidates, totalling 12996 fits\n",
            "Best paramters: {'criterion': 'gini', 'max_depth': 10, 'min_samples_leaf': 3, 'min_samples_split': 2, 'splitter': 'best'})\n",
            "Train Result:\n",
            "\n",
            "Accuracy Score: 97.21%\n",
            "CLASSIFICATION REPORT:\n",
            "                    1            2           3  accuracy    macro avg  \\\n",
            "precision    0.945392     0.978029    0.914286  0.972062     0.945903   \n",
            "recall       0.938983     0.989892    0.765550  0.972062     0.898142   \n",
            "f1-score     0.942177     0.983925    0.833333  0.972062     0.919812   \n",
            "support    295.000000  2968.000000  209.000000  0.972062  3472.000000   \n",
            "\n",
            "           weighted avg  \n",
            "precision      0.971419  \n",
            "recall         0.972062  \n",
            "f1-score       0.971313  \n",
            "support     3472.000000  \n",
            "Confusion Matrix: \n",
            " [[ 277   18    0]\n",
            " [  15 2938   15]\n",
            " [   1   48  160]]\n",
            "\n",
            "Test Result:\n",
            "\n",
            "Accuracy Score: 91.59%\n",
            "CLASSIFICATION REPORT:\n",
            "                   1           2          3  accuracy   macro avg  \\\n",
            "precision   0.669811    0.959441   0.808511  0.915899    0.812588   \n",
            "recall      0.845238    0.944904   0.655172  0.915899    0.815105   \n",
            "f1-score    0.747368    0.952117   0.723810  0.915899    0.807765   \n",
            "support    84.000000  726.000000  58.000000  0.915899  868.000000   \n",
            "\n",
            "           weighted avg  \n",
            "precision      0.921327  \n",
            "recall         0.915899  \n",
            "f1-score       0.917047  \n",
            "support      868.000000  \n",
            "Confusion Matrix: \n",
            " [[ 71  13   0]\n",
            " [ 31 686   9]\n",
            " [  4  16  38]]\n",
            "\n"
          ]
        }
      ]
    },
    {
      "cell_type": "code",
      "source": [
        ""
      ],
      "metadata": {
        "id": "yKsGtnYjy5Oh"
      },
      "id": "yKsGtnYjy5Oh",
      "execution_count": null,
      "outputs": []
    },
    {
      "cell_type": "markdown",
      "source": [
        "### 4.4 XGBoost"
      ],
      "metadata": {
        "id": "wur5eAew6JWg"
      },
      "id": "wur5eAew6JWg"
    },
    {
      "cell_type": "code",
      "source": [
        "\n",
        "df.info()"
      ],
      "metadata": {
        "colab": {
          "base_uri": "https://localhost:8080/"
        },
        "id": "R3ZJCf309XU_",
        "outputId": "63511f2e-15e6-4e42-a222-ddeccce44340"
      },
      "id": "R3ZJCf309XU_",
      "execution_count": null,
      "outputs": [
        {
          "output_type": "stream",
          "name": "stdout",
          "text": [
            "<class 'pandas.core.frame.DataFrame'>\n",
            "RangeIndex: 4340 entries, 0 to 4339\n",
            "Data columns (total 8 columns):\n",
            " #   Column          Non-Null Count  Dtype\n",
            "---  ------          --------------  -----\n",
            " 0   year            4340 non-null   int64\n",
            " 1   selling_price   4340 non-null   int64\n",
            " 2   km_driven       4340 non-null   int64\n",
            " 3   fuel            4340 non-null   int64\n",
            " 4   seller_type     4340 non-null   int64\n",
            " 5   transmission    4340 non-null   int64\n",
            " 6   owner           4340 non-null   int64\n",
            " 7   Price Category  4340 non-null   int64\n",
            "dtypes: int64(8)\n",
            "memory usage: 271.4 KB\n"
          ]
        }
      ]
    },
    {
      "cell_type": "markdown",
      "source": [
        "##### Seperating for testing and training"
      ],
      "metadata": {
        "id": "yn38pPB7-dZm"
      },
      "id": "yn38pPB7-dZm"
    },
    {
      "cell_type": "markdown",
      "source": [
        "##### Now we will divide our dataset into 2 parts, 80% into training and 20% in testing data.\n"
      ],
      "metadata": {
        "id": "7hvsTSo5nZ5i"
      },
      "id": "7hvsTSo5nZ5i"
    },
    {
      "cell_type": "code",
      "source": [
        "from sklearn.model_selection import train_test_split\n",
        "\n",
        "X_train, X_test, y_train, y_test = train_test_split(X, y, test_size=0.2, random_state=123)"
      ],
      "metadata": {
        "id": "EgXGIeHd-kYx"
      },
      "id": "EgXGIeHd-kYx",
      "execution_count": 45,
      "outputs": []
    },
    {
      "cell_type": "markdown",
      "source": [
        "##### XGB hyperparameters"
      ],
      "metadata": {
        "id": "OlaYHJbL-6xU"
      },
      "id": "OlaYHJbL-6xU"
    },
    {
      "cell_type": "code",
      "source": [
        "xg_reg = xgb.XGBRegressor(objective ='reg:linear', colsample_bytree = 0.3, learning_rate = 0.1,\n",
        "                max_depth = 5, alpha = 10, n_estimators = 10)"
      ],
      "metadata": {
        "id": "z9_KeLLo-kjf"
      },
      "id": "z9_KeLLo-kjf",
      "execution_count": 46,
      "outputs": []
    },
    {
      "cell_type": "code",
      "source": [
        "xg_reg.fit(X_train,y_train)\n",
        "\n",
        "preds = xg_reg.predict(X_test)"
      ],
      "metadata": {
        "colab": {
          "base_uri": "https://localhost:8080/"
        },
        "id": "NP9Xrqsm-vht",
        "outputId": "76036c94-bcde-4285-f1e5-4dc5fcc2199b"
      },
      "id": "NP9Xrqsm-vht",
      "execution_count": 47,
      "outputs": [
        {
          "output_type": "stream",
          "name": "stdout",
          "text": [
            "[07:20:53] WARNING: /workspace/src/objective/regression_obj.cu:152: reg:linear is now deprecated in favor of reg:squarederror.\n"
          ]
        }
      ]
    },
    {
      "cell_type": "code",
      "source": [
        "rmse = np.sqrt(mean_squared_error(y_test, preds))\n",
        "print(\"RMSE: %f\" % (rmse))"
      ],
      "metadata": {
        "colab": {
          "base_uri": "https://localhost:8080/"
        },
        "id": "J4HTnl_p-vw9",
        "outputId": "5a3f0264-f050-440f-dd82-b7a05a6eb126"
      },
      "id": "J4HTnl_p-vw9",
      "execution_count": 48,
      "outputs": [
        {
          "output_type": "stream",
          "name": "stdout",
          "text": [
            "RMSE: 0.578941\n"
          ]
        }
      ]
    },
    {
      "cell_type": "code",
      "source": [
        "from sklearn.metrics import accuracy_score\n",
        "accuracy_score(y_test, y_pred)\n",
        "# accuracy_score(y_test, y_pred, normalize=False)\n"
      ],
      "metadata": {
        "id": "9RWaOl-o_rfq",
        "colab": {
          "base_uri": "https://localhost:8080/"
        },
        "outputId": "b6769ee8-d564-4a6c-978c-af99e6e1a42a"
      },
      "id": "9RWaOl-o_rfq",
      "execution_count": 52,
      "outputs": [
        {
          "output_type": "execute_result",
          "data": {
            "text/plain": [
              "0.9320276497695853"
            ]
          },
          "metadata": {},
          "execution_count": 52
        }
      ]
    },
    {
      "cell_type": "code",
      "source": [
        ""
      ],
      "metadata": {
        "id": "c4IGwaVlFAbC"
      },
      "id": "c4IGwaVlFAbC",
      "execution_count": null,
      "outputs": []
    }
  ],
  "metadata": {
    "kernelspec": {
      "display_name": "Python 3",
      "language": "python",
      "name": "python3"
    },
    "language_info": {
      "codemirror_mode": {
        "name": "ipython",
        "version": 3
      },
      "file_extension": ".py",
      "mimetype": "text/x-python",
      "name": "python",
      "nbconvert_exporter": "python",
      "pygments_lexer": "ipython3",
      "version": "3.8.8"
    },
    "colab": {
      "name": "Dataanalyis of car sales 2.ipynb",
      "provenance": []
    }
  },
  "nbformat": 4,
  "nbformat_minor": 5
}